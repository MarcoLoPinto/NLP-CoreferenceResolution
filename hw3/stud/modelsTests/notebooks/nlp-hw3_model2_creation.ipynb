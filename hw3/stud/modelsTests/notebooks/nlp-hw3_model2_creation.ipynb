{
 "cells": [
  {
   "cell_type": "markdown",
   "id": "3fe2040e",
   "metadata": {
    "papermill": {
     "duration": 0.078963,
     "end_time": "2022-03-31T22:14:09.386664",
     "exception": false,
     "start_time": "2022-03-31T22:14:09.307701",
     "status": "completed"
    },
    "tags": []
   },
   "source": [
    "# Prerequisites"
   ]
  },
  {
   "cell_type": "code",
   "execution_count": 1,
   "metadata": {},
   "outputs": [
    {
     "name": "stderr",
     "output_type": "stream",
     "text": [
      "/home/marco/miniconda3/envs/nlp2022-hw3/lib/python3.9/site-packages/tqdm/auto.py:22: TqdmWarning: IProgress not found. Please update jupyter and ipywidgets. See https://ipywidgets.readthedocs.io/en/stable/user_install.html\n",
      "  from .autonotebook import tqdm as notebook_tqdm\n"
     ]
    }
   ],
   "source": [
    "import os, sys\n",
    "\n",
    "import numpy as np\n",
    "import tqdm\n",
    "import torch"
   ]
  },
  {
   "cell_type": "markdown",
   "id": "5424a631",
   "metadata": {
    "papermill": {
     "duration": 0.049244,
     "end_time": "2022-03-31T22:14:12.552634",
     "exception": false,
     "start_time": "2022-03-31T22:14:12.503390",
     "status": "completed"
    },
    "tags": []
   },
   "source": [
    "Important paths for the notebook:"
   ]
  },
  {
   "cell_type": "code",
   "execution_count": 2,
   "metadata": {},
   "outputs": [],
   "source": [
    "app_root = '../../../../'\n",
    "test_name = 'test2'\n",
    "datasets_path = os.path.join(app_root, 'data')\n",
    "model_dir_path = os.path.join(app_root, 'model', test_name)\n",
    "\n",
    "data_train_path = os.path.join(datasets_path, 'conllpp_train.txt')\n",
    "data_dev_path = os.path.join(datasets_path, 'conllpp_dev.txt')"
   ]
  },
  {
   "cell_type": "code",
   "execution_count": 3,
   "metadata": {},
   "outputs": [
    {
     "data": {
      "text/plain": [
       "'cuda'"
      ]
     },
     "execution_count": 3,
     "metadata": {},
     "output_type": "execute_result"
    }
   ],
   "source": [
    "sys.path.append('../../../')\n",
    "\n",
    "%load_ext autoreload\n",
    "%autoreload 2\n",
    "\n",
    "device = 'cuda' if torch.cuda.is_available() else 'cpu'\n",
    "device"
   ]
  },
  {
   "cell_type": "markdown",
   "id": "c7bc95ee",
   "metadata": {
    "papermill": {
     "duration": 0.048851,
     "end_time": "2022-03-31T22:14:13.015246",
     "exception": false,
     "start_time": "2022-03-31T22:14:12.966395",
     "status": "completed"
    },
    "tags": []
   },
   "source": [
    "Setting the seed for reproducibility:"
   ]
  },
  {
   "cell_type": "code",
   "execution_count": 4,
   "metadata": {},
   "outputs": [],
   "source": [
    "SEED = 28\n",
    "\n",
    "# random.seed(SEED) # not used\n",
    "np.random.seed(SEED)\n",
    "torch.manual_seed(SEED)\n",
    "torch.backends.cudnn.deterministic = True"
   ]
  },
  {
   "cell_type": "code",
   "execution_count": 5,
   "metadata": {},
   "outputs": [],
   "source": [
    "global_params = {\n",
    "    'batch_size': 32,\n",
    "    'PAD_TOKEN': '<pad>',\n",
    "    'UNK_TOKEN': '<unk>',\n",
    "    'transformer_name': \"bert-base-cased\",\n",
    "    'mention_tags': {\n",
    "        'p_open':  '<P>', 'p_close':  '</P>', \n",
    "        'e_open':  '<E>', 'e_close':  '</E>', \n",
    "    },\n",
    "    'ner_pad_id': -1\n",
    "}"
   ]
  },
  {
   "cell_type": "markdown",
   "id": "5a9214a0",
   "metadata": {
    "papermill": {
     "duration": 0.049393,
     "end_time": "2022-03-31T22:14:13.226777",
     "exception": false,
     "start_time": "2022-03-31T22:14:13.177384",
     "status": "completed"
    },
    "tags": []
   },
   "source": [
    "# Dataset"
   ]
  },
  {
   "cell_type": "code",
   "execution_count": 6,
   "metadata": {},
   "outputs": [],
   "source": [
    "from stud.modelsTests.dataset.NERDataset_transformer_simple import NERDataset_transformer_simple"
   ]
  },
  {
   "cell_type": "code",
   "execution_count": 7,
   "metadata": {},
   "outputs": [],
   "source": [
    "dataset_train = NERDataset_transformer_simple(\n",
    "    data_train_path, \n",
    "    tokenizer = global_params['transformer_name'])\n",
    "\n",
    "dataset_dev = NERDataset_transformer_simple(\n",
    "    data_dev_path, \n",
    "    tokenizer = global_params['transformer_name'])"
   ]
  },
  {
   "cell_type": "code",
   "execution_count": 8,
   "metadata": {},
   "outputs": [],
   "source": [
    "global_params.update({ \n",
    "    'token_embeddings_len': len(dataset_train.tokenizer),\n",
    "    'resize_token_embeddings': False, # ! not used\n",
    "})"
   ]
  },
  {
   "cell_type": "code",
   "execution_count": 9,
   "metadata": {},
   "outputs": [],
   "source": [
    "np.save(os.path.join(model_dir_path, 'global_params.npy'), global_params)"
   ]
  },
  {
   "cell_type": "markdown",
   "metadata": {},
   "source": [
    "# Dataloader"
   ]
  },
  {
   "cell_type": "code",
   "execution_count": 10,
   "metadata": {},
   "outputs": [],
   "source": [
    "from torch.utils.data import DataLoader"
   ]
  },
  {
   "cell_type": "code",
   "execution_count": 11,
   "metadata": {},
   "outputs": [],
   "source": [
    "import os\n",
    "os.environ[\"TOKENIZERS_PARALLELISM\"] = \"false\"\n",
    "num_workers = 4"
   ]
  },
  {
   "cell_type": "code",
   "execution_count": 12,
   "metadata": {},
   "outputs": [],
   "source": [
    "dataloader_train = DataLoader(\n",
    "    dataset_train,\n",
    "    batch_size=global_params['batch_size'],\n",
    "    collate_fn=dataset_train.create_collate_fn(),\n",
    "    num_workers=num_workers,\n",
    "    shuffle=True,\n",
    ")\n",
    "\n",
    "dataloader_dev = DataLoader(\n",
    "    dataset_dev,\n",
    "    batch_size=global_params['batch_size'],\n",
    "    collate_fn=dataset_dev.create_collate_fn(),\n",
    "    num_workers=num_workers,\n",
    "    shuffle=False,\n",
    ")"
   ]
  },
  {
   "cell_type": "code",
   "execution_count": 13,
   "metadata": {},
   "outputs": [],
   "source": [
    "for e in dataloader_dev:\n",
    "    ex_in = e\n",
    "    break"
   ]
  },
  {
   "cell_type": "code",
   "execution_count": 14,
   "metadata": {},
   "outputs": [
    {
     "data": {
      "text/plain": [
       "dict_keys(['input_ids', 'token_type_ids', 'attention_mask', 'ner_tags', 'ner_tags_formatted', 'output_mask'])"
      ]
     },
     "execution_count": 14,
     "metadata": {},
     "output_type": "execute_result"
    }
   ],
   "source": [
    "ex_in.keys()"
   ]
  },
  {
   "cell_type": "code",
   "execution_count": 15,
   "metadata": {},
   "outputs": [
    {
     "name": "stdout",
     "output_type": "stream",
     "text": [
      "tensor([  101,  1537,  1890,  1155,   118,  1668,  1200,  5676, 14068,  1261,\n",
      "         1300,  1111,  3383,  1113,  5286,  1112, 21854,  3222,  8860,  1118,\n",
      "         1126,  6687,  1105,  3614,  2326,  1107,  1160,  1552,  1106,  1321,\n",
      "         1166,  1120,  1103,  1246,  1104,  1103,  2514,  2899,   119,   102,\n",
      "            0,     0,     0,     0,     0,     0,     0,     0,     0,     0,\n",
      "            0,     0]) torch.Size([32, 52])\n",
      "tensor([-1,  0,  0,  0, -1, -1, -1,  1,  2,  0,  0,  0,  0,  0,  0,  0,  0,  0,\n",
      "         0,  0,  0,  0,  0,  0,  0,  0,  0,  0,  0,  0,  0,  0,  0,  0,  0,  0,\n",
      "         0,  0,  0, -1, -1, -1, -1, -1, -1, -1, -1, -1, -1, -1, -1, -1]) torch.Size([32, 52])\n",
      "[0, 1, 1, 1, 0, 0, 0, 1, 1, 1, 1, 1, 1, 1, 1, 1, 1, 1, 1, 1, 1, 1, 1, 1, 1, 1, 1, 1, 1, 1, 1, 1, 1, 1, 1, 1, 1, 1, 1, 0, 0, 0, 0, 0, 0, 0, 0, 0, 0, 0, 0, 0] 52\n"
     ]
    }
   ],
   "source": [
    "idx = 0\n",
    "\n",
    "print(ex_in['input_ids'][idx], ex_in['input_ids'].shape)\n",
    "print(ex_in['ner_tags_formatted'][idx], ex_in['ner_tags_formatted'].shape)\n",
    "print(ex_in['output_mask'][idx], len(ex_in['output_mask'][0]))"
   ]
  },
  {
   "cell_type": "markdown",
   "metadata": {},
   "source": [
    "# Printing model"
   ]
  },
  {
   "cell_type": "code",
   "execution_count": 16,
   "metadata": {},
   "outputs": [],
   "source": [
    "from stud.modelsTests.utils.print_infos import print_summary, display_history, plot_confusion_matrix, print_classification_report"
   ]
  },
  {
   "cell_type": "markdown",
   "metadata": {},
   "source": [
    "# Fine-tuning the model"
   ]
  },
  {
   "cell_type": "code",
   "execution_count": 17,
   "metadata": {},
   "outputs": [
    {
     "name": "stderr",
     "output_type": "stream",
     "text": [
      "Some weights of the model checkpoint at bert-base-cased were not used when initializing BertModel: ['cls.predictions.transform.dense.weight', 'cls.predictions.transform.LayerNorm.bias', 'cls.predictions.transform.LayerNorm.weight', 'cls.seq_relationship.bias', 'cls.predictions.bias', 'cls.seq_relationship.weight', 'cls.predictions.decoder.weight', 'cls.predictions.transform.dense.bias']\n",
      "- This IS expected if you are initializing BertModel from the checkpoint of a model trained on another task or with another architecture (e.g. initializing a BertForSequenceClassification model from a BertForPreTraining model).\n",
      "- This IS NOT expected if you are initializing BertModel from the checkpoint of a model that you expect to be exactly identical (initializing a BertForSequenceClassification model from a BertForSequenceClassification model).\n"
     ]
    }
   ],
   "source": [
    "from stud.modelsTests.model_2.model2_transformer_simple_multilogits import Model2\n",
    "import torch.optim as optim\n",
    "\n",
    "loss_function = torch.nn.CrossEntropyLoss(ignore_index = global_params['ner_pad_id']) # !\n",
    "\n",
    "final_model = Model2(\n",
    "    device = device,\n",
    "    loss_fn = loss_function,\n",
    "    model_load_weights = False,\n",
    "    fine_tune_transformer = True,\n",
    ")\n",
    "\n",
    "optimizer = optim.SGD(final_model.model.parameters(), lr=0.0016, momentum=0.9)\n",
    "# optimizer = optim.Adam(model.parameters(), lr=0.0016)"
   ]
  },
  {
   "cell_type": "code",
   "execution_count": 18,
   "metadata": {},
   "outputs": [],
   "source": [
    "freeze_some = False\n",
    "if freeze_some:\n",
    "    unfreeze_word_embeddings = False\n",
    "    unfreeze_transformer_layers = True\n",
    "    unfreeze_from_layer_num = 8\n",
    "    unfreeze_to_layer_num = 99\n",
    "    unfreeze_pooler = True\n",
    "\n",
    "    for name, param in final_model.model.named_parameters():\n",
    "\n",
    "        if name.startswith('transformer_model.embeddings'):\n",
    "            param.requires_grad = unfreeze_word_embeddings\n",
    "\n",
    "        elif name.startswith('transformer_model.encoder.layer'):\n",
    "            layer_num = int(name.split('.')[3])\n",
    "            if layer_num >= unfreeze_from_layer_num and layer_num <= unfreeze_to_layer_num:\n",
    "                param.requires_grad = unfreeze_transformer_layers\n",
    "            else:\n",
    "                param.requires_grad = False\n",
    "\n",
    "        elif name.startswith('transformer_model.pooler'):\n",
    "            param.requires_grad = unfreeze_pooler\n",
    "        \n",
    "        print(param.requires_grad, name)"
   ]
  },
  {
   "cell_type": "code",
   "execution_count": 19,
   "metadata": {},
   "outputs": [
    {
     "name": "stdout",
     "output_type": "stream",
     "text": [
      "Model2_net(\n",
      "  (transformer_model): BertModel(\n",
      "    (embeddings): BertEmbeddings(\n",
      "      (word_embeddings): Embedding(28996, 768, padding_idx=0)\n",
      "      (position_embeddings): Embedding(512, 768)\n",
      "      (token_type_embeddings): Embedding(2, 768)\n",
      "      (LayerNorm): LayerNorm((768,), eps=1e-12, elementwise_affine=True)\n",
      "      (dropout): Dropout(p=0.1, inplace=False)\n",
      "    )\n",
      "    (encoder): BertEncoder(\n",
      "      (layer): ModuleList(\n",
      "        (0): BertLayer(\n",
      "          (attention): BertAttention(\n",
      "            (self): BertSelfAttention(\n",
      "              (query): Linear(in_features=768, out_features=768, bias=True)\n",
      "              (key): Linear(in_features=768, out_features=768, bias=True)\n",
      "              (value): Linear(in_features=768, out_features=768, bias=True)\n",
      "              (dropout): Dropout(p=0.1, inplace=False)\n",
      "            )\n",
      "            (output): BertSelfOutput(\n",
      "              (dense): Linear(in_features=768, out_features=768, bias=True)\n",
      "              (LayerNorm): LayerNorm((768,), eps=1e-12, elementwise_affine=True)\n",
      "              (dropout): Dropout(p=0.1, inplace=False)\n",
      "            )\n",
      "          )\n",
      "          (intermediate): BertIntermediate(\n",
      "            (dense): Linear(in_features=768, out_features=3072, bias=True)\n",
      "            (intermediate_act_fn): GELUActivation()\n",
      "          )\n",
      "          (output): BertOutput(\n",
      "            (dense): Linear(in_features=3072, out_features=768, bias=True)\n",
      "            (LayerNorm): LayerNorm((768,), eps=1e-12, elementwise_affine=True)\n",
      "            (dropout): Dropout(p=0.1, inplace=False)\n",
      "          )\n",
      "        )\n",
      "        (1): BertLayer(\n",
      "          (attention): BertAttention(\n",
      "            (self): BertSelfAttention(\n",
      "              (query): Linear(in_features=768, out_features=768, bias=True)\n",
      "              (key): Linear(in_features=768, out_features=768, bias=True)\n",
      "              (value): Linear(in_features=768, out_features=768, bias=True)\n",
      "              (dropout): Dropout(p=0.1, inplace=False)\n",
      "            )\n",
      "            (output): BertSelfOutput(\n",
      "              (dense): Linear(in_features=768, out_features=768, bias=True)\n",
      "              (LayerNorm): LayerNorm((768,), eps=1e-12, elementwise_affine=True)\n",
      "              (dropout): Dropout(p=0.1, inplace=False)\n",
      "            )\n",
      "          )\n",
      "          (intermediate): BertIntermediate(\n",
      "            (dense): Linear(in_features=768, out_features=3072, bias=True)\n",
      "            (intermediate_act_fn): GELUActivation()\n",
      "          )\n",
      "          (output): BertOutput(\n",
      "            (dense): Linear(in_features=3072, out_features=768, bias=True)\n",
      "            (LayerNorm): LayerNorm((768,), eps=1e-12, elementwise_affine=True)\n",
      "            (dropout): Dropout(p=0.1, inplace=False)\n",
      "          )\n",
      "        )\n",
      "        (2): BertLayer(\n",
      "          (attention): BertAttention(\n",
      "            (self): BertSelfAttention(\n",
      "              (query): Linear(in_features=768, out_features=768, bias=True)\n",
      "              (key): Linear(in_features=768, out_features=768, bias=True)\n",
      "              (value): Linear(in_features=768, out_features=768, bias=True)\n",
      "              (dropout): Dropout(p=0.1, inplace=False)\n",
      "            )\n",
      "            (output): BertSelfOutput(\n",
      "              (dense): Linear(in_features=768, out_features=768, bias=True)\n",
      "              (LayerNorm): LayerNorm((768,), eps=1e-12, elementwise_affine=True)\n",
      "              (dropout): Dropout(p=0.1, inplace=False)\n",
      "            )\n",
      "          )\n",
      "          (intermediate): BertIntermediate(\n",
      "            (dense): Linear(in_features=768, out_features=3072, bias=True)\n",
      "            (intermediate_act_fn): GELUActivation()\n",
      "          )\n",
      "          (output): BertOutput(\n",
      "            (dense): Linear(in_features=3072, out_features=768, bias=True)\n",
      "            (LayerNorm): LayerNorm((768,), eps=1e-12, elementwise_affine=True)\n",
      "            (dropout): Dropout(p=0.1, inplace=False)\n",
      "          )\n",
      "        )\n",
      "        (3): BertLayer(\n",
      "          (attention): BertAttention(\n",
      "            (self): BertSelfAttention(\n",
      "              (query): Linear(in_features=768, out_features=768, bias=True)\n",
      "              (key): Linear(in_features=768, out_features=768, bias=True)\n",
      "              (value): Linear(in_features=768, out_features=768, bias=True)\n",
      "              (dropout): Dropout(p=0.1, inplace=False)\n",
      "            )\n",
      "            (output): BertSelfOutput(\n",
      "              (dense): Linear(in_features=768, out_features=768, bias=True)\n",
      "              (LayerNorm): LayerNorm((768,), eps=1e-12, elementwise_affine=True)\n",
      "              (dropout): Dropout(p=0.1, inplace=False)\n",
      "            )\n",
      "          )\n",
      "          (intermediate): BertIntermediate(\n",
      "            (dense): Linear(in_features=768, out_features=3072, bias=True)\n",
      "            (intermediate_act_fn): GELUActivation()\n",
      "          )\n",
      "          (output): BertOutput(\n",
      "            (dense): Linear(in_features=3072, out_features=768, bias=True)\n",
      "            (LayerNorm): LayerNorm((768,), eps=1e-12, elementwise_affine=True)\n",
      "            (dropout): Dropout(p=0.1, inplace=False)\n",
      "          )\n",
      "        )\n",
      "        (4): BertLayer(\n",
      "          (attention): BertAttention(\n",
      "            (self): BertSelfAttention(\n",
      "              (query): Linear(in_features=768, out_features=768, bias=True)\n",
      "              (key): Linear(in_features=768, out_features=768, bias=True)\n",
      "              (value): Linear(in_features=768, out_features=768, bias=True)\n",
      "              (dropout): Dropout(p=0.1, inplace=False)\n",
      "            )\n",
      "            (output): BertSelfOutput(\n",
      "              (dense): Linear(in_features=768, out_features=768, bias=True)\n",
      "              (LayerNorm): LayerNorm((768,), eps=1e-12, elementwise_affine=True)\n",
      "              (dropout): Dropout(p=0.1, inplace=False)\n",
      "            )\n",
      "          )\n",
      "          (intermediate): BertIntermediate(\n",
      "            (dense): Linear(in_features=768, out_features=3072, bias=True)\n",
      "            (intermediate_act_fn): GELUActivation()\n",
      "          )\n",
      "          (output): BertOutput(\n",
      "            (dense): Linear(in_features=3072, out_features=768, bias=True)\n",
      "            (LayerNorm): LayerNorm((768,), eps=1e-12, elementwise_affine=True)\n",
      "            (dropout): Dropout(p=0.1, inplace=False)\n",
      "          )\n",
      "        )\n",
      "        (5): BertLayer(\n",
      "          (attention): BertAttention(\n",
      "            (self): BertSelfAttention(\n",
      "              (query): Linear(in_features=768, out_features=768, bias=True)\n",
      "              (key): Linear(in_features=768, out_features=768, bias=True)\n",
      "              (value): Linear(in_features=768, out_features=768, bias=True)\n",
      "              (dropout): Dropout(p=0.1, inplace=False)\n",
      "            )\n",
      "            (output): BertSelfOutput(\n",
      "              (dense): Linear(in_features=768, out_features=768, bias=True)\n",
      "              (LayerNorm): LayerNorm((768,), eps=1e-12, elementwise_affine=True)\n",
      "              (dropout): Dropout(p=0.1, inplace=False)\n",
      "            )\n",
      "          )\n",
      "          (intermediate): BertIntermediate(\n",
      "            (dense): Linear(in_features=768, out_features=3072, bias=True)\n",
      "            (intermediate_act_fn): GELUActivation()\n",
      "          )\n",
      "          (output): BertOutput(\n",
      "            (dense): Linear(in_features=3072, out_features=768, bias=True)\n",
      "            (LayerNorm): LayerNorm((768,), eps=1e-12, elementwise_affine=True)\n",
      "            (dropout): Dropout(p=0.1, inplace=False)\n",
      "          )\n",
      "        )\n",
      "        (6): BertLayer(\n",
      "          (attention): BertAttention(\n",
      "            (self): BertSelfAttention(\n",
      "              (query): Linear(in_features=768, out_features=768, bias=True)\n",
      "              (key): Linear(in_features=768, out_features=768, bias=True)\n",
      "              (value): Linear(in_features=768, out_features=768, bias=True)\n",
      "              (dropout): Dropout(p=0.1, inplace=False)\n",
      "            )\n",
      "            (output): BertSelfOutput(\n",
      "              (dense): Linear(in_features=768, out_features=768, bias=True)\n",
      "              (LayerNorm): LayerNorm((768,), eps=1e-12, elementwise_affine=True)\n",
      "              (dropout): Dropout(p=0.1, inplace=False)\n",
      "            )\n",
      "          )\n",
      "          (intermediate): BertIntermediate(\n",
      "            (dense): Linear(in_features=768, out_features=3072, bias=True)\n",
      "            (intermediate_act_fn): GELUActivation()\n",
      "          )\n",
      "          (output): BertOutput(\n",
      "            (dense): Linear(in_features=3072, out_features=768, bias=True)\n",
      "            (LayerNorm): LayerNorm((768,), eps=1e-12, elementwise_affine=True)\n",
      "            (dropout): Dropout(p=0.1, inplace=False)\n",
      "          )\n",
      "        )\n",
      "        (7): BertLayer(\n",
      "          (attention): BertAttention(\n",
      "            (self): BertSelfAttention(\n",
      "              (query): Linear(in_features=768, out_features=768, bias=True)\n",
      "              (key): Linear(in_features=768, out_features=768, bias=True)\n",
      "              (value): Linear(in_features=768, out_features=768, bias=True)\n",
      "              (dropout): Dropout(p=0.1, inplace=False)\n",
      "            )\n",
      "            (output): BertSelfOutput(\n",
      "              (dense): Linear(in_features=768, out_features=768, bias=True)\n",
      "              (LayerNorm): LayerNorm((768,), eps=1e-12, elementwise_affine=True)\n",
      "              (dropout): Dropout(p=0.1, inplace=False)\n",
      "            )\n",
      "          )\n",
      "          (intermediate): BertIntermediate(\n",
      "            (dense): Linear(in_features=768, out_features=3072, bias=True)\n",
      "            (intermediate_act_fn): GELUActivation()\n",
      "          )\n",
      "          (output): BertOutput(\n",
      "            (dense): Linear(in_features=3072, out_features=768, bias=True)\n",
      "            (LayerNorm): LayerNorm((768,), eps=1e-12, elementwise_affine=True)\n",
      "            (dropout): Dropout(p=0.1, inplace=False)\n",
      "          )\n",
      "        )\n",
      "        (8): BertLayer(\n",
      "          (attention): BertAttention(\n",
      "            (self): BertSelfAttention(\n",
      "              (query): Linear(in_features=768, out_features=768, bias=True)\n",
      "              (key): Linear(in_features=768, out_features=768, bias=True)\n",
      "              (value): Linear(in_features=768, out_features=768, bias=True)\n",
      "              (dropout): Dropout(p=0.1, inplace=False)\n",
      "            )\n",
      "            (output): BertSelfOutput(\n",
      "              (dense): Linear(in_features=768, out_features=768, bias=True)\n",
      "              (LayerNorm): LayerNorm((768,), eps=1e-12, elementwise_affine=True)\n",
      "              (dropout): Dropout(p=0.1, inplace=False)\n",
      "            )\n",
      "          )\n",
      "          (intermediate): BertIntermediate(\n",
      "            (dense): Linear(in_features=768, out_features=3072, bias=True)\n",
      "            (intermediate_act_fn): GELUActivation()\n",
      "          )\n",
      "          (output): BertOutput(\n",
      "            (dense): Linear(in_features=3072, out_features=768, bias=True)\n",
      "            (LayerNorm): LayerNorm((768,), eps=1e-12, elementwise_affine=True)\n",
      "            (dropout): Dropout(p=0.1, inplace=False)\n",
      "          )\n",
      "        )\n",
      "        (9): BertLayer(\n",
      "          (attention): BertAttention(\n",
      "            (self): BertSelfAttention(\n",
      "              (query): Linear(in_features=768, out_features=768, bias=True)\n",
      "              (key): Linear(in_features=768, out_features=768, bias=True)\n",
      "              (value): Linear(in_features=768, out_features=768, bias=True)\n",
      "              (dropout): Dropout(p=0.1, inplace=False)\n",
      "            )\n",
      "            (output): BertSelfOutput(\n",
      "              (dense): Linear(in_features=768, out_features=768, bias=True)\n",
      "              (LayerNorm): LayerNorm((768,), eps=1e-12, elementwise_affine=True)\n",
      "              (dropout): Dropout(p=0.1, inplace=False)\n",
      "            )\n",
      "          )\n",
      "          (intermediate): BertIntermediate(\n",
      "            (dense): Linear(in_features=768, out_features=3072, bias=True)\n",
      "            (intermediate_act_fn): GELUActivation()\n",
      "          )\n",
      "          (output): BertOutput(\n",
      "            (dense): Linear(in_features=3072, out_features=768, bias=True)\n",
      "            (LayerNorm): LayerNorm((768,), eps=1e-12, elementwise_affine=True)\n",
      "            (dropout): Dropout(p=0.1, inplace=False)\n",
      "          )\n",
      "        )\n",
      "        (10): BertLayer(\n",
      "          (attention): BertAttention(\n",
      "            (self): BertSelfAttention(\n",
      "              (query): Linear(in_features=768, out_features=768, bias=True)\n",
      "              (key): Linear(in_features=768, out_features=768, bias=True)\n",
      "              (value): Linear(in_features=768, out_features=768, bias=True)\n",
      "              (dropout): Dropout(p=0.1, inplace=False)\n",
      "            )\n",
      "            (output): BertSelfOutput(\n",
      "              (dense): Linear(in_features=768, out_features=768, bias=True)\n",
      "              (LayerNorm): LayerNorm((768,), eps=1e-12, elementwise_affine=True)\n",
      "              (dropout): Dropout(p=0.1, inplace=False)\n",
      "            )\n",
      "          )\n",
      "          (intermediate): BertIntermediate(\n",
      "            (dense): Linear(in_features=768, out_features=3072, bias=True)\n",
      "            (intermediate_act_fn): GELUActivation()\n",
      "          )\n",
      "          (output): BertOutput(\n",
      "            (dense): Linear(in_features=3072, out_features=768, bias=True)\n",
      "            (LayerNorm): LayerNorm((768,), eps=1e-12, elementwise_affine=True)\n",
      "            (dropout): Dropout(p=0.1, inplace=False)\n",
      "          )\n",
      "        )\n",
      "        (11): BertLayer(\n",
      "          (attention): BertAttention(\n",
      "            (self): BertSelfAttention(\n",
      "              (query): Linear(in_features=768, out_features=768, bias=True)\n",
      "              (key): Linear(in_features=768, out_features=768, bias=True)\n",
      "              (value): Linear(in_features=768, out_features=768, bias=True)\n",
      "              (dropout): Dropout(p=0.1, inplace=False)\n",
      "            )\n",
      "            (output): BertSelfOutput(\n",
      "              (dense): Linear(in_features=768, out_features=768, bias=True)\n",
      "              (LayerNorm): LayerNorm((768,), eps=1e-12, elementwise_affine=True)\n",
      "              (dropout): Dropout(p=0.1, inplace=False)\n",
      "            )\n",
      "          )\n",
      "          (intermediate): BertIntermediate(\n",
      "            (dense): Linear(in_features=768, out_features=3072, bias=True)\n",
      "            (intermediate_act_fn): GELUActivation()\n",
      "          )\n",
      "          (output): BertOutput(\n",
      "            (dense): Linear(in_features=3072, out_features=768, bias=True)\n",
      "            (LayerNorm): LayerNorm((768,), eps=1e-12, elementwise_affine=True)\n",
      "            (dropout): Dropout(p=0.1, inplace=False)\n",
      "          )\n",
      "        )\n",
      "      )\n",
      "    )\n",
      "    (pooler): BertPooler(\n",
      "      (dense): Linear(in_features=768, out_features=768, bias=True)\n",
      "      (activation): Tanh()\n",
      "    )\n",
      "  )\n",
      "  (dropout): Dropout(p=0.2, inplace=False)\n",
      "  (classifier): Linear(in_features=768, out_features=3, bias=True)\n",
      "  (loss_fn): CrossEntropyLoss()\n",
      ")\n",
      "----------------------\n",
      "parameters: 108,312,579\n",
      "trainable parameters: 108,312,579\n",
      "non-trainable parameters: 0\n"
     ]
    }
   ],
   "source": [
    "print_summary(final_model.model)"
   ]
  },
  {
   "cell_type": "code",
   "execution_count": 20,
   "metadata": {},
   "outputs": [
    {
     "name": "stdout",
     "output_type": "stream",
     "text": [
      "tensor([[-1,  0,  0,  0, -1, -1, -1,  1,  2,  0,  0,  0,  0,  0,  0,  0,  0,  0,\n",
      "          0,  0,  0,  0,  0,  0,  0,  0,  0,  0,  0,  0,  0,  0,  0,  0,  0,  0,\n",
      "          0,  0,  0, -1, -1, -1, -1, -1],\n",
      "        [-1,  0,  0,  0,  0,  0,  0,  0,  0,  0,  0,  0,  0,  0,  0,  0,  0,  0,\n",
      "          0,  0,  0,  0,  0,  0,  0,  0,  0,  0,  0, -1,  0,  0,  0, -1,  1,  2,\n",
      "         -1, -1,  0,  0,  0,  0,  0, -1],\n",
      "        [-1,  0, -1,  0,  0,  0,  0,  0,  0,  0,  0,  0,  0,  0,  0,  0,  1,  0,\n",
      "          0,  0,  0,  0,  0,  0,  0,  0, -1, -1, -1, -1, -1, -1, -1, -1, -1, -1,\n",
      "         -1, -1, -1, -1, -1, -1, -1, -1]], device='cuda:0')\n",
      "tensor([[[ 1.8330e+00,  4.0506e+00,  1.6984e-02],\n",
      "         [ 9.1035e-01,  2.1046e+00,  1.4006e+00],\n",
      "         [ 1.7321e+00,  3.3197e+00,  1.3700e+00],\n",
      "         [ 1.8014e+00,  3.7505e+00,  1.6381e+00],\n",
      "         [ 1.4668e+00,  1.0048e+00, -8.2803e-02],\n",
      "         [ 2.1253e+00,  2.4539e+00,  3.9409e-01],\n",
      "         [ 1.0251e-01,  3.4384e+00,  1.9952e+00],\n",
      "         [ 1.5809e-01,  2.5996e+00, -5.3322e-01],\n",
      "         [ 2.0988e+00,  2.1767e+00, -7.2919e-01],\n",
      "         [ 8.2801e-01,  3.3268e+00,  5.9636e-01],\n",
      "         [ 4.0865e+00,  3.6126e+00, -1.5924e+00],\n",
      "         [ 1.3989e+00,  3.2790e+00, -7.3170e-01],\n",
      "         [ 3.1990e+00,  2.3460e+00, -6.5172e-01],\n",
      "         [ 1.4634e+00,  2.3145e+00,  1.0977e+00],\n",
      "         [ 1.8984e+00,  1.5890e+00, -2.5718e+00],\n",
      "         [-2.2779e+00,  9.0717e-01,  3.5060e+00],\n",
      "         [-1.6459e-01,  1.1073e+00, -1.0580e+00],\n",
      "         [ 5.3760e-01,  3.0569e+00,  4.7708e-01],\n",
      "         [ 7.4809e-01,  2.3217e+00, -5.4467e-01],\n",
      "         [-1.7710e-02,  4.1214e+00, -1.2769e+00],\n",
      "         [ 1.0937e+00,  2.9016e+00,  1.8342e-01],\n",
      "         [ 2.0616e+00,  4.4096e+00, -4.3609e-02],\n",
      "         [ 1.9516e+00,  3.1787e+00,  1.0102e-01],\n",
      "         [ 2.8052e+00,  3.6760e+00, -4.1415e-01],\n",
      "         [ 7.2352e-01,  2.9235e+00,  2.2069e-01],\n",
      "         [ 8.4923e-01,  2.3725e+00, -9.5973e-01],\n",
      "         [ 1.4477e+00,  2.9495e+00,  1.4736e+00],\n",
      "         [ 2.0572e+00,  2.7828e+00, -1.6769e+00],\n",
      "         [ 8.8898e-01,  1.6059e+00,  1.7676e+00],\n",
      "         [ 7.7758e-01,  1.5514e+00,  1.9118e+00],\n",
      "         [ 1.5190e+00,  6.6801e-01,  2.3279e+00],\n",
      "         [ 1.5872e+00, -2.1801e-01,  1.2731e+00],\n",
      "         [ 1.7730e+00,  7.6974e-01,  2.5891e+00],\n",
      "         [ 1.9742e+00, -6.5728e-01,  4.0967e+00],\n",
      "         [ 2.5819e+00,  8.3486e-01,  2.2917e+00],\n",
      "         [ 1.9651e+00,  2.1469e+00,  2.0226e+00],\n",
      "         [ 1.9212e+00,  1.3732e+00, -7.9144e-01],\n",
      "         [ 1.6978e+00,  5.2728e-01,  1.5890e+00],\n",
      "         [-5.2301e-03,  1.2704e+00, -8.3795e-01],\n",
      "         [-1.6883e-01,  1.1977e+00, -9.0721e-01],\n",
      "         [ 2.1140e+00,  2.6812e+00,  2.3158e+00],\n",
      "         [ 2.0492e+00,  2.5131e+00,  2.3491e+00],\n",
      "         [ 1.8272e+00,  2.3603e+00,  2.6120e+00],\n",
      "         [ 2.4809e+00,  2.7515e+00,  2.4031e+00]],\n",
      "\n",
      "        [[ 2.7413e+00,  4.5985e+00,  3.4381e-02],\n",
      "         [ 8.1214e-01,  1.6539e+00,  5.7696e-01],\n",
      "         [ 1.7944e+00,  5.1603e+00, -3.6260e-01],\n",
      "         [ 5.9175e-01,  2.6634e+00,  3.7476e-01],\n",
      "         [ 1.9262e+00,  2.1808e+00, -3.1680e-01],\n",
      "         [ 1.0555e+00,  3.8898e+00,  4.7508e-01],\n",
      "         [ 2.2857e+00,  2.9876e+00,  4.0880e-01],\n",
      "         [ 1.3906e+00,  2.6729e+00,  1.5968e+00],\n",
      "         [ 1.2579e+00,  4.0697e+00,  1.6123e+00],\n",
      "         [ 4.6991e+00,  1.3421e+00,  3.1300e+00],\n",
      "         [ 2.7730e+00,  3.2972e+00, -1.2512e+00],\n",
      "         [ 9.0985e-01,  4.4151e+00, -4.4273e-01],\n",
      "         [ 3.5514e+00,  1.6692e+00, -3.6411e-01],\n",
      "         [ 3.5434e-02,  3.2363e+00, -3.2903e-01],\n",
      "         [ 1.4042e+00,  2.7822e+00,  4.5039e+00],\n",
      "         [-6.6979e-02,  1.7445e+00, -1.2674e+00],\n",
      "         [ 1.2862e+00,  3.0342e+00,  2.4571e+00],\n",
      "         [-1.1060e+00,  2.9314e+00, -9.1157e-01],\n",
      "         [ 1.6777e+00,  2.3573e-01,  1.3852e+00],\n",
      "         [ 1.0410e+00,  4.7013e+00, -1.2503e+00],\n",
      "         [-1.5864e-03,  5.1469e+00, -5.0700e-01],\n",
      "         [ 8.5538e-01,  3.3460e+00,  2.1929e+00],\n",
      "         [-2.3343e-01,  4.0031e+00, -3.0821e-01],\n",
      "         [-6.3443e-01,  1.0179e+00,  1.3969e+00],\n",
      "         [ 1.4332e+00,  2.2475e+00,  1.8879e+00],\n",
      "         [ 1.9836e+00,  4.1393e+00, -2.1805e+00],\n",
      "         [ 1.6601e+00,  2.0328e+00, -7.5882e-01],\n",
      "         [ 4.3392e-01,  2.5902e+00,  3.1229e-01],\n",
      "         [ 2.6911e+00,  3.5959e+00, -1.3623e+00],\n",
      "         [ 2.2460e+00,  2.5450e+00,  6.1118e-01],\n",
      "         [ 1.4497e+00,  3.6138e+00,  3.1568e+00],\n",
      "         [ 4.6343e-01,  2.5142e+00,  2.0475e+00],\n",
      "         [ 2.9633e+00,  4.7493e+00, -5.3387e-01],\n",
      "         [ 1.3861e+00,  3.0734e+00,  1.7877e+00],\n",
      "         [ 4.4820e-01,  1.8624e+00, -8.4164e-01],\n",
      "         [ 2.7061e+00,  3.2001e+00,  5.0878e-01],\n",
      "         [-2.3197e+00,  1.8640e+00,  2.5340e-01],\n",
      "         [ 1.5068e+00,  1.9327e+00, -2.2048e-01],\n",
      "         [ 5.8461e-01,  2.5141e+00,  8.4971e-01],\n",
      "         [ 4.1284e+00,  3.4941e+00, -1.1678e+00],\n",
      "         [ 1.0772e+00,  3.2991e+00,  7.2492e-01],\n",
      "         [ 2.5650e+00,  3.1862e+00,  1.1029e+00],\n",
      "         [ 3.2116e-01,  1.6362e+00, -7.3116e-01],\n",
      "         [-2.3802e-03,  1.3544e+00, -8.5325e-01]],\n",
      "\n",
      "        [[ 1.5808e+00,  4.1747e+00,  1.5281e-01],\n",
      "         [ 1.1425e-01,  1.4546e+00,  1.8654e+00],\n",
      "         [ 9.1585e-01,  2.5077e+00,  1.5837e+00],\n",
      "         [ 8.2163e-01,  3.0812e+00,  1.2001e-02],\n",
      "         [ 1.4107e+00,  3.2995e+00, -5.6647e-01],\n",
      "         [ 1.3993e+00,  2.1748e+00,  3.4172e+00],\n",
      "         [ 1.2341e-01,  3.0537e+00,  6.6219e-01],\n",
      "         [ 8.2189e-01,  2.3574e+00,  2.3410e+00],\n",
      "         [ 2.4582e+00,  2.8017e+00,  1.1488e+00],\n",
      "         [ 3.2606e+00,  3.4692e+00,  1.4009e+00],\n",
      "         [ 1.8429e+00, -2.3911e-01,  1.2966e+00],\n",
      "         [ 2.9728e+00,  2.0844e+00,  3.4374e-01],\n",
      "         [-7.8892e-02,  2.3942e+00, -9.1846e-03],\n",
      "         [ 2.6408e+00,  1.3201e+00,  1.0467e+00],\n",
      "         [ 5.7432e-01,  3.8225e+00, -7.3532e-01],\n",
      "         [ 4.0372e-01,  1.3334e+00,  3.3293e+00],\n",
      "         [ 1.4707e+00,  3.2446e+00,  6.9655e-02],\n",
      "         [ 9.2374e-01,  3.5637e+00,  2.5342e+00],\n",
      "         [ 2.6744e+00,  3.5668e+00,  1.9342e+00],\n",
      "         [ 4.8544e-01,  4.4563e+00,  6.2774e-01],\n",
      "         [ 1.9623e+00,  3.2486e+00,  3.7365e-01],\n",
      "         [ 6.5728e-01,  3.3425e+00, -9.0309e-01],\n",
      "         [ 1.2837e+00,  1.5300e+00,  2.0149e-01],\n",
      "         [ 5.2766e-01,  3.3023e+00,  1.2606e+00],\n",
      "         [ 1.8639e+00,  3.7768e+00,  1.0339e+00],\n",
      "         [ 4.4087e-01,  1.6304e+00, -6.6850e-01],\n",
      "         [ 1.1616e-01,  1.2996e+00, -8.8387e-01],\n",
      "         [ 2.2357e+00,  1.8399e+00,  2.3621e+00],\n",
      "         [ 2.1007e+00,  2.4001e+00,  1.8924e+00],\n",
      "         [ 2.6304e+00,  2.7927e+00,  1.7447e+00],\n",
      "         [ 2.0390e+00,  2.4171e+00,  1.7087e+00],\n",
      "         [ 2.3464e+00,  1.8927e+00,  1.6849e+00],\n",
      "         [ 1.6174e+00,  2.8988e+00,  1.0213e+00],\n",
      "         [ 1.6938e+00,  2.8397e+00,  1.4197e+00],\n",
      "         [ 2.0773e+00,  1.7038e+00,  1.2071e+00],\n",
      "         [ 1.7493e+00,  2.3474e+00,  4.1070e-01],\n",
      "         [ 8.7680e-01,  3.8044e+00,  2.3691e+00],\n",
      "         [ 8.1415e-01,  3.8320e+00,  2.9676e+00],\n",
      "         [ 9.0449e-01,  3.1871e+00,  1.1589e+00],\n",
      "         [ 1.8925e+00,  3.8802e+00,  1.2378e+00],\n",
      "         [ 2.6057e+00,  3.8477e+00,  7.1422e-01],\n",
      "         [ 2.9033e+00,  3.3972e+00,  1.8639e+00],\n",
      "         [ 1.7114e+00,  2.4069e+00,  2.4042e+00],\n",
      "         [ 2.8189e+00,  1.5523e+00,  1.7068e+00]]], device='cuda:0',\n",
      "       grad_fn=<AddBackward0>)\n",
      "tensor(1.9714, device='cuda:0', grad_fn=<NllLossBackward>)\n"
     ]
    }
   ],
   "source": [
    "ex_in_simple = dataset_dev.create_collate_fn()([dataset_dev[0], dataset_dev[1], dataset_dev[2]])\n",
    "predictions = final_model.model(\n",
    "    input_ids = ex_in_simple['input_ids'].to(device), \n",
    "    attention_mask = ex_in_simple['attention_mask'].to(device),\n",
    "    token_type_ids = ex_in_simple['token_type_ids'].to(device),\n",
    ")\n",
    "labels = ex_in_simple['ner_tags_formatted'].to(device)\n",
    "\n",
    "predictions_flattened = predictions.reshape(-1, predictions.shape[-1]) \n",
    "labels_flattened = labels.view(-1)\n",
    "\n",
    "predictions_flattened = predictions_flattened.to(device)\n",
    "labels_flattened = labels_flattened.to(device)\n",
    "\n",
    "print(labels)\n",
    "print(predictions)\n",
    "print(final_model.model.compute_loss(predictions_flattened, labels_flattened))"
   ]
  },
  {
   "cell_type": "code",
   "execution_count": 21,
   "metadata": {},
   "outputs": [
    {
     "name": "stdout",
     "output_type": "stream",
     "text": [
      "['O', 'O', 'O', 'B', 'I', 'O', 'O', 'O', 'O', 'O', 'O', 'O', 'O', 'O', 'O', 'O', 'O', 'O', 'O', 'O', 'O', 'O', 'O', 'O', 'O', 'O', 'O', 'O', 'O', 'O', 'O', 'O', 'O', 'O', 'O'] 35 ['B', 'B', 'B', 'B', 'B', 'B', 'O', 'B', 'O', 'B', 'O', 'I', 'B', 'B', 'B', 'B', 'B', 'B', 'B', 'B', 'B', 'B', 'B', 'B', 'I', 'I', 'I', 'O', 'I', 'I', 'O', 'B', 'O', 'O', 'B'] 35\n"
     ]
    }
   ],
   "source": [
    "# os.environ['CUDA_LAUNCH_BLOCKING'] = '1'\n",
    "idsd = 0\n",
    "lab = dataset_dev.data_raw[idsd]['ner_tags']\n",
    "pred = final_model.predict(dataset_dev.data_raw[idsd])\n",
    "print(lab, len(lab), pred['ner'], len(pred['ner']))"
   ]
  },
  {
   "cell_type": "code",
   "execution_count": 22,
   "metadata": {},
   "outputs": [],
   "source": [
    "history = {}"
   ]
  },
  {
   "cell_type": "code",
   "execution_count": 23,
   "metadata": {},
   "outputs": [
    {
     "name": "stdout",
     "output_type": "stream",
     "text": [
      "Epoch   0 => avg_loss: 0.813991\n",
      "#                   Validation loss => 0.103977 | f1: 0.656716 #\n",
      "Epoch   1 => avg_loss: 0.097853\n",
      "#                   Validation loss => 0.050672 | f1: 0.902439 #\n",
      "Epoch   2 => avg_loss: 0.047773\n",
      "#                   Validation loss => 0.040484 | f1: 0.945899 #\n",
      "Epoch   3 => avg_loss: 0.044939\n",
      "#                   Validation loss => 0.026888 | f1: 0.952043 #\n",
      "----- Best value obtained, saving model -----\n",
      "Epoch   4 => avg_loss: 0.029127\n",
      "#                   Validation loss => 0.022438 | f1: 0.956370 #\n",
      "----- Best value obtained, saving model -----\n",
      "Epoch   5 => avg_loss: 0.015099\n",
      "#                   Validation loss => 0.022444 | f1: 0.960000 #\n",
      "----- Best value obtained, saving model -----\n",
      "Epoch   6 => avg_loss: 0.010702\n",
      "#                   Validation loss => 0.023033 | f1: 0.963351 #\n",
      "----- Best value obtained, saving model -----\n",
      "Epoch   7 => avg_loss: 0.009398\n",
      "#                   Validation loss => 0.020823 | f1: 0.963093 #\n",
      "Epoch   8 => avg_loss: 0.007721\n",
      "#                   Validation loss => 0.019004 | f1: 0.964912 #\n",
      "----- Best value obtained, saving model -----\n",
      "Epoch   9 => avg_loss: 0.006364\n",
      "#                   Validation loss => 0.019126 | f1: 0.963351 #\n",
      "Epoch  10 => avg_loss: 0.005300\n",
      "#                   Validation loss => 0.019055 | f1: 0.961538 #\n",
      "Epoch  11 => avg_loss: 0.004766\n",
      "#                   Validation loss => 0.018035 | f1: 0.963222 #\n",
      "Epoch  12 => avg_loss: 0.004317\n",
      "#                   Validation loss => 0.017448 | f1: 0.963222 #\n",
      "Epoch  13 => avg_loss: 0.003772\n",
      "#                   Validation loss => 0.017066 | f1: 0.964912 #\n",
      "Epoch  14 => avg_loss: 0.005621\n",
      "#                   Validation loss => 0.016890 | f1: 0.964912 #\n",
      "Epoch  15 => avg_loss: 0.004112\n",
      "#                   Validation loss => 0.017047 | f1: 0.961538 #\n",
      "Epoch  16 => avg_loss: 0.003410\n",
      "#                   Validation loss => 0.017184 | f1: 0.964912 #\n",
      "Epoch  17 => avg_loss: 0.002718\n",
      "#                   Validation loss => 0.016828 | f1: 0.964912 #\n",
      "Epoch  18 => avg_loss: 0.002672\n",
      "#                   Validation loss => 0.017412 | f1: 0.964912 #\n",
      "Epoch  19 => avg_loss: 0.002651\n",
      "#                   Validation loss => 0.017248 | f1: 0.966608 #\n",
      "----- Best value obtained, saving model -----\n",
      "Epoch  20 => avg_loss: 0.002704\n",
      "#                   Validation loss => 0.017035 | f1: 0.964912 #\n",
      "Epoch  21 => avg_loss: 0.002007\n",
      "#                   Validation loss => 0.017718 | f1: 0.963222 #\n",
      "Epoch  22 => avg_loss: 0.001797\n",
      "#                   Validation loss => 0.018047 | f1: 0.963222 #\n",
      "Epoch  23 => avg_loss: 0.001938\n",
      "#                   Validation loss => 0.018258 | f1: 0.963222 #\n",
      "Epoch  24 => avg_loss: 0.001759\n",
      "#                   Validation loss => 0.018657 | f1: 0.966608 #\n",
      "Epoch  25 => avg_loss: 0.001612\n",
      "#                   Validation loss => 0.018737 | f1: 0.966608 #\n",
      "Epoch  26 => avg_loss: 0.001478\n",
      "#                   Validation loss => 0.018610 | f1: 0.966608 #\n",
      "Epoch  27 => avg_loss: 0.001357\n",
      "#                   Validation loss => 0.018384 | f1: 0.966608 #\n",
      "Epoch  28 => avg_loss: 0.001473\n",
      "#                   Validation loss => 0.017661 | f1: 0.968310 #\n",
      "----- Best value obtained, saving model -----\n",
      "Epoch  29 => avg_loss: 0.001549\n",
      "#                   Validation loss => 0.018109 | f1: 0.968310 #\n",
      "Epoch  30 => avg_loss: 0.001366\n",
      "#                   Validation loss => 0.018319 | f1: 0.964912 #\n",
      "Epoch  31 => avg_loss: 0.001716\n",
      "#                   Validation loss => 0.018029 | f1: 0.964912 #\n",
      "Epoch  32 => avg_loss: 0.001625\n",
      "#                   Validation loss => 0.017363 | f1: 0.968310 #\n",
      "Epoch  33 => avg_loss: 0.001979\n",
      "#                   Validation loss => 0.017666 | f1: 0.968310 #\n",
      "Epoch  34 => avg_loss: 0.000910\n",
      "#                   Validation loss => 0.019657 | f1: 0.968421 #\n",
      "----- Best value obtained, saving model -----\n",
      "Epoch  35 => avg_loss: 0.000852\n",
      "#                   Validation loss => 0.019886 | f1: 0.968421 #\n",
      "Epoch  36 => avg_loss: 0.000966\n",
      "#                   Validation loss => 0.019283 | f1: 0.966608 #\n",
      "Epoch  37 => avg_loss: 0.000729\n",
      "#                   Validation loss => 0.018931 | f1: 0.968310 #\n",
      "Epoch  38 => avg_loss: 0.000953\n",
      "#                   Validation loss => 0.018559 | f1: 0.968310 #\n",
      "Epoch  39 => avg_loss: 0.001391\n",
      "#                   Validation loss => 0.018136 | f1: 0.968310 #\n",
      "Epoch  40 => avg_loss: 0.000783\n",
      "#                   Validation loss => 0.017936 | f1: 0.968310 #\n",
      "Epoch  41 => avg_loss: 0.001213\n",
      "#                   Validation loss => 0.018123 | f1: 0.968310 #\n",
      "Epoch  42 => avg_loss: 0.000691\n",
      "#                   Validation loss => 0.018228 | f1: 0.968310 #\n",
      "Epoch  43 => avg_loss: 0.001313\n",
      "#                   Validation loss => 0.018400 | f1: 0.968310 #\n",
      "Epoch  44 => avg_loss: 0.000772\n",
      "#                   Validation loss => 0.018293 | f1: 0.968310 #\n",
      "Epoch  45 => avg_loss: 0.000901\n",
      "#                   Validation loss => 0.017830 | f1: 0.968310 #\n",
      "Epoch  46 => avg_loss: 0.000875\n",
      "#                   Validation loss => 0.018119 | f1: 0.968310 #\n",
      "Epoch  47 => avg_loss: 0.000421\n",
      "#                   Validation loss => 0.018463 | f1: 0.968310 #\n",
      "Epoch  48 => avg_loss: 0.000755\n",
      "#                   Validation loss => 0.018308 | f1: 0.968310 #\n",
      "Epoch  49 => avg_loss: 0.000747\n",
      "#                   Validation loss => 0.018415 | f1: 0.968310 #\n",
      "Epoch  50 => avg_loss: 0.000731\n",
      "#                   Validation loss => 0.018680 | f1: 0.968310 #\n",
      "Epoch  51 => avg_loss: 0.001421\n",
      "#                   Validation loss => 0.018883 | f1: 0.968421 #\n",
      "Epoch  52 => avg_loss: 0.000589\n",
      "#                   Validation loss => 0.019284 | f1: 0.966725 #\n",
      "Epoch  53 => avg_loss: 0.000962\n",
      "#                   Validation loss => 0.018282 | f1: 0.968421 #\n",
      "Epoch  54 => avg_loss: 0.000582\n",
      "#                   Validation loss => 0.017683 | f1: 0.966608 #\n",
      "Epoch  55 => avg_loss: 0.000636\n",
      "#                   Validation loss => 0.017679 | f1: 0.966608 #\n",
      "Epoch  56 => avg_loss: 0.000512\n",
      "#                   Validation loss => 0.017719 | f1: 0.968421 #\n",
      "Epoch  57 => avg_loss: 0.000584\n",
      "#                   Validation loss => 0.017435 | f1: 0.966608 #\n",
      "Epoch  58 => avg_loss: 0.000513\n",
      "#                   Validation loss => 0.017589 | f1: 0.966608 #\n",
      "Epoch  59 => avg_loss: 0.000737\n",
      "#                   Validation loss => 0.018410 | f1: 0.968421 #\n",
      "Epoch  60 => avg_loss: 0.000733\n",
      "#                   Validation loss => 0.018865 | f1: 0.968421 #\n",
      "Epoch  61 => avg_loss: 0.000483\n",
      "#                   Validation loss => 0.018909 | f1: 0.968421 #\n",
      "Epoch  62 => avg_loss: 0.000495\n",
      "#                   Validation loss => 0.018456 | f1: 0.970018 #\n",
      "----- Best value obtained, saving model -----\n",
      "Epoch  63 => avg_loss: 0.000574\n",
      "#                   Validation loss => 0.018635 | f1: 0.968310 #\n",
      "Epoch  64 => avg_loss: 0.000855\n",
      "#                   Validation loss => 0.018990 | f1: 0.968310 #\n",
      "Epoch  65 => avg_loss: 0.000484\n",
      "#                   Validation loss => 0.018527 | f1: 0.968310 #\n",
      "Epoch  66 => avg_loss: 0.000332\n",
      "#                   Validation loss => 0.018474 | f1: 0.968310 #\n",
      "Epoch  67 => avg_loss: 0.000301\n",
      "#                   Validation loss => 0.018604 | f1: 0.968310 #\n",
      "Epoch  68 => avg_loss: 0.000492\n",
      "#                   Validation loss => 0.018702 | f1: 0.968310 #\n",
      "Epoch  69 => avg_loss: 0.000377\n",
      "#                   Validation loss => 0.018780 | f1: 0.968310 #\n",
      "Epoch  70 => avg_loss: 0.000407\n",
      "#                   Validation loss => 0.018902 | f1: 0.968310 #\n",
      "Epoch  71 => avg_loss: 0.000482\n",
      "#                   Validation loss => 0.019044 | f1: 0.968310 #\n",
      "Epoch  72 => avg_loss: 0.000592\n",
      "#                   Validation loss => 0.019171 | f1: 0.970018 #\n",
      "Epoch  73 => avg_loss: 0.000424\n",
      "#                   Validation loss => 0.019134 | f1: 0.970018 #\n",
      "Epoch  74 => avg_loss: 0.000448\n",
      "#                   Validation loss => 0.018879 | f1: 0.970018 #\n",
      "Epoch  75 => avg_loss: 0.000342\n",
      "#                   Validation loss => 0.018802 | f1: 0.970018 #\n",
      "Epoch  76 => avg_loss: 0.000447\n",
      "#                   Validation loss => 0.018966 | f1: 0.970018 #\n",
      "Epoch  77 => avg_loss: 0.000730\n",
      "#                   Validation loss => 0.019568 | f1: 0.968421 #\n",
      "Epoch  78 => avg_loss: 0.000357\n",
      "#                   Validation loss => 0.019132 | f1: 0.968310 #\n",
      "Epoch  79 => avg_loss: 0.000317\n",
      "#                   Validation loss => 0.018830 | f1: 0.970018 #\n",
      "Epoch  80 => avg_loss: 0.000333\n",
      "#                   Validation loss => 0.018597 | f1: 0.968310 #\n",
      "Epoch  81 => avg_loss: 0.000347\n",
      "#                   Validation loss => 0.018464 | f1: 0.970018 #\n",
      "Epoch  82 => avg_loss: 0.000308\n",
      "#                   Validation loss => 0.018351 | f1: 0.970018 #\n",
      "Epoch  83 => avg_loss: 0.000851\n",
      "#                   Validation loss => 0.019561 | f1: 0.970123 #\n",
      "----- Best value obtained, saving model -----\n",
      "Epoch  84 => avg_loss: 0.000384\n",
      "#                   Validation loss => 0.019288 | f1: 0.971831 #\n",
      "----- Best value obtained, saving model -----\n",
      "Epoch  85 => avg_loss: 0.000318\n",
      "#                   Validation loss => 0.019097 | f1: 0.970123 #\n",
      "Epoch  86 => avg_loss: 0.000273\n",
      "#                   Validation loss => 0.019035 | f1: 0.970123 #\n",
      "Epoch  87 => avg_loss: 0.000233\n",
      "#                   Validation loss => 0.019138 | f1: 0.970123 #\n",
      "Epoch  88 => avg_loss: 0.000308\n",
      "#                   Validation loss => 0.019186 | f1: 0.970123 #\n",
      "Epoch  89 => avg_loss: 0.000268\n",
      "#                   Validation loss => 0.019206 | f1: 0.971831 #\n",
      "Epoch  90 => avg_loss: 0.000512\n",
      "#                   Validation loss => 0.018379 | f1: 0.970018 #\n",
      "Epoch  91 => avg_loss: 0.000488\n",
      "#                   Validation loss => 0.018164 | f1: 0.970018 #\n",
      "Epoch  92 => avg_loss: 0.000329\n",
      "#                   Validation loss => 0.018492 | f1: 0.970018 #\n",
      "Epoch  93 => avg_loss: 0.000324\n",
      "#                   Validation loss => 0.018711 | f1: 0.970018 #\n",
      "Epoch  94 => avg_loss: 0.000413\n",
      "#                   Validation loss => 0.018834 | f1: 0.970018 #\n",
      "Epoch  95 => avg_loss: 0.000232\n",
      "#                   Validation loss => 0.018771 | f1: 0.970018 #\n",
      "Epoch  96 => avg_loss: 0.000325\n",
      "#                   Validation loss => 0.018538 | f1: 0.970018 #\n",
      "Epoch  97 => avg_loss: 0.000245\n",
      "#                   Validation loss => 0.018557 | f1: 0.970018 #\n",
      "Epoch  98 => avg_loss: 0.000721\n",
      "#                   Validation loss => 0.020035 | f1: 0.970123 #\n",
      "Epoch  99 => avg_loss: 0.000291\n",
      "#                   Validation loss => 0.019989 | f1: 0.970123 #\n",
      "Epoch 100 => avg_loss: 0.000271\n",
      "#                   Validation loss => 0.019782 | f1: 0.971831 #\n",
      "Epoch 101 => avg_loss: 0.000515\n",
      "#                   Validation loss => 0.019472 | f1: 0.970123 #\n",
      "Epoch 102 => avg_loss: 0.000252\n",
      "#                   Validation loss => 0.019245 | f1: 0.970123 #\n",
      "Epoch 103 => avg_loss: 0.000410\n",
      "#                   Validation loss => 0.019167 | f1: 0.971831 #\n",
      "Epoch 104 => avg_loss: 0.000209\n",
      "#                   Validation loss => 0.019264 | f1: 0.971831 #\n",
      "Epoch 105 => avg_loss: 0.000345\n",
      "#                   Validation loss => 0.019456 | f1: 0.971831 #\n",
      "Epoch 106 => avg_loss: 0.000142\n",
      "#                   Validation loss => 0.019474 | f1: 0.971831 #\n",
      "Epoch 107 => avg_loss: 0.000138\n",
      "#                   Validation loss => 0.019459 | f1: 0.971831 #\n",
      "Epoch 108 => avg_loss: 0.000191\n",
      "#                   Validation loss => 0.019428 | f1: 0.971831 #\n",
      "Epoch 109 => avg_loss: 0.000174\n",
      "#                   Validation loss => 0.019511 | f1: 0.971831 #\n"
     ]
    }
   ],
   "source": [
    "from stud.modelsTests.utils.Trainer_model2_transformer_simple_multilogits import Trainer_model2_transformer_simple_multilogits\n",
    "\n",
    "trainer = Trainer_model2_transformer_simple_multilogits()\n",
    "\n",
    "history = trainer.train(\n",
    "    final_model, optimizer, dataloader_train, dataloader_dev,\n",
    "    epochs=110, device=device,\n",
    "    save_best=True, \n",
    "    min_score=0.95,\n",
    "    save_path_name=os.path.join(model_dir_path, 'model2_weights_transformer_simple_multilogits.pth'),\n",
    "    saved_history=history\n",
    ")"
   ]
  },
  {
   "cell_type": "code",
   "execution_count": 24,
   "metadata": {},
   "outputs": [
    {
     "data": {
      "image/png": "[encoded data removed]",
      "text/plain": [
       "<Figure size 576x576 with 1 Axes>"
      ]
     },
     "metadata": {
      "needs_background": "light"
     },
     "output_type": "display_data"
    }
   ],
   "source": [
    "display_history(history)"
   ]
  },
  {
   "cell_type": "code",
   "execution_count": 25,
   "metadata": {},
   "outputs": [],
   "source": [
    "test_idx = 0"
   ]
  },
  {
   "cell_type": "code",
   "execution_count": 26,
   "metadata": {},
   "outputs": [
    {
     "name": "stdout",
     "output_type": "stream",
     "text": [
      "{'words': ['West', 'Indian', 'all-rounder', 'Phil', 'Simmons', 'took', 'four', 'for', '38', 'on', 'Friday', 'as', 'Leicestershire', 'beat', 'Somerset', 'by', 'an', 'innings', 'and', '39', 'runs', 'in', 'two', 'days', 'to', 'take', 'over', 'at', 'the', 'head', 'of', 'the', 'county', 'championship', '.'], 'ner_tags': ['O', 'O', 'O', 'B', 'I', 'O', 'O', 'O', 'O', 'O', 'O', 'O', 'O', 'O', 'O', 'O', 'O', 'O', 'O', 'O', 'O', 'O', 'O', 'O', 'O', 'O', 'O', 'O', 'O', 'O', 'O', 'O', 'O', 'O', 'O'], 'text': 'West Indian all-rounder Phil Simmons took four for 38 on Friday as Leicestershire beat Somerset by an innings and 39 runs in two days to take over at the head of the county championship .', 'entities': [{'entity': 'Phil Simmons', 'offset': 24}], 'ner': ['O', 'O', 'O', 'B', 'I', 'O', 'O', 'O', 'O', 'O', 'O', 'O', 'O', 'O', 'O', 'O', 'O', 'O', 'O', 'O', 'O', 'O', 'O', 'O', 'O', 'O', 'O', 'O', 'O', 'O', 'O', 'O', 'O', 'O', 'O']}\n"
     ]
    }
   ],
   "source": [
    "rrrr = final_model.predict(dataset_dev.data_raw[test_idx])\n",
    "print(rrrr)"
   ]
  },
  {
   "cell_type": "code",
   "execution_count": 27,
   "metadata": {},
   "outputs": [
    {
     "data": {
      "text/plain": [
       "'Phil Simmons took four for 38 on Friday as Leicestershire beat Somerset by an innings and 39 runs in two days to take over at the head of the county championship .'"
      ]
     },
     "execution_count": 27,
     "metadata": {},
     "output_type": "execute_result"
    }
   ],
   "source": [
    "rrrr['text'][rrrr['entities'][0]['offset']:]"
   ]
  },
  {
   "cell_type": "code",
   "execution_count": 28,
   "metadata": {},
   "outputs": [
    {
     "name": "stdout",
     "output_type": "stream",
     "text": [
      "[0, 0, 0, 0, 0, 0, 0, 1, 2, 0, 0, 0, 0, 0, 0, 0, 0, 0, 0, 0, 0, 0, 0, 0, 0, 0, 0, 0, 0, 0, 0, 0, 0, 0, 0, 0, 0, 0, 0, 0]\n"
     ]
    }
   ],
   "source": [
    "ex_in_simple = dataset_dev.create_collate_fn()([dataset_dev[test_idx]])\n",
    "predictions = final_model.model(\n",
    "    input_ids = ex_in_simple['input_ids'].to(device), \n",
    "    attention_mask = ex_in_simple['attention_mask'].to(device),\n",
    "    token_type_ids = ex_in_simple['token_type_ids'].to(device),\n",
    ")\n",
    "sample_predictions = final_model.model.get_indices(predictions).detach().cpu().tolist()[0]\n",
    "print(sample_predictions)"
   ]
  },
  {
   "cell_type": "code",
   "execution_count": 29,
   "metadata": {},
   "outputs": [
    {
     "data": {
      "text/plain": [
       "['Andy', 'C', '##ad', '##dick']"
      ]
     },
     "execution_count": 29,
     "metadata": {},
     "output_type": "execute_result"
    }
   ],
   "source": [
    "dataset_train.tokenizer.tokenize('Andy Caddick')"
   ]
  },
  {
   "cell_type": "code",
   "execution_count": 30,
   "metadata": {},
   "outputs": [
    {
     "data": {
      "text/plain": [
       "'Andy Caddick'"
      ]
     },
     "execution_count": 30,
     "metadata": {},
     "output_type": "execute_result"
    }
   ],
   "source": [
    "dataset_train.tokenizer.decode( \n",
    "    dataset_train.tokenizer.encode('Andy Caddick')[1:-1]\n",
    ")"
   ]
  },
  {
   "cell_type": "code",
   "execution_count": 31,
   "metadata": {},
   "outputs": [],
   "source": [
    "test_model = Model2(device = device)"
   ]
  },
  {
   "cell_type": "code",
   "execution_count": 32,
   "metadata": {},
   "outputs": [
    {
     "name": "stdout",
     "output_type": "stream",
     "text": [
      "{'text': \"The museum announced in late 2004 the selection of Pritzker Prizewinning architect Renzo Piano to design a new addition to the Gardner's campus. The new wing is currently under construction and scheduled to open to the public in early 2012. In addition to her responsibilities at the Isabella Stewart Gardner Museum, Ms. Hawley serves as a trustee on the boards of the Doris Duke Charitable Foundation, Save Venice, Inc., and the Fenway Alliance of Boston. Prior to her appointment to the Gardner, Anne Hawley founded the Cultural Education Collaborative, an organization dedicated to stimulating arts public policy and arts education.\", 'entities': [{'entity': 'P', 'offset': 51}, {'entity': 'Renzo Piano', 'offset': 83}, {'entity': 'Isabella', 'offset': 284}, {'entity': '. Hawley', 'offset': 319}, {'entity': 'Doris Duke', 'offset': 369}, {'entity': 'Anne Hawley', 'offset': 498}], 'ner': ['O', 'O', 'O', 'O', 'O', 'O', 'O', 'O', 'O', 'B', 'O', 'O', 'B', 'I', 'O', 'O', 'O', 'O', 'O', 'O', 'O', 'O', 'O', 'O', 'O', 'O', 'O', 'O', 'O', 'O', 'O', 'O', 'O', 'O', 'O', 'O', 'O', 'O', 'O', 'O', 'O', 'O', 'O', 'O', 'O', 'O', 'O', 'O', 'O', 'O', 'O', 'B', 'O', 'O', 'O', 'O', 'O', 'B', 'I', 'O', 'O', 'O', 'O', 'O', 'O', 'O', 'O', 'O', 'B', 'I', 'O', 'O', 'O', 'O', 'O', 'O', 'O', 'O', 'O', 'O', 'O', 'O', 'O', 'O', 'O', 'O', 'O', 'O', 'O', 'O', 'O', 'O', 'O', 'O', 'B', 'I', 'O', 'O', 'O', 'O', 'O', 'O', 'O', 'O', 'O', 'O', 'O', 'O', 'O', 'O', 'O', 'O', 'O', 'O']}\n"
     ]
    }
   ],
   "source": [
    "sample_generated = {\n",
    "    'text': \"The museum announced in late 2004 the selection of Pritzker Prizewinning architect Renzo Piano to design a new addition to the Gardner's campus. The new wing is currently under construction and scheduled to open to the public in early 2012. In addition to her responsibilities at the Isabella Stewart Gardner Museum, Ms. Hawley serves as a trustee on the boards of the Doris Duke Charitable Foundation, Save Venice, Inc., and the Fenway Alliance of Boston. Prior to her appointment to the Gardner, Anne Hawley founded the Cultural Education Collaborative, an organization dedicated to stimulating arts public policy and arts education.\"\n",
    "}\n",
    "\n",
    "resp = test_model.predict(sample_generated)\n",
    "\n",
    "print(resp)"
   ]
  },
  {
   "cell_type": "code",
   "execution_count": null,
   "metadata": {},
   "outputs": [],
   "source": []
  }
 ],
 "metadata": {
  "kernelspec": {
   "display_name": "Python 3.9.12 ('nlp2022-hw3')",
   "language": "python",
   "name": "python3"
  },
  "language_info": {
   "codemirror_mode": {
    "name": "ipython",
    "version": 3
   },
   "file_extension": ".py",
   "mimetype": "text/x-python",
   "name": "python",
   "nbconvert_exporter": "python",
   "pygments_lexer": "ipython3",
   "version": "3.9.12"
  },
  "orig_nbformat": 4,
  "vscode": {
   "interpreter": {
    "hash": "1f736fa57697717c80caf738108553872322bbbec02a6cb9049e8f17a4d9a2aa"
   }
  }
 },
 "nbformat": 4,
 "nbformat_minor": 2
}
