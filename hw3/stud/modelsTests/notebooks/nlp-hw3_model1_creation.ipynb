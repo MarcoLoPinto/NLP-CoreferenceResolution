{
 "cells": [
  {
   "cell_type": "markdown",
   "id": "3fe2040e",
   "metadata": {
    "papermill": {
     "duration": 0.078963,
     "end_time": "2022-03-31T22:14:09.386664",
     "exception": false,
     "start_time": "2022-03-31T22:14:09.307701",
     "status": "completed"
    },
    "tags": []
   },
   "source": [
    "# Prerequisites"
   ]
  },
  {
   "cell_type": "code",
   "execution_count": 1,
   "metadata": {},
   "outputs": [
    {
     "name": "stderr",
     "output_type": "stream",
     "text": [
      "/home/marco/miniconda3/envs/nlp2022-hw3/lib/python3.9/site-packages/tqdm/auto.py:22: TqdmWarning: IProgress not found. Please update jupyter and ipywidgets. See https://ipywidgets.readthedocs.io/en/stable/user_install.html\n",
      "  from .autonotebook import tqdm as notebook_tqdm\n"
     ]
    }
   ],
   "source": [
    "import os, sys\n",
    "\n",
    "import numpy as np\n",
    "import tqdm\n",
    "import torch"
   ]
  },
  {
   "cell_type": "markdown",
   "id": "5424a631",
   "metadata": {
    "papermill": {
     "duration": 0.049244,
     "end_time": "2022-03-31T22:14:12.552634",
     "exception": false,
     "start_time": "2022-03-31T22:14:12.503390",
     "status": "completed"
    },
    "tags": []
   },
   "source": [
    "Important paths for the notebook:"
   ]
  },
  {
   "cell_type": "code",
   "execution_count": 2,
   "metadata": {},
   "outputs": [],
   "source": [
    "app_root = '../../../../'\n",
    "test_name = 'test3'\n",
    "datasets_path = os.path.join(app_root, 'data')\n",
    "model_dir_path = os.path.join(app_root, 'model', test_name)\n",
    "\n",
    "data_train_path = os.path.join(datasets_path, 'train.tsv')\n",
    "data_dev_path = os.path.join(datasets_path, 'dev.tsv')"
   ]
  },
  {
   "cell_type": "code",
   "execution_count": 3,
   "metadata": {},
   "outputs": [
    {
     "data": {
      "text/plain": [
       "'cuda'"
      ]
     },
     "execution_count": 3,
     "metadata": {},
     "output_type": "execute_result"
    }
   ],
   "source": [
    "sys.path.append('../../../')\n",
    "\n",
    "%load_ext autoreload\n",
    "%autoreload 2\n",
    "\n",
    "device = 'cuda' if torch.cuda.is_available() else 'cpu'\n",
    "device"
   ]
  },
  {
   "cell_type": "markdown",
   "id": "c7bc95ee",
   "metadata": {
    "papermill": {
     "duration": 0.048851,
     "end_time": "2022-03-31T22:14:13.015246",
     "exception": false,
     "start_time": "2022-03-31T22:14:12.966395",
     "status": "completed"
    },
    "tags": []
   },
   "source": [
    "Setting the seed for reproducibility:"
   ]
  },
  {
   "cell_type": "code",
   "execution_count": 4,
   "metadata": {},
   "outputs": [],
   "source": [
    "SEED = 28\n",
    "\n",
    "# random.seed(SEED) # not used\n",
    "np.random.seed(SEED)\n",
    "torch.manual_seed(SEED)\n",
    "torch.backends.cudnn.deterministic = True"
   ]
  },
  {
   "cell_type": "code",
   "execution_count": 5,
   "metadata": {},
   "outputs": [],
   "source": [
    "global_params = {\n",
    "    'batch_size': 32,\n",
    "    'PAD_TOKEN': '<pad>',\n",
    "    'UNK_TOKEN': '<unk>',\n",
    "    'transformer_name': \"bert-base-cased\",\n",
    "    'mention_tags': {\n",
    "        'p_open':  '<P>', 'p_close':  '</P>', \n",
    "        'e_open':  '<E>', 'e_close':  '</E>', \n",
    "    },\n",
    "}"
   ]
  },
  {
   "cell_type": "markdown",
   "id": "5a9214a0",
   "metadata": {
    "papermill": {
     "duration": 0.049393,
     "end_time": "2022-03-31T22:14:13.226777",
     "exception": false,
     "start_time": "2022-03-31T22:14:13.177384",
     "status": "completed"
    },
    "tags": []
   },
   "source": [
    "# Dataset"
   ]
  },
  {
   "cell_type": "code",
   "execution_count": 6,
   "metadata": {},
   "outputs": [],
   "source": [
    "from stud.modelsTests.dataset.PronDataset_transformer_simple import PronDataset_transformer_simple"
   ]
  },
  {
   "cell_type": "code",
   "execution_count": 7,
   "metadata": {},
   "outputs": [],
   "source": [
    "dataset_train = PronDataset_transformer_simple(\n",
    "    data_train_path, \n",
    "    tokenizer = global_params['transformer_name'])\n",
    "\n",
    "dataset_dev = PronDataset_transformer_simple(\n",
    "    data_dev_path, \n",
    "    tokenizer = global_params['transformer_name'])"
   ]
  },
  {
   "cell_type": "code",
   "execution_count": 8,
   "metadata": {},
   "outputs": [],
   "source": [
    "global_params.update({ \n",
    "    'token_embeddings_len': len(dataset_train.tokenizer),\n",
    "    'resize_token_embeddings': False, # ! not used\n",
    "})"
   ]
  },
  {
   "cell_type": "code",
   "execution_count": 9,
   "metadata": {},
   "outputs": [],
   "source": [
    "np.save(os.path.join(model_dir_path, 'global_params.npy'), global_params)"
   ]
  },
  {
   "cell_type": "markdown",
   "metadata": {},
   "source": [
    "# Dataloader"
   ]
  },
  {
   "cell_type": "code",
   "execution_count": 10,
   "metadata": {},
   "outputs": [],
   "source": [
    "from torch.utils.data import DataLoader"
   ]
  },
  {
   "cell_type": "code",
   "execution_count": 11,
   "metadata": {},
   "outputs": [],
   "source": [
    "import os\n",
    "os.environ[\"TOKENIZERS_PARALLELISM\"] = \"false\"\n",
    "num_workers = 4"
   ]
  },
  {
   "cell_type": "code",
   "execution_count": 12,
   "metadata": {},
   "outputs": [],
   "source": [
    "dataloader_train = DataLoader(\n",
    "    dataset_train,\n",
    "    batch_size=global_params['batch_size'],\n",
    "    collate_fn=dataset_train.create_collate_fn(),\n",
    "    num_workers=num_workers,\n",
    "    shuffle=True,\n",
    ")\n",
    "\n",
    "dataloader_dev = DataLoader(\n",
    "    dataset_dev,\n",
    "    batch_size=global_params['batch_size'],\n",
    "    collate_fn=dataset_dev.create_collate_fn(),\n",
    "    num_workers=num_workers,\n",
    "    shuffle=False,\n",
    ")"
   ]
  },
  {
   "cell_type": "code",
   "execution_count": 13,
   "metadata": {},
   "outputs": [],
   "source": [
    "for e in dataloader_dev:\n",
    "    ex_in = e\n",
    "    break"
   ]
  },
  {
   "cell_type": "code",
   "execution_count": 14,
   "metadata": {},
   "outputs": [
    {
     "data": {
      "text/plain": [
       "dict_keys(['input_ids', 'token_type_ids', 'attention_mask', 'words_ids', 'pronoun_hypotesis_ids', 'possible_pronoun_ids', 'gold_pronoun_id', 'gold_pronoun'])"
      ]
     },
     "execution_count": 14,
     "metadata": {},
     "output_type": "execute_result"
    }
   ],
   "source": [
    "ex_in.keys()"
   ]
  },
  {
   "cell_type": "code",
   "execution_count": 15,
   "metadata": {},
   "outputs": [
    {
     "name": "stdout",
     "output_type": "stream",
     "text": [
      "[-1, 0, 1, 1, 2, 3, 4, 5, 5, 5, 6, 7, 8, 9, 10, 11, 12, 13, 14, 15, 16, 16, 16, 17, 18, 19, 20, 21, 22, 23, 24, 25, 26, 27, 28, 29, 30, 30, 30, 31, 32, 33, 34, 35, 36, 37, 38, 39, 40, 41, 42, 43, 43, 43, 43, 44, 45, 46, 47, 48, 49, 50, 51, 52, 53, 54, 55, 56, 57, 58, 59, 60, 61, 62, -1, -1, -1, -1, -1, -1, -1, -1, -1, -1, -1, -1, -1, -1, -1, -1, -1, -1, -1, -1, -1, -1, -1, -1, -1, -1, -1, -1, -1, -1, -1, -1, -1, -1, -1, -1, -1, -1, -1, -1, -1, -1, -1, -1, -1, -1, -1, -1, -1, -1, -1, -1, -1, -1, -1, -1, -1, -1, -1, -1]\n"
     ]
    },
    {
     "data": {
      "text/plain": [
       "(tensor([0., 0., 0., 0., 0., 0., 0., 0., 0., 0., 0., 0., 0., 1., 0., 0., 0., 0.,\n",
       "         0., 0., 0., 0., 0., 0., 0., 0., 1., 0., 0., 0., 0., 0., 0., 0., 0., 0.,\n",
       "         0., 0., 0., 0., 0., 0., 0., 0., 0., 0., 1., 0., 0., 0., 0., 0., 0., 0.,\n",
       "         0., 0., 0., 0., 0., 0., 0., 0., 0., 0., 0., 0., 0., 0., 0., 0., 0., 0.,\n",
       "         0., 0., 0., 0., 0., 0., 0., 0., 0., 0., 0., 0., 0., 0., 0., 0., 0., 0.,\n",
       "         0., 0., 0., 0., 0., 0., 0., 0., 0., 0., 0., 0., 0., 0., 0., 0., 0., 0.,\n",
       "         0., 0., 0., 0., 0., 0., 0., 0., 0., 0., 0., 0., 0., 0., 0., 0., 0., 0.,\n",
       "         0., 0., 0., 0., 0., 0., 0., 0.]),\n",
       " tensor([0., 0., 0., 0., 0., 0., 0., 0., 0., 0., 0., 0., 0., 0., 0., 0., 0., 0.,\n",
       "         0., 0., 0., 0., 0., 0., 0., 0., 0., 0., 0., 0., 0., 0., 0., 0., 0., 0.,\n",
       "         0., 0., 0., 0., 0., 0., 0., 0., 0., 0., 1., 0., 0., 0., 0., 0., 0., 0.,\n",
       "         0., 0., 0., 0., 0., 0., 0., 0., 0., 0., 0., 0., 0., 0., 0., 0., 0., 0.,\n",
       "         0., 0., 0., 0., 0., 0., 0., 0., 0., 0., 0., 0., 0., 0., 0., 0., 0., 0.,\n",
       "         0., 0., 0., 0., 0., 0., 0., 0., 0., 0., 0., 0., 0., 0., 0., 0., 0., 0.,\n",
       "         0., 0., 0., 0., 0., 0., 0., 0., 0., 0., 0., 0., 0., 0., 0., 0., 0., 0.,\n",
       "         0., 0., 0., 0., 0., 0., 0., 0.]))"
      ]
     },
     "execution_count": 15,
     "metadata": {},
     "output_type": "execute_result"
    }
   ],
   "source": [
    "idx = 1\n",
    "print(ex_in['words_ids'][idx])\n",
    "ex_in['possible_pronoun_ids'][idx], ex_in['gold_pronoun'][idx]"
   ]
  },
  {
   "cell_type": "code",
   "execution_count": 16,
   "metadata": {},
   "outputs": [
    {
     "name": "stdout",
     "output_type": "stream",
     "text": [
      "tensor([  101, 15182,  1753,  1204,  1108,  1255,  1107, 14805,  3169,  3192,\n",
      "          117,  1498,   119,  1430,  1401,   117,  4367,   117,  1108,   170,\n",
      "         4941, 27892, 27229, 17588,   117,  1105,  1123,  1534,   117,  8821,\n",
      "          117,  1868,   170,  9678,  1402,  1107,   139, 14799,  1633,   132,\n",
      "        15182,  1108,  1147,  1503,  1797,   119,  1153,  1108,  4512,  1120,\n",
      "         2090, 10136,  6943, 19773,  1197,  4808,   112,  1323,   113,  1208,\n",
      "         1804,   114,   117,  1498,   117,  1196,  6546,  1624,   112,   188,\n",
      "         1531,   117,  1498,   119,   102,     0,     0,     0,     0,     0]) torch.Size([32, 134])\n"
     ]
    }
   ],
   "source": [
    "print(ex_in['input_ids'][idx][:80], ex_in['input_ids'].shape)"
   ]
  },
  {
   "cell_type": "markdown",
   "metadata": {},
   "source": [
    "# Printing model"
   ]
  },
  {
   "cell_type": "code",
   "execution_count": 17,
   "metadata": {},
   "outputs": [],
   "source": [
    "from stud.modelsTests.utils.print_infos import print_summary, display_history, plot_confusion_matrix, print_classification_report"
   ]
  },
  {
   "cell_type": "markdown",
   "metadata": {},
   "source": [
    "# Fine-tuning the model"
   ]
  },
  {
   "cell_type": "code",
   "execution_count": 18,
   "metadata": {},
   "outputs": [
    {
     "name": "stderr",
     "output_type": "stream",
     "text": [
      "Some weights of the model checkpoint at bert-base-cased were not used when initializing BertModel: ['cls.predictions.transform.LayerNorm.bias', 'cls.predictions.transform.LayerNorm.weight', 'cls.predictions.transform.dense.bias', 'cls.seq_relationship.bias', 'cls.predictions.bias', 'cls.predictions.transform.dense.weight', 'cls.seq_relationship.weight', 'cls.predictions.decoder.weight']\n",
      "- This IS expected if you are initializing BertModel from the checkpoint of a model trained on another task or with another architecture (e.g. initializing a BertForSequenceClassification model from a BertForPreTraining model).\n",
      "- This IS NOT expected if you are initializing BertModel from the checkpoint of a model that you expect to be exactly identical (initializing a BertForSequenceClassification model from a BertForSequenceClassification model).\n"
     ]
    }
   ],
   "source": [
    "from stud.modelsTests.model_1.model1_transformer_simple_multilogits import Model1\n",
    "import torch.optim as optim\n",
    "\n",
    "loss_function = torch.nn.BCELoss()\n",
    "\n",
    "final_model = Model1(\n",
    "    device = device,\n",
    "    loss_fn = loss_function,\n",
    "    model_load_weights = False,\n",
    "    fine_tune_transformer = True,\n",
    ")\n",
    "\n",
    "optimizer = optim.SGD(final_model.model.parameters(), lr=0.0016, momentum=0.9)\n",
    "# optimizer = optim.Adam(model.parameters(), lr=0.0016)"
   ]
  },
  {
   "cell_type": "code",
   "execution_count": 19,
   "metadata": {},
   "outputs": [],
   "source": [
    "freeze_some = False\n",
    "if freeze_some:\n",
    "    unfreeze_word_embeddings = False\n",
    "    unfreeze_transformer_layers = True\n",
    "    unfreeze_from_layer_num = 8\n",
    "    unfreeze_to_layer_num = 99\n",
    "    unfreeze_pooler = True\n",
    "\n",
    "    for name, param in final_model.model.named_parameters():\n",
    "\n",
    "        if name.startswith('transformer_model.embeddings'):\n",
    "            param.requires_grad = unfreeze_word_embeddings\n",
    "\n",
    "        elif name.startswith('transformer_model.encoder.layer'):\n",
    "            layer_num = int(name.split('.')[3])\n",
    "            if layer_num >= unfreeze_from_layer_num and layer_num <= unfreeze_to_layer_num:\n",
    "                param.requires_grad = unfreeze_transformer_layers\n",
    "            else:\n",
    "                param.requires_grad = False\n",
    "\n",
    "        elif name.startswith('transformer_model.pooler'):\n",
    "            param.requires_grad = unfreeze_pooler\n",
    "        \n",
    "        print(param.requires_grad, name)"
   ]
  },
  {
   "cell_type": "code",
   "execution_count": 20,
   "metadata": {},
   "outputs": [
    {
     "name": "stdout",
     "output_type": "stream",
     "text": [
      "Model1_net(\n",
      "  (transformer_model): BertModel(\n",
      "    (embeddings): BertEmbeddings(\n",
      "      (word_embeddings): Embedding(28996, 768, padding_idx=0)\n",
      "      (position_embeddings): Embedding(512, 768)\n",
      "      (token_type_embeddings): Embedding(2, 768)\n",
      "      (LayerNorm): LayerNorm((768,), eps=1e-12, elementwise_affine=True)\n",
      "      (dropout): Dropout(p=0.1, inplace=False)\n",
      "    )\n",
      "    (encoder): BertEncoder(\n",
      "      (layer): ModuleList(\n",
      "        (0): BertLayer(\n",
      "          (attention): BertAttention(\n",
      "            (self): BertSelfAttention(\n",
      "              (query): Linear(in_features=768, out_features=768, bias=True)\n",
      "              (key): Linear(in_features=768, out_features=768, bias=True)\n",
      "              (value): Linear(in_features=768, out_features=768, bias=True)\n",
      "              (dropout): Dropout(p=0.1, inplace=False)\n",
      "            )\n",
      "            (output): BertSelfOutput(\n",
      "              (dense): Linear(in_features=768, out_features=768, bias=True)\n",
      "              (LayerNorm): LayerNorm((768,), eps=1e-12, elementwise_affine=True)\n",
      "              (dropout): Dropout(p=0.1, inplace=False)\n",
      "            )\n",
      "          )\n",
      "          (intermediate): BertIntermediate(\n",
      "            (dense): Linear(in_features=768, out_features=3072, bias=True)\n",
      "            (intermediate_act_fn): GELUActivation()\n",
      "          )\n",
      "          (output): BertOutput(\n",
      "            (dense): Linear(in_features=3072, out_features=768, bias=True)\n",
      "            (LayerNorm): LayerNorm((768,), eps=1e-12, elementwise_affine=True)\n",
      "            (dropout): Dropout(p=0.1, inplace=False)\n",
      "          )\n",
      "        )\n",
      "        (1): BertLayer(\n",
      "          (attention): BertAttention(\n",
      "            (self): BertSelfAttention(\n",
      "              (query): Linear(in_features=768, out_features=768, bias=True)\n",
      "              (key): Linear(in_features=768, out_features=768, bias=True)\n",
      "              (value): Linear(in_features=768, out_features=768, bias=True)\n",
      "              (dropout): Dropout(p=0.1, inplace=False)\n",
      "            )\n",
      "            (output): BertSelfOutput(\n",
      "              (dense): Linear(in_features=768, out_features=768, bias=True)\n",
      "              (LayerNorm): LayerNorm((768,), eps=1e-12, elementwise_affine=True)\n",
      "              (dropout): Dropout(p=0.1, inplace=False)\n",
      "            )\n",
      "          )\n",
      "          (intermediate): BertIntermediate(\n",
      "            (dense): Linear(in_features=768, out_features=3072, bias=True)\n",
      "            (intermediate_act_fn): GELUActivation()\n",
      "          )\n",
      "          (output): BertOutput(\n",
      "            (dense): Linear(in_features=3072, out_features=768, bias=True)\n",
      "            (LayerNorm): LayerNorm((768,), eps=1e-12, elementwise_affine=True)\n",
      "            (dropout): Dropout(p=0.1, inplace=False)\n",
      "          )\n",
      "        )\n",
      "        (2): BertLayer(\n",
      "          (attention): BertAttention(\n",
      "            (self): BertSelfAttention(\n",
      "              (query): Linear(in_features=768, out_features=768, bias=True)\n",
      "              (key): Linear(in_features=768, out_features=768, bias=True)\n",
      "              (value): Linear(in_features=768, out_features=768, bias=True)\n",
      "              (dropout): Dropout(p=0.1, inplace=False)\n",
      "            )\n",
      "            (output): BertSelfOutput(\n",
      "              (dense): Linear(in_features=768, out_features=768, bias=True)\n",
      "              (LayerNorm): LayerNorm((768,), eps=1e-12, elementwise_affine=True)\n",
      "              (dropout): Dropout(p=0.1, inplace=False)\n",
      "            )\n",
      "          )\n",
      "          (intermediate): BertIntermediate(\n",
      "            (dense): Linear(in_features=768, out_features=3072, bias=True)\n",
      "            (intermediate_act_fn): GELUActivation()\n",
      "          )\n",
      "          (output): BertOutput(\n",
      "            (dense): Linear(in_features=3072, out_features=768, bias=True)\n",
      "            (LayerNorm): LayerNorm((768,), eps=1e-12, elementwise_affine=True)\n",
      "            (dropout): Dropout(p=0.1, inplace=False)\n",
      "          )\n",
      "        )\n",
      "        (3): BertLayer(\n",
      "          (attention): BertAttention(\n",
      "            (self): BertSelfAttention(\n",
      "              (query): Linear(in_features=768, out_features=768, bias=True)\n",
      "              (key): Linear(in_features=768, out_features=768, bias=True)\n",
      "              (value): Linear(in_features=768, out_features=768, bias=True)\n",
      "              (dropout): Dropout(p=0.1, inplace=False)\n",
      "            )\n",
      "            (output): BertSelfOutput(\n",
      "              (dense): Linear(in_features=768, out_features=768, bias=True)\n",
      "              (LayerNorm): LayerNorm((768,), eps=1e-12, elementwise_affine=True)\n",
      "              (dropout): Dropout(p=0.1, inplace=False)\n",
      "            )\n",
      "          )\n",
      "          (intermediate): BertIntermediate(\n",
      "            (dense): Linear(in_features=768, out_features=3072, bias=True)\n",
      "            (intermediate_act_fn): GELUActivation()\n",
      "          )\n",
      "          (output): BertOutput(\n",
      "            (dense): Linear(in_features=3072, out_features=768, bias=True)\n",
      "            (LayerNorm): LayerNorm((768,), eps=1e-12, elementwise_affine=True)\n",
      "            (dropout): Dropout(p=0.1, inplace=False)\n",
      "          )\n",
      "        )\n",
      "        (4): BertLayer(\n",
      "          (attention): BertAttention(\n",
      "            (self): BertSelfAttention(\n",
      "              (query): Linear(in_features=768, out_features=768, bias=True)\n",
      "              (key): Linear(in_features=768, out_features=768, bias=True)\n",
      "              (value): Linear(in_features=768, out_features=768, bias=True)\n",
      "              (dropout): Dropout(p=0.1, inplace=False)\n",
      "            )\n",
      "            (output): BertSelfOutput(\n",
      "              (dense): Linear(in_features=768, out_features=768, bias=True)\n",
      "              (LayerNorm): LayerNorm((768,), eps=1e-12, elementwise_affine=True)\n",
      "              (dropout): Dropout(p=0.1, inplace=False)\n",
      "            )\n",
      "          )\n",
      "          (intermediate): BertIntermediate(\n",
      "            (dense): Linear(in_features=768, out_features=3072, bias=True)\n",
      "            (intermediate_act_fn): GELUActivation()\n",
      "          )\n",
      "          (output): BertOutput(\n",
      "            (dense): Linear(in_features=3072, out_features=768, bias=True)\n",
      "            (LayerNorm): LayerNorm((768,), eps=1e-12, elementwise_affine=True)\n",
      "            (dropout): Dropout(p=0.1, inplace=False)\n",
      "          )\n",
      "        )\n",
      "        (5): BertLayer(\n",
      "          (attention): BertAttention(\n",
      "            (self): BertSelfAttention(\n",
      "              (query): Linear(in_features=768, out_features=768, bias=True)\n",
      "              (key): Linear(in_features=768, out_features=768, bias=True)\n",
      "              (value): Linear(in_features=768, out_features=768, bias=True)\n",
      "              (dropout): Dropout(p=0.1, inplace=False)\n",
      "            )\n",
      "            (output): BertSelfOutput(\n",
      "              (dense): Linear(in_features=768, out_features=768, bias=True)\n",
      "              (LayerNorm): LayerNorm((768,), eps=1e-12, elementwise_affine=True)\n",
      "              (dropout): Dropout(p=0.1, inplace=False)\n",
      "            )\n",
      "          )\n",
      "          (intermediate): BertIntermediate(\n",
      "            (dense): Linear(in_features=768, out_features=3072, bias=True)\n",
      "            (intermediate_act_fn): GELUActivation()\n",
      "          )\n",
      "          (output): BertOutput(\n",
      "            (dense): Linear(in_features=3072, out_features=768, bias=True)\n",
      "            (LayerNorm): LayerNorm((768,), eps=1e-12, elementwise_affine=True)\n",
      "            (dropout): Dropout(p=0.1, inplace=False)\n",
      "          )\n",
      "        )\n",
      "        (6): BertLayer(\n",
      "          (attention): BertAttention(\n",
      "            (self): BertSelfAttention(\n",
      "              (query): Linear(in_features=768, out_features=768, bias=True)\n",
      "              (key): Linear(in_features=768, out_features=768, bias=True)\n",
      "              (value): Linear(in_features=768, out_features=768, bias=True)\n",
      "              (dropout): Dropout(p=0.1, inplace=False)\n",
      "            )\n",
      "            (output): BertSelfOutput(\n",
      "              (dense): Linear(in_features=768, out_features=768, bias=True)\n",
      "              (LayerNorm): LayerNorm((768,), eps=1e-12, elementwise_affine=True)\n",
      "              (dropout): Dropout(p=0.1, inplace=False)\n",
      "            )\n",
      "          )\n",
      "          (intermediate): BertIntermediate(\n",
      "            (dense): Linear(in_features=768, out_features=3072, bias=True)\n",
      "            (intermediate_act_fn): GELUActivation()\n",
      "          )\n",
      "          (output): BertOutput(\n",
      "            (dense): Linear(in_features=3072, out_features=768, bias=True)\n",
      "            (LayerNorm): LayerNorm((768,), eps=1e-12, elementwise_affine=True)\n",
      "            (dropout): Dropout(p=0.1, inplace=False)\n",
      "          )\n",
      "        )\n",
      "        (7): BertLayer(\n",
      "          (attention): BertAttention(\n",
      "            (self): BertSelfAttention(\n",
      "              (query): Linear(in_features=768, out_features=768, bias=True)\n",
      "              (key): Linear(in_features=768, out_features=768, bias=True)\n",
      "              (value): Linear(in_features=768, out_features=768, bias=True)\n",
      "              (dropout): Dropout(p=0.1, inplace=False)\n",
      "            )\n",
      "            (output): BertSelfOutput(\n",
      "              (dense): Linear(in_features=768, out_features=768, bias=True)\n",
      "              (LayerNorm): LayerNorm((768,), eps=1e-12, elementwise_affine=True)\n",
      "              (dropout): Dropout(p=0.1, inplace=False)\n",
      "            )\n",
      "          )\n",
      "          (intermediate): BertIntermediate(\n",
      "            (dense): Linear(in_features=768, out_features=3072, bias=True)\n",
      "            (intermediate_act_fn): GELUActivation()\n",
      "          )\n",
      "          (output): BertOutput(\n",
      "            (dense): Linear(in_features=3072, out_features=768, bias=True)\n",
      "            (LayerNorm): LayerNorm((768,), eps=1e-12, elementwise_affine=True)\n",
      "            (dropout): Dropout(p=0.1, inplace=False)\n",
      "          )\n",
      "        )\n",
      "        (8): BertLayer(\n",
      "          (attention): BertAttention(\n",
      "            (self): BertSelfAttention(\n",
      "              (query): Linear(in_features=768, out_features=768, bias=True)\n",
      "              (key): Linear(in_features=768, out_features=768, bias=True)\n",
      "              (value): Linear(in_features=768, out_features=768, bias=True)\n",
      "              (dropout): Dropout(p=0.1, inplace=False)\n",
      "            )\n",
      "            (output): BertSelfOutput(\n",
      "              (dense): Linear(in_features=768, out_features=768, bias=True)\n",
      "              (LayerNorm): LayerNorm((768,), eps=1e-12, elementwise_affine=True)\n",
      "              (dropout): Dropout(p=0.1, inplace=False)\n",
      "            )\n",
      "          )\n",
      "          (intermediate): BertIntermediate(\n",
      "            (dense): Linear(in_features=768, out_features=3072, bias=True)\n",
      "            (intermediate_act_fn): GELUActivation()\n",
      "          )\n",
      "          (output): BertOutput(\n",
      "            (dense): Linear(in_features=3072, out_features=768, bias=True)\n",
      "            (LayerNorm): LayerNorm((768,), eps=1e-12, elementwise_affine=True)\n",
      "            (dropout): Dropout(p=0.1, inplace=False)\n",
      "          )\n",
      "        )\n",
      "        (9): BertLayer(\n",
      "          (attention): BertAttention(\n",
      "            (self): BertSelfAttention(\n",
      "              (query): Linear(in_features=768, out_features=768, bias=True)\n",
      "              (key): Linear(in_features=768, out_features=768, bias=True)\n",
      "              (value): Linear(in_features=768, out_features=768, bias=True)\n",
      "              (dropout): Dropout(p=0.1, inplace=False)\n",
      "            )\n",
      "            (output): BertSelfOutput(\n",
      "              (dense): Linear(in_features=768, out_features=768, bias=True)\n",
      "              (LayerNorm): LayerNorm((768,), eps=1e-12, elementwise_affine=True)\n",
      "              (dropout): Dropout(p=0.1, inplace=False)\n",
      "            )\n",
      "          )\n",
      "          (intermediate): BertIntermediate(\n",
      "            (dense): Linear(in_features=768, out_features=3072, bias=True)\n",
      "            (intermediate_act_fn): GELUActivation()\n",
      "          )\n",
      "          (output): BertOutput(\n",
      "            (dense): Linear(in_features=3072, out_features=768, bias=True)\n",
      "            (LayerNorm): LayerNorm((768,), eps=1e-12, elementwise_affine=True)\n",
      "            (dropout): Dropout(p=0.1, inplace=False)\n",
      "          )\n",
      "        )\n",
      "        (10): BertLayer(\n",
      "          (attention): BertAttention(\n",
      "            (self): BertSelfAttention(\n",
      "              (query): Linear(in_features=768, out_features=768, bias=True)\n",
      "              (key): Linear(in_features=768, out_features=768, bias=True)\n",
      "              (value): Linear(in_features=768, out_features=768, bias=True)\n",
      "              (dropout): Dropout(p=0.1, inplace=False)\n",
      "            )\n",
      "            (output): BertSelfOutput(\n",
      "              (dense): Linear(in_features=768, out_features=768, bias=True)\n",
      "              (LayerNorm): LayerNorm((768,), eps=1e-12, elementwise_affine=True)\n",
      "              (dropout): Dropout(p=0.1, inplace=False)\n",
      "            )\n",
      "          )\n",
      "          (intermediate): BertIntermediate(\n",
      "            (dense): Linear(in_features=768, out_features=3072, bias=True)\n",
      "            (intermediate_act_fn): GELUActivation()\n",
      "          )\n",
      "          (output): BertOutput(\n",
      "            (dense): Linear(in_features=3072, out_features=768, bias=True)\n",
      "            (LayerNorm): LayerNorm((768,), eps=1e-12, elementwise_affine=True)\n",
      "            (dropout): Dropout(p=0.1, inplace=False)\n",
      "          )\n",
      "        )\n",
      "        (11): BertLayer(\n",
      "          (attention): BertAttention(\n",
      "            (self): BertSelfAttention(\n",
      "              (query): Linear(in_features=768, out_features=768, bias=True)\n",
      "              (key): Linear(in_features=768, out_features=768, bias=True)\n",
      "              (value): Linear(in_features=768, out_features=768, bias=True)\n",
      "              (dropout): Dropout(p=0.1, inplace=False)\n",
      "            )\n",
      "            (output): BertSelfOutput(\n",
      "              (dense): Linear(in_features=768, out_features=768, bias=True)\n",
      "              (LayerNorm): LayerNorm((768,), eps=1e-12, elementwise_affine=True)\n",
      "              (dropout): Dropout(p=0.1, inplace=False)\n",
      "            )\n",
      "          )\n",
      "          (intermediate): BertIntermediate(\n",
      "            (dense): Linear(in_features=768, out_features=3072, bias=True)\n",
      "            (intermediate_act_fn): GELUActivation()\n",
      "          )\n",
      "          (output): BertOutput(\n",
      "            (dense): Linear(in_features=3072, out_features=768, bias=True)\n",
      "            (LayerNorm): LayerNorm((768,), eps=1e-12, elementwise_affine=True)\n",
      "            (dropout): Dropout(p=0.1, inplace=False)\n",
      "          )\n",
      "        )\n",
      "      )\n",
      "    )\n",
      "    (pooler): BertPooler(\n",
      "      (dense): Linear(in_features=768, out_features=768, bias=True)\n",
      "      (activation): Tanh()\n",
      "    )\n",
      "  )\n",
      "  (dropout): Dropout(p=0.2, inplace=False)\n",
      "  (classifier): Linear(in_features=768, out_features=1, bias=True)\n",
      "  (sigmoid): Sigmoid()\n",
      "  (loss_fn): BCELoss()\n",
      ")\n",
      "----------------------\n",
      "parameters: 108,311,041\n",
      "trainable parameters: 108,311,041\n",
      "non-trainable parameters: 0\n"
     ]
    }
   ],
   "source": [
    "print_summary(final_model.model)"
   ]
  },
  {
   "cell_type": "code",
   "execution_count": 21,
   "metadata": {},
   "outputs": [
    {
     "name": "stdout",
     "output_type": "stream",
     "text": [
      "tensor([[0., 0., 0., 0., 0., 0., 0., 0., 0., 0., 0., 0., 0., 0., 0., 0., 0., 0.,\n",
      "         0., 0., 0., 0., 0., 0., 0., 0., 0., 0., 0., 0., 0., 0., 0., 0., 0., 0.,\n",
      "         0., 0., 0., 0., 0., 0., 0., 0., 0., 0., 0., 0., 0., 0., 0., 0., 0., 0.,\n",
      "         0., 0., 0., 0., 0., 0., 0., 0., 1., 0., 0., 0., 0., 0., 0., 0., 0., 0.,\n",
      "         0., 0., 0., 0., 0., 0., 0., 0., 0., 0., 0., 0., 0., 0., 0., 0., 0., 0.,\n",
      "         0., 0., 0., 0., 0., 0., 0., 0., 0., 0., 0., 0., 0., 0., 0., 0., 0., 0.,\n",
      "         0., 0., 0., 0., 0., 0., 0., 0., 0., 0., 0., 0., 0., 0., 0., 0., 0., 0.,\n",
      "         0., 0., 0., 0., 0., 0., 0., 0.],\n",
      "        [0., 0., 0., 0., 0., 0., 0., 0., 0., 0., 0., 0., 0., 0., 0., 0., 0., 0.,\n",
      "         0., 0., 0., 0., 0., 0., 0., 0., 0., 0., 0., 0., 0., 0., 0., 0., 0., 0.,\n",
      "         0., 0., 0., 0., 0., 0., 0., 0., 0., 0., 1., 0., 0., 0., 0., 0., 0., 0.,\n",
      "         0., 0., 0., 0., 0., 0., 0., 0., 0., 0., 0., 0., 0., 0., 0., 0., 0., 0.,\n",
      "         0., 0., 0., 0., 0., 0., 0., 0., 0., 0., 0., 0., 0., 0., 0., 0., 0., 0.,\n",
      "         0., 0., 0., 0., 0., 0., 0., 0., 0., 0., 0., 0., 0., 0., 0., 0., 0., 0.,\n",
      "         0., 0., 0., 0., 0., 0., 0., 0., 0., 0., 0., 0., 0., 0., 0., 0., 0., 0.,\n",
      "         0., 0., 0., 0., 0., 0., 0., 0.],\n",
      "        [0., 0., 0., 0., 0., 0., 0., 0., 0., 0., 0., 0., 0., 0., 0., 0., 0., 0.,\n",
      "         0., 0., 0., 0., 0., 0., 0., 0., 0., 0., 0., 0., 0., 0., 0., 0., 0., 0.,\n",
      "         0., 0., 0., 0., 0., 0., 0., 0., 0., 0., 0., 0., 0., 0., 0., 0., 0., 0.,\n",
      "         0., 0., 0., 0., 0., 0., 0., 0., 0., 0., 0., 0., 0., 0., 0., 0., 0., 0.,\n",
      "         0., 0., 0., 0., 0., 0., 0., 0., 0., 0., 0., 0., 0., 0., 0., 0., 0., 0.,\n",
      "         0., 0., 0., 0., 1., 0., 0., 0., 0., 0., 0., 0., 0., 0., 0., 0., 0., 0.,\n",
      "         0., 0., 0., 0., 0., 0., 0., 0., 0., 0., 0., 0., 0., 0., 0., 0., 0., 0.,\n",
      "         0., 0., 0., 0., 0., 0., 0., 0.]], device='cuda:0')\n",
      "tensor([[0.4999, 0.5814, 0.4999, 0.4999, 0.4999, 0.4999, 0.4999, 0.4999, 0.4999,\n",
      "         0.4999, 0.4999, 0.4999, 0.4999, 0.5166, 0.4999, 0.4999, 0.4999, 0.4999,\n",
      "         0.4999, 0.4999, 0.4999, 0.4999, 0.5080, 0.4999, 0.4999, 0.5166, 0.4999,\n",
      "         0.4999, 0.4999, 0.4999, 0.4999, 0.4999, 0.4999, 0.4999, 0.4999, 0.4999,\n",
      "         0.4999, 0.4999, 0.4999, 0.4999, 0.4999, 0.4999, 0.4999, 0.4999, 0.4999,\n",
      "         0.4999, 0.4999, 0.4999, 0.4999, 0.4999, 0.4999, 0.4999, 0.4999, 0.4999,\n",
      "         0.4999, 0.4999, 0.4999, 0.4999, 0.4999, 0.4999, 0.4999, 0.4999, 0.5695,\n",
      "         0.4999, 0.4999, 0.4999, 0.4999, 0.4999, 0.4999, 0.5334, 0.4999, 0.4999,\n",
      "         0.4999, 0.4999, 0.4999, 0.4999, 0.4999, 0.4999, 0.4999, 0.4999, 0.4999,\n",
      "         0.4999, 0.4999, 0.4999, 0.4999, 0.4999, 0.4999, 0.4999, 0.4999, 0.4999,\n",
      "         0.4999, 0.4999, 0.4999, 0.4999, 0.4999, 0.4999, 0.4999, 0.4999, 0.4999,\n",
      "         0.4999, 0.4999, 0.4999, 0.4999, 0.4999, 0.4999, 0.4999, 0.4999, 0.4999,\n",
      "         0.4999, 0.4999, 0.4999, 0.4999, 0.4999, 0.4999, 0.4999, 0.4999, 0.4999,\n",
      "         0.4999, 0.4999, 0.4999, 0.4999, 0.4999, 0.4999, 0.4999, 0.4999, 0.4999,\n",
      "         0.4999, 0.4999, 0.4999, 0.4999, 0.4999, 0.4999, 0.4999, 0.4999],\n",
      "        [0.4999, 0.4999, 0.4999, 0.4999, 0.4999, 0.4999, 0.4999, 0.4999, 0.4999,\n",
      "         0.4999, 0.4999, 0.4999, 0.4999, 0.5659, 0.4999, 0.4999, 0.4999, 0.4999,\n",
      "         0.4999, 0.4999, 0.4999, 0.4999, 0.4999, 0.4999, 0.4999, 0.4999, 0.5545,\n",
      "         0.4999, 0.4999, 0.4999, 0.4999, 0.4999, 0.4999, 0.4999, 0.4999, 0.4999,\n",
      "         0.4999, 0.4999, 0.4999, 0.4999, 0.4999, 0.4999, 0.4999, 0.4999, 0.4999,\n",
      "         0.4999, 0.6161, 0.4999, 0.4999, 0.4999, 0.4999, 0.4999, 0.4999, 0.4999,\n",
      "         0.4999, 0.4999, 0.4999, 0.4999, 0.4999, 0.4999, 0.4999, 0.4999, 0.4999,\n",
      "         0.4999, 0.4999, 0.4999, 0.4999, 0.4999, 0.4999, 0.4999, 0.4999, 0.4999,\n",
      "         0.4999, 0.4999, 0.4999, 0.4999, 0.4999, 0.4999, 0.4999, 0.4999, 0.4999,\n",
      "         0.4999, 0.4999, 0.4999, 0.4999, 0.4999, 0.4999, 0.4999, 0.4999, 0.4999,\n",
      "         0.4999, 0.4999, 0.4999, 0.4999, 0.4999, 0.4999, 0.4999, 0.4999, 0.4999,\n",
      "         0.4999, 0.4999, 0.4999, 0.4999, 0.4999, 0.4999, 0.4999, 0.4999, 0.4999,\n",
      "         0.4999, 0.4999, 0.4999, 0.4999, 0.4999, 0.4999, 0.4999, 0.4999, 0.4999,\n",
      "         0.4999, 0.4999, 0.4999, 0.4999, 0.4999, 0.4999, 0.4999, 0.4999, 0.4999,\n",
      "         0.4999, 0.4999, 0.4999, 0.4999, 0.4999, 0.4999, 0.4999, 0.4999],\n",
      "        [0.4999, 0.4999, 0.6731, 0.4999, 0.4999, 0.6629, 0.4999, 0.4999, 0.4999,\n",
      "         0.4999, 0.4999, 0.4999, 0.4999, 0.4999, 0.4999, 0.4999, 0.4999, 0.4999,\n",
      "         0.6503, 0.4999, 0.4999, 0.4999, 0.4999, 0.4999, 0.4999, 0.4999, 0.4999,\n",
      "         0.4999, 0.4999, 0.4999, 0.4999, 0.4999, 0.4999, 0.4999, 0.4999, 0.4999,\n",
      "         0.4999, 0.4999, 0.4999, 0.4999, 0.4999, 0.4999, 0.4999, 0.4999, 0.6119,\n",
      "         0.4999, 0.4999, 0.4999, 0.6492, 0.4999, 0.4999, 0.4999, 0.4999, 0.4999,\n",
      "         0.4999, 0.4999, 0.4999, 0.4999, 0.4999, 0.4999, 0.4999, 0.4999, 0.4999,\n",
      "         0.4999, 0.4999, 0.4999, 0.4999, 0.4999, 0.4999, 0.4999, 0.4999, 0.4999,\n",
      "         0.4999, 0.4999, 0.4999, 0.4999, 0.4999, 0.4999, 0.4999, 0.4999, 0.4999,\n",
      "         0.4999, 0.4999, 0.4999, 0.4999, 0.4999, 0.4999, 0.4999, 0.4999, 0.4999,\n",
      "         0.4999, 0.4999, 0.4999, 0.4999, 0.5192, 0.4999, 0.4999, 0.4999, 0.4999,\n",
      "         0.4999, 0.4999, 0.4999, 0.4999, 0.4999, 0.4999, 0.4999, 0.4999, 0.4999,\n",
      "         0.4999, 0.4999, 0.4999, 0.4999, 0.4999, 0.4999, 0.4999, 0.4999, 0.4999,\n",
      "         0.4999, 0.4999, 0.4999, 0.4999, 0.4999, 0.4999, 0.4999, 0.4999, 0.4999,\n",
      "         0.4999, 0.4999, 0.4999, 0.4999, 0.4999, 0.4999, 0.4999, 0.4999]],\n",
      "       device='cuda:0', grad_fn=<SqueezeBackward1>)\n",
      "tensor(0.6978, device='cuda:0', grad_fn=<BinaryCrossEntropyBackward>)\n"
     ]
    }
   ],
   "source": [
    "ex_in_simple = dataset_dev.create_collate_fn()([dataset_dev[0], dataset_dev[1], dataset_dev[2]])\n",
    "predictions = final_model.model(\n",
    "    input_ids = ex_in_simple['input_ids'].to(device), \n",
    "    attention_mask = ex_in_simple['attention_mask'].to(device),\n",
    "    token_type_ids = ex_in_simple['token_type_ids'].to(device),\n",
    "    predicted_pronouns = ex_in_simple['possible_pronoun_ids'].to(device),\n",
    ")\n",
    "labels = ex_in_simple['gold_pronoun'].to(device)\n",
    "\n",
    "print(labels)\n",
    "print(predictions)\n",
    "print(final_model.model.compute_loss(predictions, labels ))"
   ]
  },
  {
   "cell_type": "code",
   "execution_count": 22,
   "metadata": {},
   "outputs": [
    {
     "name": "stdout",
     "output_type": "stream",
     "text": [
      "{'id': 'validation-1', 'text': 'He admitted making four trips to China and playing golf there. He also admitted that ZTE officials, whom he says are his golf buddies, hosted and paid for the trips. Jose de Venecia III, son of House Speaker Jose de Venecia Jr, alleged that Abalos offered him US$10 million to withdraw his proposal on the NBN project.', 'pron': 'He', 'p_offset': 0, 'entity_A': 'Jose de Venecia Jr', 'offset_A': 208, 'is_coref_A': 'FALSE', 'entity_B': 'Abalos', 'offset_B': 241, 'is_coref_B': 'FALSE'}\n"
     ]
    }
   ],
   "source": [
    "# os.environ['CUDA_LAUNCH_BLOCKING'] = '1'\n",
    "print(final_model.predict(dataset_dev.data_raw[0]))"
   ]
  },
  {
   "cell_type": "code",
   "execution_count": 23,
   "metadata": {},
   "outputs": [],
   "source": [
    "history = {}"
   ]
  },
  {
   "cell_type": "code",
   "execution_count": 44,
   "metadata": {},
   "outputs": [
    {
     "name": "stdout",
     "output_type": "stream",
     "text": [
      "Epoch   0 => avg_loss: 0.006963\n",
      "WARN: there are 23 offset errors, out of 400 correct in 454 total!\n",
      "#               Validation loss => 0.008301 | accuracy: 0.881057 #\n",
      "Epoch   1 => avg_loss: 0.006851\n",
      "WARN: there are 23 offset errors, out of 400 correct in 454 total!\n",
      "#               Validation loss => 0.008229 | accuracy: 0.881057 #\n",
      "Epoch   2 => avg_loss: 0.006748\n",
      "WARN: there are 23 offset errors, out of 400 correct in 454 total!\n",
      "#               Validation loss => 0.008210 | accuracy: 0.881057 #\n",
      "Epoch   3 => avg_loss: 0.006786\n",
      "WARN: there are 23 offset errors, out of 400 correct in 454 total!\n",
      "#               Validation loss => 0.008177 | accuracy: 0.881057 #\n",
      "Epoch   4 => avg_loss: 0.006689\n",
      "WARN: there are 23 offset errors, out of 400 correct in 454 total!\n",
      "#               Validation loss => 0.008131 | accuracy: 0.881057 #\n",
      "Epoch   5 => avg_loss: 0.006673\n",
      "WARN: there are 23 offset errors, out of 400 correct in 454 total!\n",
      "#               Validation loss => 0.008093 | accuracy: 0.881057 #\n",
      "Epoch   6 => avg_loss: 0.006650\n",
      "WARN: there are 23 offset errors, out of 400 correct in 454 total!\n",
      "#               Validation loss => 0.008066 | accuracy: 0.881057 #\n",
      "Epoch   7 => avg_loss: 0.006528\n",
      "WARN: there are 23 offset errors, out of 400 correct in 454 total!\n",
      "#               Validation loss => 0.008029 | accuracy: 0.881057 #\n",
      "Epoch   8 => avg_loss: 0.006563\n",
      "WARN: there are 23 offset errors, out of 400 correct in 454 total!\n",
      "#               Validation loss => 0.007983 | accuracy: 0.881057 #\n",
      "Epoch   9 => avg_loss: 0.006444\n",
      "WARN: there are 23 offset errors, out of 400 correct in 454 total!\n",
      "#               Validation loss => 0.007965 | accuracy: 0.881057 #\n",
      "Epoch  10 => avg_loss: 0.006408\n",
      "WARN: there are 23 offset errors, out of 400 correct in 454 total!\n",
      "#               Validation loss => 0.007941 | accuracy: 0.881057 #\n",
      "Epoch  11 => avg_loss: 0.006487\n",
      "WARN: there are 23 offset errors, out of 400 correct in 454 total!\n",
      "#               Validation loss => 0.007913 | accuracy: 0.881057 #\n",
      "Epoch  12 => avg_loss: 0.006371\n",
      "WARN: there are 23 offset errors, out of 400 correct in 454 total!\n",
      "#               Validation loss => 0.007872 | accuracy: 0.881057 #\n",
      "Epoch  13 => avg_loss: 0.006326\n",
      "WARN: there are 23 offset errors, out of 400 correct in 454 total!\n",
      "#               Validation loss => 0.007856 | accuracy: 0.881057 #\n",
      "Epoch  14 => avg_loss: 0.006316\n",
      "WARN: there are 23 offset errors, out of 400 correct in 454 total!\n",
      "#               Validation loss => 0.007825 | accuracy: 0.881057 #\n",
      "Epoch  15 => avg_loss: 0.006253\n",
      "WARN: there are 23 offset errors, out of 400 correct in 454 total!\n",
      "#               Validation loss => 0.007816 | accuracy: 0.881057 #\n",
      "Epoch  16 => avg_loss: 0.006116\n",
      "WARN: there are 23 offset errors, out of 400 correct in 454 total!\n",
      "#               Validation loss => 0.007765 | accuracy: 0.881057 #\n",
      "Epoch  17 => avg_loss: 0.006156\n",
      "WARN: there are 23 offset errors, out of 403 correct in 454 total!\n",
      "#               Validation loss => 0.007737 | accuracy: 0.887665 #\n",
      "----- Best value obtained, saving model -----\n",
      "Epoch  18 => avg_loss: 0.006136\n",
      "WARN: there are 23 offset errors, out of 402 correct in 454 total!\n",
      "#               Validation loss => 0.007701 | accuracy: 0.885463 #\n",
      "Epoch  19 => avg_loss: 0.006080\n",
      "WARN: there are 23 offset errors, out of 402 correct in 454 total!\n",
      "#               Validation loss => 0.007686 | accuracy: 0.885463 #\n",
      "Epoch  20 => avg_loss: 0.006117\n",
      "WARN: there are 23 offset errors, out of 402 correct in 454 total!\n",
      "#               Validation loss => 0.007668 | accuracy: 0.885463 #\n",
      "Epoch  21 => avg_loss: 0.006018\n",
      "WARN: there are 23 offset errors, out of 402 correct in 454 total!\n",
      "#               Validation loss => 0.007628 | accuracy: 0.885463 #\n",
      "Epoch  22 => avg_loss: 0.005995\n",
      "WARN: there are 23 offset errors, out of 402 correct in 454 total!\n",
      "#               Validation loss => 0.007607 | accuracy: 0.885463 #\n",
      "Epoch  23 => avg_loss: 0.005929\n",
      "WARN: there are 23 offset errors, out of 402 correct in 454 total!\n",
      "#               Validation loss => 0.007575 | accuracy: 0.885463 #\n",
      "Epoch  24 => avg_loss: 0.005905\n",
      "WARN: there are 23 offset errors, out of 402 correct in 454 total!\n",
      "#               Validation loss => 0.007575 | accuracy: 0.885463 #\n",
      "Epoch  25 => avg_loss: 0.005957\n",
      "WARN: there are 23 offset errors, out of 402 correct in 454 total!\n",
      "#               Validation loss => 0.007534 | accuracy: 0.885463 #\n",
      "Epoch  26 => avg_loss: 0.005848\n",
      "WARN: there are 23 offset errors, out of 402 correct in 454 total!\n",
      "#               Validation loss => 0.007505 | accuracy: 0.885463 #\n",
      "Epoch  27 => avg_loss: 0.005783\n",
      "WARN: there are 23 offset errors, out of 402 correct in 454 total!\n",
      "#               Validation loss => 0.007467 | accuracy: 0.885463 #\n",
      "Epoch  28 => avg_loss: 0.005784\n",
      "WARN: there are 23 offset errors, out of 402 correct in 454 total!\n",
      "#               Validation loss => 0.007469 | accuracy: 0.885463 #\n",
      "Epoch  29 => avg_loss: 0.005723\n",
      "WARN: there are 23 offset errors, out of 402 correct in 454 total!\n",
      "#               Validation loss => 0.007430 | accuracy: 0.885463 #\n",
      "Epoch  30 => avg_loss: 0.005704\n",
      "WARN: there are 23 offset errors, out of 402 correct in 454 total!\n",
      "#               Validation loss => 0.007461 | accuracy: 0.885463 #\n",
      "Epoch  31 => avg_loss: 0.005719\n",
      "WARN: there are 23 offset errors, out of 402 correct in 454 total!\n",
      "#               Validation loss => 0.007378 | accuracy: 0.885463 #\n",
      "Epoch  32 => avg_loss: 0.005565\n",
      "WARN: there are 23 offset errors, out of 403 correct in 454 total!\n",
      "#               Validation loss => 0.007370 | accuracy: 0.887665 #\n",
      "Epoch  33 => avg_loss: 0.005648\n",
      "WARN: there are 23 offset errors, out of 402 correct in 454 total!\n",
      "#               Validation loss => 0.007337 | accuracy: 0.885463 #\n",
      "Epoch  34 => avg_loss: 0.005614\n",
      "WARN: there are 23 offset errors, out of 404 correct in 454 total!\n",
      "#               Validation loss => 0.007318 | accuracy: 0.889868 #\n",
      "----- Best value obtained, saving model -----\n",
      "Epoch  35 => avg_loss: 0.005493\n",
      "WARN: there are 23 offset errors, out of 402 correct in 454 total!\n",
      "#               Validation loss => 0.007311 | accuracy: 0.885463 #\n",
      "Epoch  36 => avg_loss: 0.005491\n",
      "WARN: there are 23 offset errors, out of 402 correct in 454 total!\n",
      "#               Validation loss => 0.007293 | accuracy: 0.885463 #\n",
      "Epoch  37 => avg_loss: 0.005463\n",
      "WARN: there are 23 offset errors, out of 404 correct in 454 total!\n",
      "#               Validation loss => 0.007274 | accuracy: 0.889868 #\n",
      "Epoch  38 => avg_loss: 0.005441\n",
      "WARN: there are 23 offset errors, out of 404 correct in 454 total!\n",
      "#               Validation loss => 0.007241 | accuracy: 0.889868 #\n",
      "Epoch  39 => avg_loss: 0.005378\n",
      "WARN: there are 23 offset errors, out of 404 correct in 454 total!\n",
      "#               Validation loss => 0.007244 | accuracy: 0.889868 #\n"
     ]
    }
   ],
   "source": [
    "from stud.modelsTests.utils.Trainer_model1_transformer_simple_multilogits import Trainer_model1_transformer_simple_multilogits\n",
    "\n",
    "trainer = Trainer_model1_transformer_simple_multilogits()\n",
    "\n",
    "history = trainer.train(\n",
    "    final_model, optimizer, dataloader_train, dataloader_dev,\n",
    "    epochs=40, device=device,\n",
    "    save_best=True, \n",
    "    min_score=0.6,\n",
    "    save_path_name=os.path.join(model_dir_path, 'model1_weights_transformer_simple_multilogits.pth'),\n",
    "    saved_history=history\n",
    ")"
   ]
  },
  {
   "cell_type": "code",
   "execution_count": 46,
   "metadata": {},
   "outputs": [
    {
     "data": {
      "image/png": "[encoded data removed]",
      "text/plain": [
       "<Figure size 576x576 with 1 Axes>"
      ]
     },
     "metadata": {
      "needs_background": "light"
     },
     "output_type": "display_data"
    }
   ],
   "source": [
    "display_history(history)"
   ]
  },
  {
   "cell_type": "code",
   "execution_count": 47,
   "metadata": {},
   "outputs": [
    {
     "name": "stdout",
     "output_type": "stream",
     "text": [
      "``I know this for a fact that the manager and the players are 100 per cent behind David Dein and I can see real repercussions coming off the back of this.'' http://www.independent.co.uk/sport/football/premier-league/players-upset-by-deins-departure-445419.html%20 Thierry Henry claimed that David Dein's departure as vice-chairman had dismayed him and left him in no doubt that it was time to move on. ['him', 344]\n",
      "['him', 377] 106\n"
     ]
    }
   ],
   "source": [
    "blacklist = []\n",
    "\n",
    "for idxxx in range(len(dataset_dev.data_raw)):\n",
    "    eerrs = final_model.predict(dataset_dev.data_raw[idxxx])\n",
    "    if eerrs['pron'] == dataset_dev.data_raw[idxxx]['pron'] and eerrs['p_offset'] != dataset_dev.data_raw[idxxx]['p_offset'] and idxxx not in blacklist:\n",
    "        print(dataset_dev.data_raw[idxxx]['text'], [dataset_dev.data_raw[idxxx]['pron'], dataset_dev.data_raw[idxxx]['p_offset']])\n",
    "        print([eerrs['pron'], eerrs['p_offset']], idxxx)\n",
    "        break"
   ]
  },
  {
   "cell_type": "code",
   "execution_count": 39,
   "metadata": {},
   "outputs": [
    {
     "data": {
      "text/plain": [
       "' it was time to move on.'"
      ]
     },
     "execution_count": 39,
     "metadata": {},
     "output_type": "execute_result"
    }
   ],
   "source": [
    "\"``I know this for a fact that the manager and the players are 100 per cent behind David Dein and I can see real repercussions coming off the back of this.'' http://www.independent.co.uk/sport/football/premier-league/players-upset-by-deins-departure-445419.html%20 Thierry Henry claimed that David Dein's departure as vice-chairman had dismayed him and left him in no doubt that it was time to move on.\"[377:]"
   ]
  },
  {
   "cell_type": "code",
   "execution_count": 28,
   "metadata": {},
   "outputs": [],
   "source": [
    "import re\n",
    "pron = 'him'\n",
    "regexed = r\"\" + \"\\W(\" + pron + \")\\W\"\n",
    "strdd = \"http://www.independent.co.uk/sport/football/premier-league/players-upset-by-deins-departure-445419.html%20 that him is lol\"\n",
    "resex = re.search(regexed, strdd)"
   ]
  },
  {
   "cell_type": "code",
   "execution_count": 29,
   "metadata": {},
   "outputs": [
    {
     "data": {
      "text/plain": [
       "'him is lol'"
      ]
     },
     "execution_count": 29,
     "metadata": {},
     "output_type": "execute_result"
    }
   ],
   "source": [
    "strdd[resex.start()+1:]"
   ]
  },
  {
   "cell_type": "markdown",
   "metadata": {},
   "source": [
    "# Eval"
   ]
  },
  {
   "cell_type": "code",
   "execution_count": 48,
   "metadata": {},
   "outputs": [],
   "source": [
    "from stud.modelsTests.model_1.model1_transformer_simple_multilogits import Model1\n",
    "\n",
    "final_model = Model1(device = device)"
   ]
  },
  {
   "cell_type": "code",
   "execution_count": 49,
   "metadata": {},
   "outputs": [],
   "source": [
    "from stud.modelsTests.utils.Trainer_model1_transformer_simple_multilogits import Trainer_model1_transformer_simple_multilogits\n",
    "\n",
    "trainer = Trainer_model1_transformer_simple_multilogits()\n",
    "\n",
    "evaluate = trainer.compute_evaluations"
   ]
  },
  {
   "cell_type": "code",
   "execution_count": 50,
   "metadata": {},
   "outputs": [],
   "source": [
    "predictions = []\n",
    "with torch.no_grad():\n",
    "    for step, sample in enumerate(dataset_dev.data_raw):\n",
    "        predictions.append( final_model.predict(sample) )"
   ]
  },
  {
   "cell_type": "code",
   "execution_count": 51,
   "metadata": {},
   "outputs": [
    {
     "name": "stdout",
     "output_type": "stream",
     "text": [
      "WARN: there are 23 offset errors, out of 404 correct in 454 total!\n"
     ]
    },
    {
     "data": {
      "text/plain": [
       "{'accuracy': 0.8898678414096917}"
      ]
     },
     "execution_count": 51,
     "metadata": {},
     "output_type": "execute_result"
    }
   ],
   "source": [
    "ev_res = evaluate(predictions, dataset_dev.data_raw)\n",
    "ev_res"
   ]
  },
  {
   "cell_type": "code",
   "execution_count": null,
   "metadata": {},
   "outputs": [],
   "source": []
  }
 ],
 "metadata": {
  "kernelspec": {
   "display_name": "Python 3.9.12 ('nlp2022-hw3')",
   "language": "python",
   "name": "python3"
  },
  "language_info": {
   "codemirror_mode": {
    "name": "ipython",
    "version": 3
   },
   "file_extension": ".py",
   "mimetype": "text/x-python",
   "name": "python",
   "nbconvert_exporter": "python",
   "pygments_lexer": "ipython3",
   "version": "3.9.12"
  },
  "orig_nbformat": 4,
  "vscode": {
   "interpreter": {
    "hash": "1f736fa57697717c80caf738108553872322bbbec02a6cb9049e8f17a4d9a2aa"
   }
  }
 },
 "nbformat": 4,
 "nbformat_minor": 2
}
