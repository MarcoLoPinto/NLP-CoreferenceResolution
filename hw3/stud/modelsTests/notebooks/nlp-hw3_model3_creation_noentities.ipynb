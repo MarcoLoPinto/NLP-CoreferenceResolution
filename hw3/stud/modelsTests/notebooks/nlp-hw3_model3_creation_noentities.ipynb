{
 "cells": [
  {
   "cell_type": "markdown",
   "id": "3fe2040e",
   "metadata": {
    "papermill": {
     "duration": 0.078963,
     "end_time": "2022-03-31T22:14:09.386664",
     "exception": false,
     "start_time": "2022-03-31T22:14:09.307701",
     "status": "completed"
    },
    "tags": []
   },
   "source": [
    "# Prerequisites"
   ]
  },
  {
   "cell_type": "code",
   "execution_count": 1,
   "metadata": {},
   "outputs": [
    {
     "name": "stderr",
     "output_type": "stream",
     "text": [
      "/home/marco/miniconda3/envs/nlp2022-hw3/lib/python3.9/site-packages/tqdm/auto.py:22: TqdmWarning: IProgress not found. Please update jupyter and ipywidgets. See https://ipywidgets.readthedocs.io/en/stable/user_install.html\n",
      "  from .autonotebook import tqdm as notebook_tqdm\n"
     ]
    }
   ],
   "source": [
    "import os, sys\n",
    "\n",
    "import numpy as np\n",
    "import tqdm\n",
    "import torch"
   ]
  },
  {
   "cell_type": "markdown",
   "id": "5424a631",
   "metadata": {
    "papermill": {
     "duration": 0.049244,
     "end_time": "2022-03-31T22:14:12.552634",
     "exception": false,
     "start_time": "2022-03-31T22:14:12.503390",
     "status": "completed"
    },
    "tags": []
   },
   "source": [
    "Important paths for the notebook:"
   ]
  },
  {
   "cell_type": "code",
   "execution_count": 2,
   "metadata": {},
   "outputs": [],
   "source": [
    "app_root = '../../../../'\n",
    "test_name = 'test1_noentities'\n",
    "datasets_path = os.path.join(app_root, 'data')\n",
    "model_dir_path = os.path.join(app_root, 'model', test_name)\n",
    "\n",
    "data_train_path = os.path.join(datasets_path, 'train.tsv')\n",
    "data_dev_path = os.path.join(datasets_path, 'dev.tsv')"
   ]
  },
  {
   "cell_type": "code",
   "execution_count": 3,
   "metadata": {},
   "outputs": [
    {
     "data": {
      "text/plain": [
       "'cuda'"
      ]
     },
     "execution_count": 3,
     "metadata": {},
     "output_type": "execute_result"
    }
   ],
   "source": [
    "sys.path.append('../../../')\n",
    "\n",
    "%load_ext autoreload\n",
    "%autoreload 2\n",
    "\n",
    "device = 'cuda' if torch.cuda.is_available() else 'cpu'\n",
    "device"
   ]
  },
  {
   "cell_type": "markdown",
   "id": "c7bc95ee",
   "metadata": {
    "papermill": {
     "duration": 0.048851,
     "end_time": "2022-03-31T22:14:13.015246",
     "exception": false,
     "start_time": "2022-03-31T22:14:12.966395",
     "status": "completed"
    },
    "tags": []
   },
   "source": [
    "Setting the seed for reproducibility:"
   ]
  },
  {
   "cell_type": "code",
   "execution_count": 4,
   "metadata": {},
   "outputs": [],
   "source": [
    "SEED = 28\n",
    "\n",
    "# random.seed(SEED) # not used\n",
    "np.random.seed(SEED)\n",
    "torch.manual_seed(SEED)\n",
    "torch.backends.cudnn.deterministic = True"
   ]
  },
  {
   "cell_type": "code",
   "execution_count": 5,
   "metadata": {},
   "outputs": [],
   "source": [
    "global_params = {\n",
    "    'batch_size': 32,\n",
    "    'PAD_TOKEN': '<pad>',\n",
    "    'UNK_TOKEN': '<unk>',\n",
    "    'transformer_name': \"bert-base-cased\",\n",
    "    'mention_tags': {\n",
    "        'p_open':  '<P>', 'p_close':  '</P>', \n",
    "        'e_open':  '<E>', 'e_close':  '</E>', \n",
    "    },\n",
    "}"
   ]
  },
  {
   "cell_type": "markdown",
   "id": "5a9214a0",
   "metadata": {
    "papermill": {
     "duration": 0.049393,
     "end_time": "2022-03-31T22:14:13.226777",
     "exception": false,
     "start_time": "2022-03-31T22:14:13.177384",
     "status": "completed"
    },
    "tags": []
   },
   "source": [
    "# Dataset"
   ]
  },
  {
   "cell_type": "code",
   "execution_count": 6,
   "metadata": {},
   "outputs": [],
   "source": [
    "from stud.modelsTests.dataset.Dataset_transformer_simple_multilogits import Dataset_transformer_simple_multilogits"
   ]
  },
  {
   "cell_type": "code",
   "execution_count": 7,
   "metadata": {},
   "outputs": [],
   "source": [
    "dataset_train = Dataset_transformer_simple_multilogits(\n",
    "    data_train_path, \n",
    "    tokenizer = global_params['transformer_name'])\n",
    "\n",
    "dataset_dev = Dataset_transformer_simple_multilogits(\n",
    "    data_dev_path, \n",
    "    tokenizer = global_params['transformer_name'])"
   ]
  },
  {
   "cell_type": "code",
   "execution_count": 8,
   "metadata": {},
   "outputs": [],
   "source": [
    "global_params.update({ \n",
    "    'token_embeddings_len': len(dataset_train.tokenizer),\n",
    "    'resize_token_embeddings': False, # ! not used\n",
    "})"
   ]
  },
  {
   "cell_type": "code",
   "execution_count": 9,
   "metadata": {},
   "outputs": [],
   "source": [
    "np.save(os.path.join(model_dir_path, 'global_params.npy'), global_params)"
   ]
  },
  {
   "cell_type": "markdown",
   "metadata": {},
   "source": [
    "# Dataloader"
   ]
  },
  {
   "cell_type": "code",
   "execution_count": 10,
   "metadata": {},
   "outputs": [],
   "source": [
    "from torch.utils.data import DataLoader"
   ]
  },
  {
   "cell_type": "code",
   "execution_count": 11,
   "metadata": {},
   "outputs": [],
   "source": [
    "import os\n",
    "os.environ[\"TOKENIZERS_PARALLELISM\"] = \"false\"\n",
    "num_workers = 4"
   ]
  },
  {
   "cell_type": "code",
   "execution_count": 12,
   "metadata": {},
   "outputs": [],
   "source": [
    "dataloader_train = DataLoader(\n",
    "    dataset_train,\n",
    "    batch_size=global_params['batch_size'],\n",
    "    collate_fn=dataset_train.create_collate_fn(),\n",
    "    num_workers=num_workers,\n",
    "    shuffle=True,\n",
    ")\n",
    "\n",
    "dataloader_dev = DataLoader(\n",
    "    dataset_dev,\n",
    "    batch_size=global_params['batch_size'],\n",
    "    collate_fn=dataset_dev.create_collate_fn(),\n",
    "    num_workers=num_workers,\n",
    "    shuffle=False,\n",
    ")"
   ]
  },
  {
   "cell_type": "code",
   "execution_count": 13,
   "metadata": {},
   "outputs": [],
   "source": [
    "for e in dataloader_dev:\n",
    "    ex_in = e\n",
    "    break"
   ]
  },
  {
   "cell_type": "code",
   "execution_count": 14,
   "metadata": {},
   "outputs": [
    {
     "data": {
      "text/plain": [
       "dict_keys(['input_ids', 'token_type_ids', 'attention_mask', 'words_ids', 'predicted_entity_ids', 'predicted_entities', 'gold_entity_ids', 'gold_entities'])"
      ]
     },
     "execution_count": 14,
     "metadata": {},
     "output_type": "execute_result"
    }
   ],
   "source": [
    "ex_in.keys()"
   ]
  },
  {
   "cell_type": "code",
   "execution_count": 15,
   "metadata": {},
   "outputs": [
    {
     "name": "stdout",
     "output_type": "stream",
     "text": [
      "[-1, 0, 1, 1, 2, 3, 4, 5, 5, 5, 6, 7, 8, 9, 10, 11, 12, 13, 14, 15, 16, 16, 16, 17, 18, 19, 20, 21, 22, 23, 24, 25, 26, 27, 28, 29, 30, 30, 30, 31, 32, 33, 34, 35, 36, 37, 38, 39, 40, 41, 42, 43, 43, 43, 43, 44, 45, 46, 47, 48, 49, 50, 51, 52, 53, 54, 55, 56, 57, 58, 59, 60, 61, 62, -1, 0, -1, -1, -1, -1, -1, -1, -1, -1, -1, -1, -1, -1, -1, -1, -1, -1, -1, -1, -1, -1, -1, -1, -1, -1, -1, -1, -1, -1, -1, -1, -1, -1, -1, -1, -1, -1, -1, -1, -1, -1, -1, -1, -1, -1, -1, -1, -1, -1, -1, -1, -1, -1, -1, -1, -1, -1, -1, -1, -1, -1]\n"
     ]
    },
    {
     "data": {
      "text/plain": [
       "({8821: {'name': 'Ellen', 'offset': 110},\n",
       "  15182: {'name': 'Kathleen', 'offset': 150}},\n",
       " {15182: {'name': 'Kathleen', 'offset': 150}})"
      ]
     },
     "execution_count": 15,
     "metadata": {},
     "output_type": "execute_result"
    }
   ],
   "source": [
    "idx = 1\n",
    "print(ex_in['words_ids'][idx])\n",
    "ex_in['predicted_entity_ids'][idx], ex_in['gold_entity_ids'][idx]\n"
   ]
  },
  {
   "cell_type": "code",
   "execution_count": 16,
   "metadata": {},
   "outputs": [
    {
     "name": "stdout",
     "output_type": "stream",
     "text": [
      "tensor([  101, 15182,  1753,  1204,  1108,  1255,  1107, 14805,  3169,  3192,\n",
      "          117,  1498,   119,  1430,  1401,   117,  4367,   117,  1108,   170,\n",
      "         4941, 27892, 27229, 17588,   117,  1105,  1123,  1534,   117,  8821,\n",
      "          117,  1868,   170,  9678,  1402,  1107,   139, 14799,  1633,   132,\n",
      "        15182,  1108,  1147,  1503,  1797,   119,  1153,  1108,  4512,  1120,\n",
      "         2090, 10136,  6943, 19773,  1197,  4808,   112,  1323,   113,  1208,\n",
      "         1804,   114,   117,  1498,   117,  1196,  6546,  1624,   112,   188,\n",
      "         1531,   117,  1498,   119,   102,  1153,   102,     0,     0,     0,\n",
      "            0,     0,     0,     0,     0,     0,     0,     0,     0,     0,\n",
      "            0,     0,     0,     0,     0,     0,     0,     0,     0,     0,\n",
      "            0,     0,     0,     0,     0,     0,     0,     0,     0,     0,\n",
      "            0,     0,     0,     0,     0,     0,     0,     0,     0,     0]) torch.Size([32, 136])\n",
      "tensor([0., 0., 0., 0., 0., 0., 0., 0., 0., 0., 0., 0., 0., 0., 0., 0., 0., 0.,\n",
      "        0., 0., 0., 0., 0., 0., 0., 0., 0., 0., 0., 1., 0., 0., 0., 0., 0., 0.,\n",
      "        0., 0., 0., 0., 1., 0., 0., 0., 0., 0., 0., 0., 0., 0., 0., 0., 0., 0.,\n",
      "        0., 0., 0., 0., 0., 0., 0., 0., 0., 0., 0., 0., 0., 0., 0., 0., 0., 0.,\n",
      "        0., 0., 0., 0., 0., 0., 0., 0., 0., 0., 0., 0., 0., 0., 0., 0., 0., 0.,\n",
      "        0., 0., 0., 0., 0., 0., 0., 0., 0., 0., 0., 0., 0., 0., 0., 0., 0., 0.,\n",
      "        0., 0., 0., 0., 0., 0., 0., 0., 0., 0., 0., 0.]) torch.Size([32, 136])\n",
      "tensor([0., 0., 0., 0., 0., 0., 0., 0., 0., 0., 0., 0., 0., 0., 0., 0., 0., 0.,\n",
      "        0., 0., 0., 0., 0., 0., 0., 0., 0., 0., 0., 0., 0., 0., 0., 0., 0., 0.,\n",
      "        0., 0., 0., 0., 1., 0., 0., 0., 0., 0., 0., 0., 0., 0., 0., 0., 0., 0.,\n",
      "        0., 0., 0., 0., 0., 0., 0., 0., 0., 0., 0., 0., 0., 0., 0., 0., 0., 0.,\n",
      "        0., 0., 0., 0., 0., 0., 0., 0., 0., 0., 0., 0., 0., 0., 0., 0., 0., 0.,\n",
      "        0., 0., 0., 0., 0., 0., 0., 0., 0., 0., 0., 0., 0., 0., 0., 0., 0., 0.,\n",
      "        0., 0., 0., 0., 0., 0., 0., 0., 0., 0., 0., 0.]) torch.Size([32, 136])\n"
     ]
    }
   ],
   "source": [
    "print(ex_in['input_ids'][idx][:120], ex_in['input_ids'].shape)\n",
    "print(ex_in['predicted_entities'][idx][:120],  ex_in['predicted_entities'].shape)\n",
    "print(ex_in['gold_entities'][idx][:120],  ex_in['gold_entities'].shape)"
   ]
  },
  {
   "cell_type": "markdown",
   "metadata": {},
   "source": [
    "# Printing model"
   ]
  },
  {
   "cell_type": "code",
   "execution_count": 17,
   "metadata": {},
   "outputs": [],
   "source": [
    "from stud.modelsTests.utils.print_infos import print_summary, display_history, plot_confusion_matrix, print_classification_report"
   ]
  },
  {
   "cell_type": "markdown",
   "metadata": {},
   "source": [
    "# Fine-tuning the model"
   ]
  },
  {
   "cell_type": "code",
   "execution_count": 18,
   "metadata": {},
   "outputs": [
    {
     "name": "stderr",
     "output_type": "stream",
     "text": [
      "Some weights of the model checkpoint at bert-base-cased were not used when initializing BertModel: ['cls.seq_relationship.weight', 'cls.predictions.transform.dense.bias', 'cls.predictions.bias', 'cls.predictions.transform.dense.weight', 'cls.predictions.transform.LayerNorm.weight', 'cls.predictions.decoder.weight', 'cls.predictions.transform.LayerNorm.bias', 'cls.seq_relationship.bias']\n",
      "- This IS expected if you are initializing BertModel from the checkpoint of a model trained on another task or with another architecture (e.g. initializing a BertForSequenceClassification model from a BertForPreTraining model).\n",
      "- This IS NOT expected if you are initializing BertModel from the checkpoint of a model that you expect to be exactly identical (initializing a BertForSequenceClassification model from a BertForSequenceClassification model).\n"
     ]
    }
   ],
   "source": [
    "from stud.modelsTests.model_3.model3_transformer_simple_multilogits import Model3\n",
    "import torch.optim as optim\n",
    "\n",
    "loss_function = torch.nn.BCELoss()\n",
    "\n",
    "final_model = Model3(\n",
    "    device = device,\n",
    "    loss_fn = loss_function,\n",
    "    model_load_weights = False,\n",
    "    fine_tune_transformer = True,\n",
    "    use_entities = False, # !\n",
    ")\n",
    "\n",
    "optimizer = optim.SGD(final_model.model.parameters(), lr=0.0016, momentum=0.9)\n",
    "# optimizer = optim.Adam(model.parameters(), lr=0.0016)"
   ]
  },
  {
   "cell_type": "code",
   "execution_count": 19,
   "metadata": {},
   "outputs": [],
   "source": [
    "freeze_some = False\n",
    "if freeze_some:\n",
    "    unfreeze_word_embeddings = False\n",
    "    unfreeze_transformer_layers = True\n",
    "    unfreeze_from_layer_num = 8\n",
    "    unfreeze_to_layer_num = 99\n",
    "    unfreeze_pooler = True\n",
    "\n",
    "    for name, param in final_model.model.named_parameters():\n",
    "\n",
    "        if name.startswith('transformer_model.embeddings'):\n",
    "            param.requires_grad = unfreeze_word_embeddings\n",
    "\n",
    "        elif name.startswith('transformer_model.encoder.layer'):\n",
    "            layer_num = int(name.split('.')[3])\n",
    "            if layer_num >= unfreeze_from_layer_num and layer_num <= unfreeze_to_layer_num:\n",
    "                param.requires_grad = unfreeze_transformer_layers\n",
    "            else:\n",
    "                param.requires_grad = False\n",
    "\n",
    "        elif name.startswith('transformer_model.pooler'):\n",
    "            param.requires_grad = unfreeze_pooler\n",
    "        \n",
    "        print(param.requires_grad, name)"
   ]
  },
  {
   "cell_type": "code",
   "execution_count": 20,
   "metadata": {},
   "outputs": [
    {
     "name": "stdout",
     "output_type": "stream",
     "text": [
      "Model3_net(\n",
      "  (transformer_model): BertModel(\n",
      "    (embeddings): BertEmbeddings(\n",
      "      (word_embeddings): Embedding(28996, 768, padding_idx=0)\n",
      "      (position_embeddings): Embedding(512, 768)\n",
      "      (token_type_embeddings): Embedding(2, 768)\n",
      "      (LayerNorm): LayerNorm((768,), eps=1e-12, elementwise_affine=True)\n",
      "      (dropout): Dropout(p=0.1, inplace=False)\n",
      "    )\n",
      "    (encoder): BertEncoder(\n",
      "      (layer): ModuleList(\n",
      "        (0): BertLayer(\n",
      "          (attention): BertAttention(\n",
      "            (self): BertSelfAttention(\n",
      "              (query): Linear(in_features=768, out_features=768, bias=True)\n",
      "              (key): Linear(in_features=768, out_features=768, bias=True)\n",
      "              (value): Linear(in_features=768, out_features=768, bias=True)\n",
      "              (dropout): Dropout(p=0.1, inplace=False)\n",
      "            )\n",
      "            (output): BertSelfOutput(\n",
      "              (dense): Linear(in_features=768, out_features=768, bias=True)\n",
      "              (LayerNorm): LayerNorm((768,), eps=1e-12, elementwise_affine=True)\n",
      "              (dropout): Dropout(p=0.1, inplace=False)\n",
      "            )\n",
      "          )\n",
      "          (intermediate): BertIntermediate(\n",
      "            (dense): Linear(in_features=768, out_features=3072, bias=True)\n",
      "            (intermediate_act_fn): GELUActivation()\n",
      "          )\n",
      "          (output): BertOutput(\n",
      "            (dense): Linear(in_features=3072, out_features=768, bias=True)\n",
      "            (LayerNorm): LayerNorm((768,), eps=1e-12, elementwise_affine=True)\n",
      "            (dropout): Dropout(p=0.1, inplace=False)\n",
      "          )\n",
      "        )\n",
      "        (1): BertLayer(\n",
      "          (attention): BertAttention(\n",
      "            (self): BertSelfAttention(\n",
      "              (query): Linear(in_features=768, out_features=768, bias=True)\n",
      "              (key): Linear(in_features=768, out_features=768, bias=True)\n",
      "              (value): Linear(in_features=768, out_features=768, bias=True)\n",
      "              (dropout): Dropout(p=0.1, inplace=False)\n",
      "            )\n",
      "            (output): BertSelfOutput(\n",
      "              (dense): Linear(in_features=768, out_features=768, bias=True)\n",
      "              (LayerNorm): LayerNorm((768,), eps=1e-12, elementwise_affine=True)\n",
      "              (dropout): Dropout(p=0.1, inplace=False)\n",
      "            )\n",
      "          )\n",
      "          (intermediate): BertIntermediate(\n",
      "            (dense): Linear(in_features=768, out_features=3072, bias=True)\n",
      "            (intermediate_act_fn): GELUActivation()\n",
      "          )\n",
      "          (output): BertOutput(\n",
      "            (dense): Linear(in_features=3072, out_features=768, bias=True)\n",
      "            (LayerNorm): LayerNorm((768,), eps=1e-12, elementwise_affine=True)\n",
      "            (dropout): Dropout(p=0.1, inplace=False)\n",
      "          )\n",
      "        )\n",
      "        (2): BertLayer(\n",
      "          (attention): BertAttention(\n",
      "            (self): BertSelfAttention(\n",
      "              (query): Linear(in_features=768, out_features=768, bias=True)\n",
      "              (key): Linear(in_features=768, out_features=768, bias=True)\n",
      "              (value): Linear(in_features=768, out_features=768, bias=True)\n",
      "              (dropout): Dropout(p=0.1, inplace=False)\n",
      "            )\n",
      "            (output): BertSelfOutput(\n",
      "              (dense): Linear(in_features=768, out_features=768, bias=True)\n",
      "              (LayerNorm): LayerNorm((768,), eps=1e-12, elementwise_affine=True)\n",
      "              (dropout): Dropout(p=0.1, inplace=False)\n",
      "            )\n",
      "          )\n",
      "          (intermediate): BertIntermediate(\n",
      "            (dense): Linear(in_features=768, out_features=3072, bias=True)\n",
      "            (intermediate_act_fn): GELUActivation()\n",
      "          )\n",
      "          (output): BertOutput(\n",
      "            (dense): Linear(in_features=3072, out_features=768, bias=True)\n",
      "            (LayerNorm): LayerNorm((768,), eps=1e-12, elementwise_affine=True)\n",
      "            (dropout): Dropout(p=0.1, inplace=False)\n",
      "          )\n",
      "        )\n",
      "        (3): BertLayer(\n",
      "          (attention): BertAttention(\n",
      "            (self): BertSelfAttention(\n",
      "              (query): Linear(in_features=768, out_features=768, bias=True)\n",
      "              (key): Linear(in_features=768, out_features=768, bias=True)\n",
      "              (value): Linear(in_features=768, out_features=768, bias=True)\n",
      "              (dropout): Dropout(p=0.1, inplace=False)\n",
      "            )\n",
      "            (output): BertSelfOutput(\n",
      "              (dense): Linear(in_features=768, out_features=768, bias=True)\n",
      "              (LayerNorm): LayerNorm((768,), eps=1e-12, elementwise_affine=True)\n",
      "              (dropout): Dropout(p=0.1, inplace=False)\n",
      "            )\n",
      "          )\n",
      "          (intermediate): BertIntermediate(\n",
      "            (dense): Linear(in_features=768, out_features=3072, bias=True)\n",
      "            (intermediate_act_fn): GELUActivation()\n",
      "          )\n",
      "          (output): BertOutput(\n",
      "            (dense): Linear(in_features=3072, out_features=768, bias=True)\n",
      "            (LayerNorm): LayerNorm((768,), eps=1e-12, elementwise_affine=True)\n",
      "            (dropout): Dropout(p=0.1, inplace=False)\n",
      "          )\n",
      "        )\n",
      "        (4): BertLayer(\n",
      "          (attention): BertAttention(\n",
      "            (self): BertSelfAttention(\n",
      "              (query): Linear(in_features=768, out_features=768, bias=True)\n",
      "              (key): Linear(in_features=768, out_features=768, bias=True)\n",
      "              (value): Linear(in_features=768, out_features=768, bias=True)\n",
      "              (dropout): Dropout(p=0.1, inplace=False)\n",
      "            )\n",
      "            (output): BertSelfOutput(\n",
      "              (dense): Linear(in_features=768, out_features=768, bias=True)\n",
      "              (LayerNorm): LayerNorm((768,), eps=1e-12, elementwise_affine=True)\n",
      "              (dropout): Dropout(p=0.1, inplace=False)\n",
      "            )\n",
      "          )\n",
      "          (intermediate): BertIntermediate(\n",
      "            (dense): Linear(in_features=768, out_features=3072, bias=True)\n",
      "            (intermediate_act_fn): GELUActivation()\n",
      "          )\n",
      "          (output): BertOutput(\n",
      "            (dense): Linear(in_features=3072, out_features=768, bias=True)\n",
      "            (LayerNorm): LayerNorm((768,), eps=1e-12, elementwise_affine=True)\n",
      "            (dropout): Dropout(p=0.1, inplace=False)\n",
      "          )\n",
      "        )\n",
      "        (5): BertLayer(\n",
      "          (attention): BertAttention(\n",
      "            (self): BertSelfAttention(\n",
      "              (query): Linear(in_features=768, out_features=768, bias=True)\n",
      "              (key): Linear(in_features=768, out_features=768, bias=True)\n",
      "              (value): Linear(in_features=768, out_features=768, bias=True)\n",
      "              (dropout): Dropout(p=0.1, inplace=False)\n",
      "            )\n",
      "            (output): BertSelfOutput(\n",
      "              (dense): Linear(in_features=768, out_features=768, bias=True)\n",
      "              (LayerNorm): LayerNorm((768,), eps=1e-12, elementwise_affine=True)\n",
      "              (dropout): Dropout(p=0.1, inplace=False)\n",
      "            )\n",
      "          )\n",
      "          (intermediate): BertIntermediate(\n",
      "            (dense): Linear(in_features=768, out_features=3072, bias=True)\n",
      "            (intermediate_act_fn): GELUActivation()\n",
      "          )\n",
      "          (output): BertOutput(\n",
      "            (dense): Linear(in_features=3072, out_features=768, bias=True)\n",
      "            (LayerNorm): LayerNorm((768,), eps=1e-12, elementwise_affine=True)\n",
      "            (dropout): Dropout(p=0.1, inplace=False)\n",
      "          )\n",
      "        )\n",
      "        (6): BertLayer(\n",
      "          (attention): BertAttention(\n",
      "            (self): BertSelfAttention(\n",
      "              (query): Linear(in_features=768, out_features=768, bias=True)\n",
      "              (key): Linear(in_features=768, out_features=768, bias=True)\n",
      "              (value): Linear(in_features=768, out_features=768, bias=True)\n",
      "              (dropout): Dropout(p=0.1, inplace=False)\n",
      "            )\n",
      "            (output): BertSelfOutput(\n",
      "              (dense): Linear(in_features=768, out_features=768, bias=True)\n",
      "              (LayerNorm): LayerNorm((768,), eps=1e-12, elementwise_affine=True)\n",
      "              (dropout): Dropout(p=0.1, inplace=False)\n",
      "            )\n",
      "          )\n",
      "          (intermediate): BertIntermediate(\n",
      "            (dense): Linear(in_features=768, out_features=3072, bias=True)\n",
      "            (intermediate_act_fn): GELUActivation()\n",
      "          )\n",
      "          (output): BertOutput(\n",
      "            (dense): Linear(in_features=3072, out_features=768, bias=True)\n",
      "            (LayerNorm): LayerNorm((768,), eps=1e-12, elementwise_affine=True)\n",
      "            (dropout): Dropout(p=0.1, inplace=False)\n",
      "          )\n",
      "        )\n",
      "        (7): BertLayer(\n",
      "          (attention): BertAttention(\n",
      "            (self): BertSelfAttention(\n",
      "              (query): Linear(in_features=768, out_features=768, bias=True)\n",
      "              (key): Linear(in_features=768, out_features=768, bias=True)\n",
      "              (value): Linear(in_features=768, out_features=768, bias=True)\n",
      "              (dropout): Dropout(p=0.1, inplace=False)\n",
      "            )\n",
      "            (output): BertSelfOutput(\n",
      "              (dense): Linear(in_features=768, out_features=768, bias=True)\n",
      "              (LayerNorm): LayerNorm((768,), eps=1e-12, elementwise_affine=True)\n",
      "              (dropout): Dropout(p=0.1, inplace=False)\n",
      "            )\n",
      "          )\n",
      "          (intermediate): BertIntermediate(\n",
      "            (dense): Linear(in_features=768, out_features=3072, bias=True)\n",
      "            (intermediate_act_fn): GELUActivation()\n",
      "          )\n",
      "          (output): BertOutput(\n",
      "            (dense): Linear(in_features=3072, out_features=768, bias=True)\n",
      "            (LayerNorm): LayerNorm((768,), eps=1e-12, elementwise_affine=True)\n",
      "            (dropout): Dropout(p=0.1, inplace=False)\n",
      "          )\n",
      "        )\n",
      "        (8): BertLayer(\n",
      "          (attention): BertAttention(\n",
      "            (self): BertSelfAttention(\n",
      "              (query): Linear(in_features=768, out_features=768, bias=True)\n",
      "              (key): Linear(in_features=768, out_features=768, bias=True)\n",
      "              (value): Linear(in_features=768, out_features=768, bias=True)\n",
      "              (dropout): Dropout(p=0.1, inplace=False)\n",
      "            )\n",
      "            (output): BertSelfOutput(\n",
      "              (dense): Linear(in_features=768, out_features=768, bias=True)\n",
      "              (LayerNorm): LayerNorm((768,), eps=1e-12, elementwise_affine=True)\n",
      "              (dropout): Dropout(p=0.1, inplace=False)\n",
      "            )\n",
      "          )\n",
      "          (intermediate): BertIntermediate(\n",
      "            (dense): Linear(in_features=768, out_features=3072, bias=True)\n",
      "            (intermediate_act_fn): GELUActivation()\n",
      "          )\n",
      "          (output): BertOutput(\n",
      "            (dense): Linear(in_features=3072, out_features=768, bias=True)\n",
      "            (LayerNorm): LayerNorm((768,), eps=1e-12, elementwise_affine=True)\n",
      "            (dropout): Dropout(p=0.1, inplace=False)\n",
      "          )\n",
      "        )\n",
      "        (9): BertLayer(\n",
      "          (attention): BertAttention(\n",
      "            (self): BertSelfAttention(\n",
      "              (query): Linear(in_features=768, out_features=768, bias=True)\n",
      "              (key): Linear(in_features=768, out_features=768, bias=True)\n",
      "              (value): Linear(in_features=768, out_features=768, bias=True)\n",
      "              (dropout): Dropout(p=0.1, inplace=False)\n",
      "            )\n",
      "            (output): BertSelfOutput(\n",
      "              (dense): Linear(in_features=768, out_features=768, bias=True)\n",
      "              (LayerNorm): LayerNorm((768,), eps=1e-12, elementwise_affine=True)\n",
      "              (dropout): Dropout(p=0.1, inplace=False)\n",
      "            )\n",
      "          )\n",
      "          (intermediate): BertIntermediate(\n",
      "            (dense): Linear(in_features=768, out_features=3072, bias=True)\n",
      "            (intermediate_act_fn): GELUActivation()\n",
      "          )\n",
      "          (output): BertOutput(\n",
      "            (dense): Linear(in_features=3072, out_features=768, bias=True)\n",
      "            (LayerNorm): LayerNorm((768,), eps=1e-12, elementwise_affine=True)\n",
      "            (dropout): Dropout(p=0.1, inplace=False)\n",
      "          )\n",
      "        )\n",
      "        (10): BertLayer(\n",
      "          (attention): BertAttention(\n",
      "            (self): BertSelfAttention(\n",
      "              (query): Linear(in_features=768, out_features=768, bias=True)\n",
      "              (key): Linear(in_features=768, out_features=768, bias=True)\n",
      "              (value): Linear(in_features=768, out_features=768, bias=True)\n",
      "              (dropout): Dropout(p=0.1, inplace=False)\n",
      "            )\n",
      "            (output): BertSelfOutput(\n",
      "              (dense): Linear(in_features=768, out_features=768, bias=True)\n",
      "              (LayerNorm): LayerNorm((768,), eps=1e-12, elementwise_affine=True)\n",
      "              (dropout): Dropout(p=0.1, inplace=False)\n",
      "            )\n",
      "          )\n",
      "          (intermediate): BertIntermediate(\n",
      "            (dense): Linear(in_features=768, out_features=3072, bias=True)\n",
      "            (intermediate_act_fn): GELUActivation()\n",
      "          )\n",
      "          (output): BertOutput(\n",
      "            (dense): Linear(in_features=3072, out_features=768, bias=True)\n",
      "            (LayerNorm): LayerNorm((768,), eps=1e-12, elementwise_affine=True)\n",
      "            (dropout): Dropout(p=0.1, inplace=False)\n",
      "          )\n",
      "        )\n",
      "        (11): BertLayer(\n",
      "          (attention): BertAttention(\n",
      "            (self): BertSelfAttention(\n",
      "              (query): Linear(in_features=768, out_features=768, bias=True)\n",
      "              (key): Linear(in_features=768, out_features=768, bias=True)\n",
      "              (value): Linear(in_features=768, out_features=768, bias=True)\n",
      "              (dropout): Dropout(p=0.1, inplace=False)\n",
      "            )\n",
      "            (output): BertSelfOutput(\n",
      "              (dense): Linear(in_features=768, out_features=768, bias=True)\n",
      "              (LayerNorm): LayerNorm((768,), eps=1e-12, elementwise_affine=True)\n",
      "              (dropout): Dropout(p=0.1, inplace=False)\n",
      "            )\n",
      "          )\n",
      "          (intermediate): BertIntermediate(\n",
      "            (dense): Linear(in_features=768, out_features=3072, bias=True)\n",
      "            (intermediate_act_fn): GELUActivation()\n",
      "          )\n",
      "          (output): BertOutput(\n",
      "            (dense): Linear(in_features=3072, out_features=768, bias=True)\n",
      "            (LayerNorm): LayerNorm((768,), eps=1e-12, elementwise_affine=True)\n",
      "            (dropout): Dropout(p=0.1, inplace=False)\n",
      "          )\n",
      "        )\n",
      "      )\n",
      "    )\n",
      "    (pooler): BertPooler(\n",
      "      (dense): Linear(in_features=768, out_features=768, bias=True)\n",
      "      (activation): Tanh()\n",
      "    )\n",
      "  )\n",
      "  (dropout): Dropout(p=0.2, inplace=False)\n",
      "  (classifier): Linear(in_features=768, out_features=1, bias=True)\n",
      "  (sigmoid): Sigmoid()\n",
      "  (loss_fn): BCELoss()\n",
      ")\n",
      "----------------------\n",
      "parameters: 108,311,041\n",
      "trainable parameters: 108,311,041\n",
      "non-trainable parameters: 0\n"
     ]
    }
   ],
   "source": [
    "print_summary(final_model.model)"
   ]
  },
  {
   "cell_type": "code",
   "execution_count": 21,
   "metadata": {},
   "outputs": [
    {
     "name": "stdout",
     "output_type": "stream",
     "text": [
      "tensor([[0., 0., 0., 0., 0., 0., 0., 0., 0., 0., 0., 0., 0., 0., 0., 0., 0., 0.,\n",
      "         0., 0., 0., 0., 0., 0., 0., 0., 0., 0., 0., 0., 0., 0., 0., 0., 0., 0.,\n",
      "         0., 0., 0., 0., 0., 0., 0., 0., 0., 0., 0., 0., 0., 0., 0., 0., 0., 0.,\n",
      "         0., 0., 0., 0., 0., 0., 0., 0., 0., 0., 0., 0., 0., 0., 0., 0., 0., 0.,\n",
      "         0., 0., 0., 0., 0., 0., 0., 0., 0., 0., 0., 0., 0., 0., 0., 0., 0., 0.,\n",
      "         0., 0., 0., 0., 0., 0., 0., 0., 0., 0., 0., 0., 0., 0., 0., 0., 0., 0.,\n",
      "         0., 0., 0., 0., 0., 0., 0., 0., 0., 0., 0., 0., 0., 0., 0., 0., 0., 0.,\n",
      "         0., 0., 0., 0., 0., 0., 0., 0., 0., 0.],\n",
      "        [0., 0., 0., 0., 0., 0., 0., 0., 0., 0., 0., 0., 0., 0., 0., 0., 0., 0.,\n",
      "         0., 0., 0., 0., 0., 0., 0., 0., 0., 0., 0., 0., 0., 0., 0., 0., 0., 0.,\n",
      "         0., 0., 0., 0., 1., 0., 0., 0., 0., 0., 0., 0., 0., 0., 0., 0., 0., 0.,\n",
      "         0., 0., 0., 0., 0., 0., 0., 0., 0., 0., 0., 0., 0., 0., 0., 0., 0., 0.,\n",
      "         0., 0., 0., 0., 0., 0., 0., 0., 0., 0., 0., 0., 0., 0., 0., 0., 0., 0.,\n",
      "         0., 0., 0., 0., 0., 0., 0., 0., 0., 0., 0., 0., 0., 0., 0., 0., 0., 0.,\n",
      "         0., 0., 0., 0., 0., 0., 0., 0., 0., 0., 0., 0., 0., 0., 0., 0., 0., 0.,\n",
      "         0., 0., 0., 0., 0., 0., 0., 0., 0., 0.],\n",
      "        [0., 0., 0., 0., 0., 0., 0., 0., 0., 0., 0., 0., 0., 0., 0., 0., 0., 0.,\n",
      "         0., 0., 0., 0., 0., 0., 0., 0., 0., 0., 0., 0., 0., 0., 0., 0., 0., 0.,\n",
      "         0., 0., 0., 0., 0., 0., 0., 0., 0., 0., 0., 0., 0., 0., 0., 0., 0., 0.,\n",
      "         0., 0., 0., 0., 0., 0., 0., 0., 0., 0., 0., 0., 0., 0., 0., 0., 0., 0.,\n",
      "         0., 0., 0., 0., 0., 0., 0., 0., 0., 0., 0., 0., 0., 0., 0., 0., 0., 1.,\n",
      "         0., 0., 0., 0., 0., 0., 0., 0., 0., 0., 0., 0., 0., 0., 0., 0., 0., 0.,\n",
      "         0., 0., 0., 0., 0., 0., 0., 0., 0., 0., 0., 0., 0., 0., 0., 0., 0., 0.,\n",
      "         0., 0., 0., 0., 0., 0., 0., 0., 0., 0.]], device='cuda:0')\n",
      "tensor([[0.5572, 0.5861, 0.6371, 0.5658, 0.5130, 0.5740, 0.6344, 0.5980, 0.5553,\n",
      "         0.5726, 0.5520, 0.5985, 0.4945, 0.5251, 0.6124, 0.6211, 0.5383, 0.5991,\n",
      "         0.6123, 0.6250, 0.5603, 0.5853, 0.5118, 0.5667, 0.5342, 0.5173, 0.5179,\n",
      "         0.5602, 0.5679, 0.5949, 0.5563, 0.5878, 0.5278, 0.5701, 0.5344, 0.5536,\n",
      "         0.5503, 0.4945, 0.6644, 0.6088, 0.5544, 0.5753, 0.5908, 0.4830, 0.5366,\n",
      "         0.5172, 0.5582, 0.6290, 0.5542, 0.6590, 0.5954, 0.5379, 0.5679, 0.5914,\n",
      "         0.5036, 0.5624, 0.6574, 0.6093, 0.6147, 0.5937, 0.5535, 0.5964, 0.5723,\n",
      "         0.6047, 0.5995, 0.6712, 0.6468, 0.5795, 0.6077, 0.5425, 0.6586, 0.6365,\n",
      "         0.6282, 0.6124, 0.5732, 0.6479, 0.5800, 0.4915, 0.4974, 0.5395, 0.4974,\n",
      "         0.5328, 0.5540, 0.5726, 0.5691, 0.5625, 0.5526, 0.5874, 0.5977, 0.5984,\n",
      "         0.6055, 0.5673, 0.5691, 0.5742, 0.5543, 0.5651, 0.5631, 0.5591, 0.5282,\n",
      "         0.5601, 0.5647, 0.5483, 0.5491, 0.5641, 0.5611, 0.5774, 0.5955, 0.5828,\n",
      "         0.5581, 0.5550, 0.5248, 0.5210, 0.5420, 0.5894, 0.5721, 0.5531, 0.5675,\n",
      "         0.5882, 0.5847, 0.6175, 0.5943, 0.5532, 0.5652, 0.5776, 0.5558, 0.5660,\n",
      "         0.5615, 0.5815, 0.6151, 0.5660, 0.5529, 0.5746, 0.5640, 0.6111, 0.5510,\n",
      "         0.5579],\n",
      "        [0.5293, 0.6073, 0.6064, 0.5830, 0.5076, 0.5734, 0.5750, 0.5688, 0.5451,\n",
      "         0.5610, 0.5250, 0.5890, 0.5086, 0.5694, 0.5122, 0.4745, 0.6010, 0.4625,\n",
      "         0.5285, 0.5996, 0.6404, 0.5675, 0.5934, 0.5824, 0.5123, 0.4930, 0.5573,\n",
      "         0.5819, 0.4881, 0.7027, 0.4838, 0.5388, 0.4441, 0.5307, 0.5185, 0.5157,\n",
      "         0.5047, 0.5390, 0.5330, 0.5185, 0.5661, 0.4394, 0.4835, 0.4006, 0.5992,\n",
      "         0.5114, 0.6142, 0.5071, 0.5520, 0.5800, 0.5662, 0.6056, 0.5695, 0.5953,\n",
      "         0.5078, 0.6299, 0.6068, 0.5419, 0.5976, 0.5669, 0.6534, 0.5808, 0.5277,\n",
      "         0.5958, 0.4938, 0.4962, 0.5605, 0.5267, 0.5982, 0.5929, 0.5312, 0.4972,\n",
      "         0.6097, 0.5107, 0.5137, 0.5959, 0.5137, 0.5242, 0.5601, 0.5800, 0.5490,\n",
      "         0.5742, 0.5897, 0.5807, 0.5193, 0.5816, 0.6024, 0.5641, 0.5490, 0.5686,\n",
      "         0.5233, 0.5427, 0.5494, 0.5477, 0.5783, 0.5668, 0.5187, 0.5219, 0.5396,\n",
      "         0.5265, 0.5375, 0.5719, 0.5946, 0.5461, 0.5554, 0.5982, 0.5908, 0.5581,\n",
      "         0.5640, 0.5846, 0.5576, 0.5325, 0.5596, 0.5250, 0.5117, 0.5330, 0.5465,\n",
      "         0.6119, 0.6275, 0.5853, 0.5274, 0.6152, 0.5753, 0.5654, 0.5752, 0.5763,\n",
      "         0.5248, 0.5028, 0.5333, 0.5113, 0.5109, 0.4998, 0.5273, 0.5494, 0.5161,\n",
      "         0.5119],\n",
      "        [0.5386, 0.6078, 0.6733, 0.5938, 0.5808, 0.6603, 0.6541, 0.6028, 0.5437,\n",
      "         0.5902, 0.5948, 0.5510, 0.6096, 0.5212, 0.5433, 0.5811, 0.5482, 0.5105,\n",
      "         0.6512, 0.6060, 0.6502, 0.5868, 0.5409, 0.5798, 0.6184, 0.5339, 0.5711,\n",
      "         0.5894, 0.5003, 0.6136, 0.5764, 0.6062, 0.5249, 0.5448, 0.5970, 0.5521,\n",
      "         0.5752, 0.6159, 0.5378, 0.5465, 0.6195, 0.5441, 0.5519, 0.5849, 0.6158,\n",
      "         0.5622, 0.6530, 0.5773, 0.6458, 0.5788, 0.5995, 0.5689, 0.5790, 0.5502,\n",
      "         0.5924, 0.5685, 0.5369, 0.5906, 0.5506, 0.6602, 0.5884, 0.5328, 0.5330,\n",
      "         0.5751, 0.6244, 0.5460, 0.5635, 0.5755, 0.6040, 0.5842, 0.5513, 0.5942,\n",
      "         0.5915, 0.5310, 0.5484, 0.5979, 0.5693, 0.5320, 0.5145, 0.4846, 0.5382,\n",
      "         0.5981, 0.4988, 0.6434, 0.6206, 0.5260, 0.5322, 0.5451, 0.5979, 0.6138,\n",
      "         0.5990, 0.6047, 0.4880, 0.5814, 0.5066, 0.6432, 0.6472, 0.5931, 0.4733,\n",
      "         0.5964, 0.6070, 0.6763, 0.5082, 0.6434, 0.6022, 0.5312, 0.5431, 0.5693,\n",
      "         0.5169, 0.5516, 0.5234, 0.5256, 0.5705, 0.4497, 0.5544, 0.5103, 0.5232,\n",
      "         0.5548, 0.5532, 0.6358, 0.4673, 0.4455, 0.4992, 0.4561, 0.5094, 0.5353,\n",
      "         0.5298, 0.4737, 0.5000, 0.5228, 0.6518, 0.5282, 0.5728, 0.5895, 0.5291,\n",
      "         0.5895]], device='cuda:0', grad_fn=<SqueezeBackward1>)\n",
      "tensor(0.8329, device='cuda:0', grad_fn=<BinaryCrossEntropyBackward>)\n"
     ]
    }
   ],
   "source": [
    "ex_in_simple = dataset_dev.create_collate_fn()([dataset_dev[0], dataset_dev[1], dataset_dev[2]])\n",
    "predictions = final_model.model(\n",
    "    input_ids = ex_in_simple['input_ids'].to(device), \n",
    "    attention_mask = ex_in_simple['attention_mask'].to(device),\n",
    "    token_type_ids = ex_in_simple['token_type_ids'].to(device),\n",
    "    predicted_entities = ex_in_simple['predicted_entities'].to(device),\n",
    ")\n",
    "labels = ex_in_simple['gold_entities'].to(device)\n",
    "\n",
    "print(labels)\n",
    "print(predictions)\n",
    "print(final_model.model.compute_loss(predictions, labels ))"
   ]
  },
  {
   "cell_type": "code",
   "execution_count": 22,
   "metadata": {},
   "outputs": [
    {
     "name": "stdout",
     "output_type": "stream",
     "text": [
      "(('him', 256), ('[unused65]', 270))\n"
     ]
    }
   ],
   "source": [
    "# os.environ['CUDA_LAUNCH_BLOCKING'] = '1'\n",
    "print(final_model.predict(dataset_dev.data_raw[0]))"
   ]
  },
  {
   "cell_type": "code",
   "execution_count": 23,
   "metadata": {},
   "outputs": [],
   "source": [
    "history = {}"
   ]
  },
  {
   "cell_type": "code",
   "execution_count": 28,
   "metadata": {},
   "outputs": [
    {
     "name": "stdout",
     "output_type": "stream",
     "text": [
      "Epoch   0 => avg_loss: 0.005931\n",
      "#               Validation loss => 0.008505 | accuracy: 0.625551 #\n",
      "Epoch   1 => avg_loss: 0.005974\n",
      "#               Validation loss => 0.008293 | accuracy: 0.618943 #\n",
      "Epoch   2 => avg_loss: 0.005732\n",
      "#               Validation loss => 0.008434 | accuracy: 0.632159 #\n",
      "----- Best value obtained, saving model -----\n",
      "Epoch   3 => avg_loss: 0.005666\n",
      "#               Validation loss => 0.008445 | accuracy: 0.634361 #\n",
      "----- Best value obtained, saving model -----\n",
      "Epoch   4 => avg_loss: 0.005776\n",
      "#               Validation loss => 0.008409 | accuracy: 0.627753 #\n",
      "Epoch   5 => avg_loss: 0.005795\n",
      "#               Validation loss => 0.008347 | accuracy: 0.623348 #\n",
      "Epoch   6 => avg_loss: 0.005662\n",
      "#               Validation loss => 0.008494 | accuracy: 0.638767 #\n",
      "----- Best value obtained, saving model -----\n",
      "Epoch   7 => avg_loss: 0.005668\n",
      "#               Validation loss => 0.008567 | accuracy: 0.636564 #\n",
      "Epoch   8 => avg_loss: 0.005746\n",
      "#               Validation loss => 0.008406 | accuracy: 0.636564 #\n",
      "Epoch   9 => avg_loss: 0.005635\n",
      "#               Validation loss => 0.008484 | accuracy: 0.638767 #\n",
      "Epoch  10 => avg_loss: 0.005608\n",
      "#               Validation loss => 0.008456 | accuracy: 0.632159 #\n",
      "Epoch  11 => avg_loss: 0.005452\n",
      "#               Validation loss => 0.008434 | accuracy: 0.634361 #\n",
      "Epoch  12 => avg_loss: 0.005527\n",
      "#               Validation loss => 0.008417 | accuracy: 0.634361 #\n",
      "Epoch  13 => avg_loss: 0.005436\n",
      "#               Validation loss => 0.008515 | accuracy: 0.638767 #\n",
      "Epoch  14 => avg_loss: 0.005337\n",
      "#               Validation loss => 0.008664 | accuracy: 0.640969 #\n",
      "----- Best value obtained, saving model -----\n",
      "Epoch  15 => avg_loss: 0.005410\n",
      "#               Validation loss => 0.008628 | accuracy: 0.640969 #\n",
      "Epoch  16 => avg_loss: 0.005417\n",
      "#               Validation loss => 0.008451 | accuracy: 0.634361 #\n",
      "Epoch  17 => avg_loss: 0.005330\n",
      "#               Validation loss => 0.008487 | accuracy: 0.634361 #\n",
      "Epoch  18 => avg_loss: 0.005363\n",
      "#               Validation loss => 0.008597 | accuracy: 0.634361 #\n",
      "Epoch  19 => avg_loss: 0.005305\n",
      "#               Validation loss => 0.008556 | accuracy: 0.640969 #\n",
      "Epoch  20 => avg_loss: 0.005269\n",
      "#               Validation loss => 0.008398 | accuracy: 0.634361 #\n",
      "Epoch  21 => avg_loss: 0.005297\n",
      "#               Validation loss => 0.008406 | accuracy: 0.636564 #\n",
      "Epoch  22 => avg_loss: 0.005292\n",
      "#               Validation loss => 0.008523 | accuracy: 0.640969 #\n",
      "Epoch  23 => avg_loss: 0.005110\n",
      "#               Validation loss => 0.008513 | accuracy: 0.649780 #\n",
      "----- Best value obtained, saving model -----\n",
      "Epoch  24 => avg_loss: 0.005098\n",
      "#               Validation loss => 0.008476 | accuracy: 0.645374 #\n",
      "Epoch  25 => avg_loss: 0.005118\n",
      "#               Validation loss => 0.008539 | accuracy: 0.640969 #\n",
      "Epoch  26 => avg_loss: 0.005032\n",
      "#               Validation loss => 0.008639 | accuracy: 0.654185 #\n",
      "----- Best value obtained, saving model -----\n",
      "Epoch  27 => avg_loss: 0.005017\n",
      "#               Validation loss => 0.008550 | accuracy: 0.643172 #\n",
      "Epoch  28 => avg_loss: 0.004821\n",
      "#               Validation loss => 0.008533 | accuracy: 0.647577 #\n",
      "Epoch  29 => avg_loss: 0.004898\n",
      "#               Validation loss => 0.008580 | accuracy: 0.647577 #\n",
      "Epoch  30 => avg_loss: 0.004858\n",
      "#               Validation loss => 0.008821 | accuracy: 0.643172 #\n",
      "Epoch  31 => avg_loss: 0.004798\n",
      "#               Validation loss => 0.008579 | accuracy: 0.640969 #\n",
      "Epoch  32 => avg_loss: 0.004822\n",
      "#               Validation loss => 0.008598 | accuracy: 0.645374 #\n",
      "Epoch  33 => avg_loss: 0.004758\n",
      "#               Validation loss => 0.008526 | accuracy: 0.647577 #\n",
      "Epoch  34 => avg_loss: 0.004909\n",
      "#               Validation loss => 0.008599 | accuracy: 0.654185 #\n",
      "Epoch  35 => avg_loss: 0.004777\n",
      "#               Validation loss => 0.008649 | accuracy: 0.647577 #\n",
      "Epoch  36 => avg_loss: 0.004793\n",
      "#               Validation loss => 0.008541 | accuracy: 0.643172 #\n",
      "Epoch  37 => avg_loss: 0.004657\n",
      "#               Validation loss => 0.008657 | accuracy: 0.647577 #\n",
      "Epoch  38 => avg_loss: 0.004604\n",
      "#               Validation loss => 0.008660 | accuracy: 0.651982 #\n",
      "Epoch  39 => avg_loss: 0.004601\n",
      "#               Validation loss => 0.008652 | accuracy: 0.649780 #\n"
     ]
    }
   ],
   "source": [
    "from stud.modelsTests.utils.Trainer_model3_transformer_simple_multilogits import Trainer_model3_transformer_simple_multilogits\n",
    "\n",
    "trainer = Trainer_model3_transformer_simple_multilogits()\n",
    "\n",
    "history = trainer.train(\n",
    "    final_model, optimizer, dataloader_train, dataloader_dev,\n",
    "    epochs=40, device=device,\n",
    "    save_best=True, \n",
    "    min_score=0.63,\n",
    "    save_path_name=os.path.join(model_dir_path, 'model3_weights_transformer_simple_multilogits_noentities.pth'),\n",
    "    saved_history=history\n",
    ")"
   ]
  },
  {
   "cell_type": "code",
   "execution_count": 29,
   "metadata": {},
   "outputs": [
    {
     "data": {
      "image/png": "[encoded data removed]",
      "text/plain": [
       "<Figure size 576x576 with 1 Axes>"
      ]
     },
     "metadata": {
      "needs_background": "light"
     },
     "output_type": "display_data"
    }
   ],
   "source": [
    "display_history(history)"
   ]
  },
  {
   "cell_type": "code",
   "execution_count": 26,
   "metadata": {},
   "outputs": [
    {
     "data": {
      "text/plain": [
       "{'id': 'validation-2',\n",
       " 'text': \"Kathleen Nott was born in Camberwell, London. Her father, Philip, was a lithographic printer, and her mother, Ellen, ran a boarding house in Brixton; Kathleen was their third daughter. She was educated at Mary Datchelor Girls' School (now closed), London, before attending King's College, London.\",\n",
       " 'pron': 'She',\n",
       " 'p_offset': 185,\n",
       " 'entity_A': 'Ellen',\n",
       " 'offset_A': 110,\n",
       " 'is_coref_A': 'FALSE',\n",
       " 'entity_B': 'Kathleen',\n",
       " 'offset_B': 150,\n",
       " 'is_coref_B': 'TRUE'}"
      ]
     },
     "execution_count": 26,
     "metadata": {},
     "output_type": "execute_result"
    }
   ],
   "source": [
    "dataset_dev.data_raw[1]"
   ]
  },
  {
   "cell_type": "code",
   "execution_count": 27,
   "metadata": {},
   "outputs": [
    {
     "name": "stdout",
     "output_type": "stream",
     "text": [
      "(('She', 185), ('Kathleen', 150))\n"
     ]
    }
   ],
   "source": [
    "print(final_model.predict(dataset_dev.data_raw[1]))"
   ]
  },
  {
   "cell_type": "code",
   "execution_count": null,
   "metadata": {},
   "outputs": [],
   "source": []
  }
 ],
 "metadata": {
  "kernelspec": {
   "display_name": "Python 3.9.12 ('nlp2022-hw3')",
   "language": "python",
   "name": "python3"
  },
  "language_info": {
   "codemirror_mode": {
    "name": "ipython",
    "version": 3
   },
   "file_extension": ".py",
   "mimetype": "text/x-python",
   "name": "python",
   "nbconvert_exporter": "python",
   "pygments_lexer": "ipython3",
   "version": "3.9.12"
  },
  "orig_nbformat": 4,
  "vscode": {
   "interpreter": {
    "hash": "1f736fa57697717c80caf738108553872322bbbec02a6cb9049e8f17a4d9a2aa"
   }
  }
 },
 "nbformat": 4,
 "nbformat_minor": 2
}
