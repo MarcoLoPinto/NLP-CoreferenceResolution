{
 "cells": [
  {
   "cell_type": "code",
   "execution_count": 37,
   "metadata": {},
   "outputs": [],
   "source": [
    "import torch\n",
    "from transformers import AutoModel, AutoTokenizer, BigBirdForQuestionAnswering, BigBirdTokenizer, AutoModelForQuestionAnswering, pipeline"
   ]
  },
  {
   "cell_type": "code",
   "execution_count": 55,
   "metadata": {},
   "outputs": [],
   "source": [
    "import sys\n",
    "sys.path.append('../../../')\n",
    "from stud.modelsTests.utils.print_infos import print_summary, display_history, plot_confusion_matrix, print_classification_report"
   ]
  },
  {
   "cell_type": "code",
   "execution_count": 32,
   "metadata": {},
   "outputs": [],
   "source": [
    "# model_id = \"vasudevgupta/bigbird-roberta-natural-questions\"\n",
    "model_id = \"deepset/roberta-base-squad2\"\n",
    "model = AutoModelForQuestionAnswering.from_pretrained(model_id)\n",
    "tokenizer = AutoTokenizer.from_pretrained(model_id)"
   ]
  },
  {
   "cell_type": "code",
   "execution_count": 38,
   "metadata": {},
   "outputs": [],
   "source": [
    "pipeline_model = pipeline('question-answering', model=model_id, tokenizer=model_id)"
   ]
  },
  {
   "cell_type": "code",
   "execution_count": 42,
   "metadata": {},
   "outputs": [],
   "source": [
    "def answer_question_coref(sentence,pron,possible_coref):\n",
    "    tokenized_input = tokenizer(f\"{pron}\", sentence, return_tensors=\"pt\")\n",
    "    with torch.no_grad():\n",
    "        outputs = model(**tokenized_input)\n",
    "        return outputs\n",
    "        print(outputs)\n",
    "    answer_start_index = outputs.start_logits.argmax()\n",
    "    answer_end_index = outputs.end_logits.argmax()\n",
    "\n",
    "    answer = (None, possible_coref)\n",
    "\n",
    "    if answer_end_index + 1 - answer_start_index <= 5:\n",
    "        predict_answer_tokens = tokenized_input.input_ids[0, answer_start_index : answer_end_index + 1]\n",
    "        answer_model = tokenizer.decode(predict_answer_tokens)\n",
    "\n",
    "        answer = (answer_model, possible_coref)\n",
    "\n",
    "    return answer\n",
    "\n",
    "def answer_pipeline_coref(sentence,pron,possible_coref):\n",
    "    input = {\n",
    "        'question': pron,\n",
    "        'context': sentence,\n",
    "    }\n",
    "    outputs = pipeline_model(input)\n",
    "\n",
    "    return (outputs,possible_coref)"
   ]
  },
  {
   "cell_type": "code",
   "execution_count": 34,
   "metadata": {},
   "outputs": [],
   "source": [
    "import csv\n",
    "def read_dataset(file_path):\n",
    "    data = []\n",
    "    with open(file_path) as file:\n",
    "        tsv_file = csv.reader(file, delimiter=\"\\t\")\n",
    "        for sample in tsv_file:\n",
    "            if sample[3] == 'Pronoun-offset':\n",
    "                continue\n",
    "            data_row = {\n",
    "                'id': sample[0], \n",
    "                'text': sample[1], \n",
    "                'pron': sample[2], 'p_offset': int(sample[3]), \n",
    "            }\n",
    "            if sample[6] == 'TRUE':\n",
    "                data_row['entity'] = sample[4]\n",
    "            elif sample[9] == 'TRUE':\n",
    "                data_row['entity'] = sample[7]\n",
    "            else:\n",
    "                data_row['entity'] = None\n",
    "            data.append(data_row)\n",
    "    return data\n",
    "\n",
    "data_test = read_dataset('../../../../data/dev.tsv')"
   ]
  },
  {
   "cell_type": "code",
   "execution_count": 35,
   "metadata": {},
   "outputs": [
    {
     "data": {
      "text/plain": [
       "{'id': 'validation-2',\n",
       " 'text': \"Kathleen Nott was born in Camberwell, London. Her father, Philip, was a lithographic printer, and her mother, Ellen, ran a boarding house in Brixton; Kathleen was their third daughter. She was educated at Mary Datchelor Girls' School (now closed), London, before attending King's College, London.\",\n",
       " 'pron': 'She',\n",
       " 'p_offset': 185,\n",
       " 'entity': 'Kathleen'}"
      ]
     },
     "execution_count": 35,
     "metadata": {},
     "output_type": "execute_result"
    }
   ],
   "source": [
    "data_test[1]"
   ]
  },
  {
   "cell_type": "code",
   "execution_count": 40,
   "metadata": {},
   "outputs": [
    {
     "data": {
      "text/plain": [
       "({'score': 0.0008882174151949584,\n",
       "  'start': 150,\n",
       "  'end': 183,\n",
       "  'answer': 'Kathleen was their third daughter'},\n",
       " 'Kathleen')"
      ]
     },
     "execution_count": 40,
     "metadata": {},
     "output_type": "execute_result"
    }
   ],
   "source": [
    "id_n = 1\n",
    "answer_pipeline_coref(data_test[id_n]['text'], data_test[id_n]['pron'], data_test[id_n]['entity'])"
   ]
  },
  {
   "cell_type": "code",
   "execution_count": 43,
   "metadata": {},
   "outputs": [],
   "source": [
    "dwada = answer_question_coref(data_test[id_n]['text'], data_test[id_n]['pron'], data_test[id_n]['entity'])"
   ]
  },
  {
   "cell_type": "code",
   "execution_count": 46,
   "metadata": {},
   "outputs": [
    {
     "data": {
      "text/plain": [
       "QuestionAnsweringModelOutput(loss=None, start_logits=tensor([[ 0.2113, -6.9608, -8.9482, -9.2454, -2.9486, -5.5707, -7.1608, -5.9401,\n",
       "         -7.9667, -7.3378, -6.0768, -7.8847, -5.5627, -8.3789, -8.1483, -8.1586,\n",
       "         -4.8637, -7.0746, -6.1378, -5.7220, -8.5980, -4.6735, -8.9260, -7.9592,\n",
       "         -7.1347, -6.2822, -8.3666, -5.4385, -9.0219, -8.1133, -6.1346, -5.9671,\n",
       "         -8.9614, -4.6513, -9.1758, -7.5530, -8.0446, -7.1105, -8.5883, -8.2964,\n",
       "         -6.0017, -7.8218, -7.1155, -2.9285, -7.4679, -5.7129, -4.6358, -5.7354,\n",
       "         -7.0751, -4.2725, -6.8378, -6.5235, -8.3858, -4.0208, -6.1957, -7.5050,\n",
       "         -8.0050, -6.6290, -8.8395, -7.2864, -7.8868, -8.0800, -8.0854, -8.4041,\n",
       "         -5.5269, -8.7176, -7.4721, -6.9913, -4.1658, -8.4755, -7.3071, -8.7859,\n",
       "         -5.4515, -7.0750, -9.0985]]), end_logits=tensor([[ 0.5932, -8.2112, -8.2273, -8.5653, -7.8470, -7.8072, -3.9050, -8.2495,\n",
       "         -3.3142, -8.0263, -5.9013, -8.3137, -8.6883, -8.3963, -4.7972, -7.2745,\n",
       "         -3.0602, -3.0136, -7.1119, -6.5159, -7.8837, -4.9029, -7.5152, -8.6999,\n",
       "         -8.9703, -8.6916, -7.8115, -4.4118, -5.9442, -7.6055, -8.0966, -6.3030,\n",
       "         -7.9188, -4.8419, -7.1420, -8.4986, -8.6535, -8.3238, -6.1945, -8.6282,\n",
       "         -8.0146, -4.5935, -5.8768, -4.2096, -8.3563, -7.5618, -6.1382, -2.8286,\n",
       "         -3.0131, -7.0081, -8.6561, -7.2091, -8.0322, -7.5758, -8.2664, -7.8927,\n",
       "         -5.8591, -6.5240, -7.5985, -4.0148, -8.3253, -8.8434, -7.4233, -6.5301,\n",
       "         -3.8391, -5.1216, -7.7450, -8.0731, -7.3426, -7.6289, -5.0095, -6.8378,\n",
       "         -2.2093, -3.0131, -8.2871]]), hidden_states=None, attentions=None)"
      ]
     },
     "execution_count": 46,
     "metadata": {},
     "output_type": "execute_result"
    }
   ],
   "source": [
    "dwada"
   ]
  },
  {
   "cell_type": "code",
   "execution_count": 52,
   "metadata": {},
   "outputs": [
    {
     "data": {
      "text/plain": [
       "tensor(0)"
      ]
     },
     "execution_count": 52,
     "metadata": {},
     "output_type": "execute_result"
    }
   ],
   "source": [
    "torch.nn.Softmax(dim=-1)(dwada.start_logits).argmax()"
   ]
  },
  {
   "cell_type": "code",
   "execution_count": 53,
   "metadata": {},
   "outputs": [
    {
     "data": {
      "text/plain": [
       "tensor(0)"
      ]
     },
     "execution_count": 53,
     "metadata": {},
     "output_type": "execute_result"
    }
   ],
   "source": [
    "torch.nn.Softmax(dim=-1)(dwada.end_logits).argmax()"
   ]
  },
  {
   "cell_type": "code",
   "execution_count": 21,
   "metadata": {},
   "outputs": [],
   "source": [
    "answesds = []\n",
    "for e in data_test:\n",
    "    answesds.append( answer_question_coref(e['text'], e['pron'], e['entity']) )"
   ]
  },
  {
   "cell_type": "code",
   "execution_count": 22,
   "metadata": {},
   "outputs": [
    {
     "data": {
      "text/plain": [
       "[('', None),\n",
       " (None, 'Kathleen'),\n",
       " ('Kaleo', 'Danny'),\n",
       " (None, 'Reucassel'),\n",
       " (None, 'Beryl Markham'),\n",
       " ('', 'Jos* Alvarez'),\n",
       " (None, 'Faik Pasha'),\n",
       " (None, 'Jake Burns'),\n",
       " (None, 'Cowan'),\n",
       " (None, 'Beverley Callard'),\n",
       " (None, 'Kallergis'),\n",
       " (None, 'Nicole'),\n",
       " (None, 'Queen'),\n",
       " (None, 'Michael Kidd'),\n",
       " (None, 'Herring'),\n",
       " ('', 'Wright'),\n",
       " ('', 'Robert Fripp'),\n",
       " (None, 'Lenin'),\n",
       " (None, 'Andy'),\n",
       " ('Grassdale', 'David W. Taylor'),\n",
       " (None, 'Joe Christmas'),\n",
       " ('', 'Hicks'),\n",
       " (None, 'Bonavia'),\n",
       " ('', 'Marcia'),\n",
       " (None, 'Martin O*Malley'),\n",
       " (None, 'Shahjahan'),\n",
       " (None, 'Sheikh Isa Qassim'),\n",
       " (None, 'Wade'),\n",
       " ('', 'Haqqani'),\n",
       " (None, 'Wozniak'),\n",
       " (None, 'Thomas Coats'),\n",
       " (None, 'Mark Wright'),\n",
       " (None, 'Clarence Doust'),\n",
       " (None, 'Albert Blithe'),\n",
       " (None, 'Arun'),\n",
       " (None, 'Novak'),\n",
       " (None, 'Bawa Ardalan'),\n",
       " (None, 'Hamza Aziz'),\n",
       " (None, 'Kelder'),\n",
       " (None, 'Paul'),\n",
       " (None, 'George William'),\n",
       " (None, 'Sadiq Khan'),\n",
       " ('', 'Nicole'),\n",
       " ('', 'Walter Freeman'),\n",
       " (None, 'Beryl Agnes Farry'),\n",
       " ('', 'Ilves'),\n",
       " (None, 'Lateesha'),\n",
       " (None, 'Luigi Infantino'),\n",
       " ('', 'Elizabeth'),\n",
       " (None, 'Nash Turner'),\n",
       " (None, 'Philbrook'),\n",
       " (None, 'Duke'),\n",
       " (None, 'Stepinac'),\n",
       " (None, 'Simon'),\n",
       " (None, 'Kristy Puchko'),\n",
       " (None, 'Brian Bosworth'),\n",
       " ('1951', 'Clyde Lovellette'),\n",
       " (None, 'Colin'),\n",
       " (None, 'Patrick Bridgwater'),\n",
       " (None, 'Ricardo Rocha'),\n",
       " (None, 'Jacob'),\n",
       " (None, 'Aiko'),\n",
       " (None, 'Houllier'),\n",
       " ('', None),\n",
       " (None, 'Edith Jessie Graydon'),\n",
       " (None, 'Alan'),\n",
       " (None, 'Bill Forsyth'),\n",
       " ('Ian Harding', 'Ezra'),\n",
       " ('', 'John James'),\n",
       " (None, 'Austria'),\n",
       " (None, 'Peter King'),\n",
       " (None, 'Matilda'),\n",
       " (None, 'Aparna'),\n",
       " (None, None),\n",
       " (None, 'Bynum'),\n",
       " ('', 'Chris Jericho'),\n",
       " (None, 'Franklin D. Roosevelt'),\n",
       " (None, 'Hung Vanngo'),\n",
       " ('', 'Chernow'),\n",
       " (None, 'Diaz-Twine'),\n",
       " (None, None),\n",
       " (None, 'Downey'),\n",
       " (None, None),\n",
       " (None, 'Jonathan Foyle'),\n",
       " (None, 'Hall'),\n",
       " (None, 'Wilkins'),\n",
       " (None, 'Brown'),\n",
       " (None, 'Jenkins'),\n",
       " (None, 'Chenier'),\n",
       " ('Hans', 'John Huntington'),\n",
       " (None, 'Jim Dowson'),\n",
       " (None, 'Reshammiya'),\n",
       " ('Attack on Titan', None),\n",
       " (None, 'Mulder'),\n",
       " ('Johann Michael Voltz', 'Voltz'),\n",
       " (None, 'Drucker'),\n",
       " (None, None),\n",
       " (None, None),\n",
       " (None, 'Hibbert'),\n",
       " (None, 'Billy Hancock'),\n",
       " (None, 'Dunlap'),\n",
       " (None, None),\n",
       " (None, 'Swami Brahmanand ji Bhuriwale'),\n",
       " (None, 'Owings'),\n",
       " ('', 'Schr*der'),\n",
       " ('', 'Newton'),\n",
       " (None, 'Thierry Henry'),\n",
       " ('Down the Road', 'Morrison'),\n",
       " ('Alma Vivian Powell', None),\n",
       " ('', 'Larson'),\n",
       " ('', None),\n",
       " (None, 'Elizabeth Bennet'),\n",
       " ('', 'Davis'),\n",
       " (None, 'Simmons'),\n",
       " (None, 'Byron'),\n",
       " (None, 'William Ruhlmann'),\n",
       " (None, 'Balogh'),\n",
       " (None, 'Bernays'),\n",
       " (None, 'Romeo'),\n",
       " ('', 'Ludwig von Welden'),\n",
       " (None, 'Chris'),\n",
       " (None, 'Johnstone'),\n",
       " (None, None),\n",
       " ('', 'Hoiby'),\n",
       " (None, 'Sarah Goodman'),\n",
       " (None, 'Basil Talbot'),\n",
       " (None, 'Alice'),\n",
       " (None, 'Shunsuke Masaki'),\n",
       " (None, None),\n",
       " (None, 'Sarah'),\n",
       " ('', 'Shin'),\n",
       " (None, 'Buffy Summers'),\n",
       " ('', None),\n",
       " (None, 'Nobbs'),\n",
       " (None, 'Neil'),\n",
       " (None, 'Jenny'),\n",
       " (None, 'Michael'),\n",
       " ('Jennifer Jayne', 'Jennifer Jayne'),\n",
       " (None, 'Felicia Hemans'),\n",
       " (None, 'George Crook'),\n",
       " (None, 'Esther'),\n",
       " (None, None),\n",
       " (None, None),\n",
       " (None, 'Saddam Hussein'),\n",
       " (None, 'Mitchell'),\n",
       " (None, 'Smith'),\n",
       " (None, 'Hansen'),\n",
       " (None, 'Derek'),\n",
       " (None, 'Samantha'),\n",
       " ('Sarah Greyson', 'Abram'),\n",
       " (None, None),\n",
       " (None, 'Julie'),\n",
       " (None, 'Barbara'),\n",
       " ('', 'Vile'),\n",
       " (None, 'Yvette Espinosa'),\n",
       " (None, 'Monica'),\n",
       " (None, 'Imran Aslam'),\n",
       " ('Sachi Aguma', 'Madoka'),\n",
       " (None, 'Miss Dix'),\n",
       " (None, 'Williams'),\n",
       " (None, 'Gibbons'),\n",
       " ('', 'Coudert'),\n",
       " ('Peter Deming', 'Williamson'),\n",
       " ('', 'Sheridan'),\n",
       " (None, 'Catherine Charlotte De la Gardie'),\n",
       " (None, None),\n",
       " (None, 'Lois Davidson'),\n",
       " (None, None),\n",
       " ('', 'McGowan'),\n",
       " (None, 'Anne Baber'),\n",
       " (None, 'Koehler'),\n",
       " ('', 'Vivian'),\n",
       " ('', 'Lizzie'),\n",
       " (None, 'Coburn'),\n",
       " ('Grunhilda', 'Elena'),\n",
       " ('', 'Halfpenny'),\n",
       " (None, 'Gerald'),\n",
       " (None, 'Lisa'),\n",
       " (None, 'Erin'),\n",
       " (None, 'Mathilde'),\n",
       " (None, 'Amnon'),\n",
       " (None, 'Whitney'),\n",
       " ('', None),\n",
       " ('', 'Ingrid'),\n",
       " (None, 'Rafe'),\n",
       " (None, 'Adi'),\n",
       " (None, 'Cao Cao'),\n",
       " (None, None),\n",
       " ('', 'Polly'),\n",
       " ('', None),\n",
       " (None, 'Horn'),\n",
       " (None, 'Takemitsu'),\n",
       " ('', 'Helgenberger'),\n",
       " (None, 'Richie'),\n",
       " (None, 'Allison'),\n",
       " (None, 'Adria'),\n",
       " (None, None),\n",
       " (None, 'Brent'),\n",
       " (None, 'Carol'),\n",
       " (None, None),\n",
       " (None, 'Rita'),\n",
       " (None, 'Danielle'),\n",
       " (None, None),\n",
       " ('', 'Lena'),\n",
       " ('', 'Hayato'),\n",
       " (None, 'Veronica'),\n",
       " (None, 'Arthur'),\n",
       " (None, 'Thor'),\n",
       " ('', 'Stiles'),\n",
       " (None, 'Finch Hatton'),\n",
       " ('', None),\n",
       " (None, 'Kate'),\n",
       " (None, 'Edith'),\n",
       " (None, 'Hendrix'),\n",
       " (None, 'Margaret Hudson'),\n",
       " ('', 'Addams'),\n",
       " (None, 'Michael'),\n",
       " (None, 'Carrie'),\n",
       " (None, 'Silverman'),\n",
       " (None, 'Cuthbert'),\n",
       " (None, 'Phyllis Kirk'),\n",
       " (None, 'Blaine'),\n",
       " ('', 'Helen Caldicott'),\n",
       " ('', 'Audrey'),\n",
       " (None, 'Barbara Franklin'),\n",
       " (None, 'David'),\n",
       " ('', 'Deangelo'),\n",
       " (None, 'Elizabeth'),\n",
       " (None, 'George'),\n",
       " ('', 'Milla'),\n",
       " (None, None),\n",
       " (None, 'Betts'),\n",
       " ('', 'Jane'),\n",
       " (None, 'Seemayer'),\n",
       " (None, 'Pam'),\n",
       " (None, 'Zoya'),\n",
       " ('', 'Don'),\n",
       " (None, 'Paula Fox'),\n",
       " (None, 'Elizabeth'),\n",
       " (None, 'Victoria'),\n",
       " (None, 'Katherine Hilbery'),\n",
       " (None, 'Roddy McDowall'),\n",
       " (None, None),\n",
       " (None, 'Amit'),\n",
       " ('', 'Bonnie'),\n",
       " (None, 'Jenna Fischer'),\n",
       " (None, 'James'),\n",
       " (None, 'Gee'),\n",
       " ('The Parent Trap II', 'Nikki'),\n",
       " (None, None),\n",
       " ('', 'Amanda'),\n",
       " (None, 'Georgiana'),\n",
       " ('Colin', 'Ian Embleton'),\n",
       " (None, 'Cavanaugh'),\n",
       " (None, 'Alexandra'),\n",
       " (None, 'Carl von Linn*'),\n",
       " (None, 'Pamela Anderson'),\n",
       " (None, 'Don'),\n",
       " ('Margaret', 'Margaret'),\n",
       " (None, 'Isabella'),\n",
       " (None, 'Leanne'),\n",
       " (None, 'Ruhnken'),\n",
       " (None, 'Sherry Thomas'),\n",
       " (None, 'Elizabeth'),\n",
       " (None, 'Kristin'),\n",
       " (None, 'Betsy'),\n",
       " (None, 'Amelia'),\n",
       " ('9th.', 'van de Poele'),\n",
       " (None, 'Rischer'),\n",
       " (None, None),\n",
       " (None, 'Aiko'),\n",
       " (None, 'Poirot'),\n",
       " (None, 'Czar Nicholas II of Russia'),\n",
       " ('', 'Josh'),\n",
       " (None, 'Jude'),\n",
       " (None, None),\n",
       " (None, 'Deol'),\n",
       " (None, 'Tommy'),\n",
       " ('', 'Hodgson'),\n",
       " ('', 'Gladys'),\n",
       " (None, 'Steve'),\n",
       " ('', 'Liljeberg'),\n",
       " (None, 'Kinkladze'),\n",
       " ('', 'Ames'),\n",
       " (None, 'Brent'),\n",
       " (None, 'McCormick'),\n",
       " ('', 'Bony'),\n",
       " (None, None),\n",
       " (None, 'Aiko'),\n",
       " (None, 'Nora'),\n",
       " (None, 'Rose McGowan'),\n",
       " (None, 'Ellie'),\n",
       " (None, 'Neef'),\n",
       " (None, 'Tamara'),\n",
       " (None, 'Linda'),\n",
       " (None, 'Julie'),\n",
       " (None, 'Shivaji'),\n",
       " ('Bart Got a Room', 'Dinah Manoff'),\n",
       " (None, 'Edward'),\n",
       " ('', 'Bateman'),\n",
       " (None, None),\n",
       " (None, 'Barbara'),\n",
       " ('', 'Laura'),\n",
       " (None, 'Hilson'),\n",
       " (None, 'Kitty'),\n",
       " (None, 'Mary Christian'),\n",
       " (None, 'Lord Shiva'),\n",
       " (None, 'Taylor'),\n",
       " (None, 'Wilhelm Broeffel'),\n",
       " (None, 'Mariya'),\n",
       " (None, 'General Revil'),\n",
       " (None, 'Emer Gwynne Morganna Kenny'),\n",
       " (None, 'DelaCerna'),\n",
       " (None, 'Danielle'),\n",
       " (None, 'Bianchi'),\n",
       " ('', 'Sannikov'),\n",
       " (None, 'Waldo'),\n",
       " (None, 'Bunn'),\n",
       " (None, None),\n",
       " (None, 'Douglas-Home'),\n",
       " ('', 'Stiles'),\n",
       " (None, 'Brenda'),\n",
       " (None, 'George Thorn'),\n",
       " ('', 'Fara'),\n",
       " (None, 'Connie'),\n",
       " (None, 'Sally'),\n",
       " (None, 'Womack'),\n",
       " (None, 'Daenerys'),\n",
       " (None, None),\n",
       " (None, 'Elizabeth'),\n",
       " (None, 'Lilya'),\n",
       " ('', 'Coudert'),\n",
       " (None, 'Jessica Phillips'),\n",
       " (None, 'Neha'),\n",
       " (None, 'Lily'),\n",
       " (None, 'Kristina'),\n",
       " ('Saurin', \"Mary O'Brien\"),\n",
       " (None, 'Julie'),\n",
       " (None, 'Mayakovsky'),\n",
       " (None, 'Raveena Tandon'),\n",
       " (None, 'Quinn'),\n",
       " ('', 'Grace'),\n",
       " (None, 'Grace'),\n",
       " (None, 'Sophia Fowler'),\n",
       " (None, 'Pauline'),\n",
       " (None, 'Eva'),\n",
       " (None, 'Michael'),\n",
       " ('', 'Clyde Turk'),\n",
       " (None, None),\n",
       " ('', None),\n",
       " (None, 'Matt Urban'),\n",
       " ('', 'Angie Beers'),\n",
       " (None, None),\n",
       " (None, None),\n",
       " (None, 'Nicholas Winterton'),\n",
       " (None, 'Louisa'),\n",
       " ('', 'Eva'),\n",
       " ('', 'Wene'),\n",
       " (None, 'Winston'),\n",
       " (None, 'Elena'),\n",
       " (None, None),\n",
       " (None, 'Julia Gardiner'),\n",
       " (None, None),\n",
       " ('', 'Stumpo'),\n",
       " (None, None),\n",
       " (None, 'Larry'),\n",
       " ('', 'Lily'),\n",
       " (None, None),\n",
       " (None, 'Lofgren'),\n",
       " (None, None),\n",
       " (None, 'Kallio'),\n",
       " ('The Subterraneans', 'Jack Kerouac'),\n",
       " (None, 'Sienna Guillory'),\n",
       " (None, 'Angelica'),\n",
       " (None, None),\n",
       " (None, 'Athena'),\n",
       " (None, 'Laura Widmer'),\n",
       " (None, None),\n",
       " (None, 'Adria'),\n",
       " (None, 'Bourchier'),\n",
       " (None, None),\n",
       " (None, 'Hands'),\n",
       " (None, 'Shogo'),\n",
       " (None, 'Angela Warren'),\n",
       " (None, None),\n",
       " (None, 'Nick'),\n",
       " (None, 'Mack'),\n",
       " (None, 'Gail'),\n",
       " (None, 'Donna'),\n",
       " ('', 'Hildebrandt'),\n",
       " (None, 'Ivar'),\n",
       " ('', 'Gless'),\n",
       " ('', 'Gwen'),\n",
       " ('', 'Bischoff'),\n",
       " (None, None),\n",
       " (None, 'Finnie'),\n",
       " ('', 'Mimi'),\n",
       " ('', 'Scott'),\n",
       " (None, 'Izzie'),\n",
       " (None, 'Lucy'),\n",
       " (None, None),\n",
       " (None, 'Johnstone'),\n",
       " ('', 'Ab-Soul'),\n",
       " (None, 'Oscar'),\n",
       " ('', 'Benjamin Redekop'),\n",
       " (None, None),\n",
       " (None, 'Blackwell'),\n",
       " (None, 'Pierson'),\n",
       " ('', 'Reiko'),\n",
       " ('', 'Mimi'),\n",
       " (None, 'Irina'),\n",
       " (None, 'Katherine Howard'),\n",
       " (None, 'Miller'),\n",
       " (None, None),\n",
       " (None, 'Larson'),\n",
       " ('', None),\n",
       " ('', None),\n",
       " (None, 'Hilson'),\n",
       " (None, 'John Bockris'),\n",
       " (None, 'Kaye Tucker'),\n",
       " ('', 'Lori'),\n",
       " (None, 'Amelia'),\n",
       " (None, 'Amanda'),\n",
       " (None, None),\n",
       " (None, None),\n",
       " (None, 'Nicholas Harris'),\n",
       " (None, 'Andy'),\n",
       " (None, 'Mary'),\n",
       " (None, 'Neal'),\n",
       " (None, 'Ethel Tweedie'),\n",
       " (None, None),\n",
       " (None, None),\n",
       " (None, 'Wanda Woman'),\n",
       " (None, 'Berberian'),\n",
       " (None, 'Natalie'),\n",
       " (None, 'Spelman'),\n",
       " ('', None),\n",
       " (None, 'Lisicki'),\n",
       " (None, 'Hands'),\n",
       " (None, 'Jack'),\n",
       " (None, 'Cay Rivvers'),\n",
       " (None, 'Lofgren'),\n",
       " ('', 'David'),\n",
       " (None, 'Bellamacina'),\n",
       " (None, 'Rollo'),\n",
       " ('', 'Rankin'),\n",
       " ('', 'Peggy'),\n",
       " (None, None),\n",
       " (None, 'Gertrude'),\n",
       " ('', None),\n",
       " (None, None),\n",
       " (None, 'Alice'),\n",
       " (None, 'Miss Millo'),\n",
       " ('', 'Vassey')]"
      ]
     },
     "execution_count": 22,
     "metadata": {},
     "output_type": "execute_result"
    }
   ],
   "source": [
    "answesds"
   ]
  },
  {
   "cell_type": "code",
   "execution_count": 3,
   "metadata": {},
   "outputs": [
    {
     "data": {
      "text/plain": [
       "\"[CLS] her[SEP] Twenty years ago, Lorenzo Uribe discovered true love with Maria Herrera and began a romance. Lorenzo was rich, married, and had a young son: Lautaro. Maria was poor and unknown to Lorenzo, had a daughter called Renata. Maria's mother, Gracia, wanted her daughter to catch this rich man at all costs and convinced her that pregnancy would assure this.[SEP]\""
      ]
     },
     "execution_count": 3,
     "metadata": {},
     "output_type": "execute_result"
    }
   ],
   "source": [
    "sentence = \"Twenty years ago, Lorenzo Uribe discovered true love with Maria Herrera and began a romance. Lorenzo was rich, married, and had a young son: Lautaro. Maria was poor and unknown to Lorenzo, had a daughter called Renata. Maria's mother, Gracia, wanted her daughter to catch this rich man at all costs and convinced her that pregnancy would assure this.\"\n",
    "question = \"her\"\n",
    "\n",
    "tokenized_input = tokenizer(question, sentence, return_tensors=\"pt\")\n",
    "tokenizer.decode(tokenizer.encode(question, sentence, return_tensors=\"pt\")[0])"
   ]
  },
  {
   "cell_type": "code",
   "execution_count": 4,
   "metadata": {},
   "outputs": [
    {
     "data": {
      "text/plain": [
       "{'input_ids': tensor([[   65,   708,    66, 22482,   913,  2185,   112, 41822,   572,  4993,\n",
       "          5172,  2182,  1943,   452, 14301, 46609,   391,  2641,   358, 19762,\n",
       "           114, 41822,   474,  5628,   112,  6506,   112,   391,   651,   358,\n",
       "          1963,  3468,   126,   507,  2407, 12123,   114, 14301,   474,  3696,\n",
       "           391,  6540,   385, 41822,   112,   651,   358,  5058,  1545,  7253,\n",
       "          1146,   114, 14301,   439,  2903,   112,  2003, 47532,   112,  2328,\n",
       "           708,  5058,   385,  5030,   529,  5628,   683,   480,   578,  3585,\n",
       "           391,  9532,   708,   427, 10342,   662, 19933,   529,   114,    66]]), 'attention_mask': tensor([[1, 1, 1, 1, 1, 1, 1, 1, 1, 1, 1, 1, 1, 1, 1, 1, 1, 1, 1, 1, 1, 1, 1, 1,\n",
       "         1, 1, 1, 1, 1, 1, 1, 1, 1, 1, 1, 1, 1, 1, 1, 1, 1, 1, 1, 1, 1, 1, 1, 1,\n",
       "         1, 1, 1, 1, 1, 1, 1, 1, 1, 1, 1, 1, 1, 1, 1, 1, 1, 1, 1, 1, 1, 1, 1, 1,\n",
       "         1, 1, 1, 1, 1, 1, 1, 1]])}"
      ]
     },
     "execution_count": 4,
     "metadata": {},
     "output_type": "execute_result"
    }
   ],
   "source": [
    "tokenized_input"
   ]
  },
  {
   "cell_type": "code",
   "execution_count": 5,
   "metadata": {},
   "outputs": [
    {
     "name": "stderr",
     "output_type": "stream",
     "text": [
      "Attention type 'block_sparse' is not possible if sequence_length: 80 <= num global tokens: 2 * config.block_size + min. num sliding tokens: 3 * config.block_size + config.num_random_blocks * config.block_size + additional buffer: config.num_random_blocks * config.block_size = 704 with config.block_size = 64, config.num_random_blocks = 3. Changing attention type to 'original_full'...\n"
     ]
    }
   ],
   "source": [
    "with torch.no_grad():\n",
    "    outputs = model(**tokenized_input)"
   ]
  },
  {
   "cell_type": "code",
   "execution_count": 6,
   "metadata": {},
   "outputs": [
    {
     "data": {
      "text/plain": [
       "'Maria Herrera'"
      ]
     },
     "execution_count": 6,
     "metadata": {},
     "output_type": "execute_result"
    }
   ],
   "source": [
    "answer_start_index = outputs.start_logits.argmax()\n",
    "answer_end_index = outputs.end_logits.argmax()\n",
    "predict_answer_tokens = tokenized_input.input_ids[0, answer_start_index : answer_end_index + 1]\n",
    "tokenizer.decode(predict_answer_tokens)"
   ]
  },
  {
   "cell_type": "code",
   "execution_count": 7,
   "metadata": {},
   "outputs": [
    {
     "data": {
      "text/plain": [
       "80"
      ]
     },
     "execution_count": 7,
     "metadata": {},
     "output_type": "execute_result"
    }
   ],
   "source": [
    "len(tokenized_input.input_ids[0])"
   ]
  },
  {
   "cell_type": "code",
   "execution_count": null,
   "metadata": {},
   "outputs": [],
   "source": []
  }
 ],
 "metadata": {
  "kernelspec": {
   "display_name": "Python 3.9.12 ('nlp2022-hw3')",
   "language": "python",
   "name": "python3"
  },
  "language_info": {
   "codemirror_mode": {
    "name": "ipython",
    "version": 3
   },
   "file_extension": ".py",
   "mimetype": "text/x-python",
   "name": "python",
   "nbconvert_exporter": "python",
   "pygments_lexer": "ipython3",
   "version": "3.9.12"
  },
  "orig_nbformat": 4,
  "vscode": {
   "interpreter": {
    "hash": "1f736fa57697717c80caf738108553872322bbbec02a6cb9049e8f17a4d9a2aa"
   }
  }
 },
 "nbformat": 4,
 "nbformat_minor": 2
}
